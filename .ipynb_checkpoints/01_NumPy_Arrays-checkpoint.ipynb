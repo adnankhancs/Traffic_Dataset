{
 "cells": [
  {
   "cell_type": "markdown",
   "metadata": {
    "id": "Vku4is1GeGeV"
   },
   "source": [
    "# NumPy\n",
    "\n",
    "NumPy (or Numpy) is a Linear Algebra Library for Python, the reason it is so important for Data Science with Python is that almost all of the libraries in the PyData Ecosystem rely on NumPy as one of their main building blocks.\n",
    "\n",
    "Numpy is also incredibly fast, as it has bindings to C Programming. For more info on why you would want to use Arrays instead of lists, check out this great [StackOverflow post](http://stackoverflow.com/questions/993984/why-numpy-instead-of-python-lists).\n",
    "\n",
    "We will only learn the basics of NumPy, to get started we need to install it!"
   ]
  },
  {
   "cell_type": "markdown",
   "metadata": {
    "id": "AwzWytfLeGeY"
   },
   "source": [
    "## Using NumPy\n",
    "\n",
    "Once you've installed NumPy you can import it as a library:"
   ]
  },
  {
   "cell_type": "code",
   "execution_count": 1,
   "metadata": {
    "id": "rEcAXEC0eGeY"
   },
   "outputs": [],
   "source": [
    "import numpy as np\n",
    "#pip install Numpy"
   ]
  },
  {
   "cell_type": "markdown",
   "metadata": {
    "id": "bSv_IsqueGeZ"
   },
   "source": [
    "Numpy has many built-in functions and capabilities. We won't cover them all but instead we will focus on some of the most important aspects of Numpy: vectors,arrays,matrices, and number generation. Let's start by discussing arrays.\n",
    "\n",
    "# Numpy Arrays\n",
    "\n",
    "NumPy arrays are the main way we will use Numpy throughout the course. Numpy arrays essentially come in two flavors: vectors and matrices. Vectors are strictly 1-d arrays and matrices are 2-d (but you should note a matrix can still have only one row or one column).\n",
    "\n",
    "Let's begin our introduction by exploring how to create NumPy arrays.\n",
    "\n",
    "## Creating NumPy Arrays\n",
    "\n",
    "### From a Python List\n",
    "\n",
    "We can create an array by directly converting a list or list of lists:"
   ]
  },
  {
   "cell_type": "code",
   "execution_count": null,
   "metadata": {
    "id": "COli5izkeGeZ"
   },
   "outputs": [],
   "source": [
    "star=[1,2,3,4.4]\n",
    "star\n",
    "type(star)"
   ]
  },
  {
   "cell_type": "code",
   "execution_count": null,
   "metadata": {
    "id": "-ck48qK8eGeZ"
   },
   "outputs": [],
   "source": [
    "x=np.array(star)\n",
    "type(x)\n",
    "x.dtype\n",
    "#In case of array objects please use dtype method, it discovers all the info about\n",
    "# the array object"
   ]
  },
  {
   "cell_type": "code",
   "execution_count": null,
   "metadata": {
    "id": "WOoAnKHdeGea"
   },
   "outputs": [],
   "source": [
    "r=np.array([\"Hi\",\"Hello\",\"Good\"])\n",
    "r.dtype\n",
    "\n",
    "t=np.array([123,123])\n",
    "t.dtype"
   ]
  },
  {
   "cell_type": "code",
   "execution_count": null,
   "metadata": {
    "id": "6jLRLleSeGea"
   },
   "outputs": [],
   "source": [
    "my_matrix = [[5,55,555],[6,66,666],[7,77,777],[8,88,888]]\n",
    "type(my_matrix)\n",
    "my_matrix"
   ]
  },
  {
   "cell_type": "code",
   "execution_count": null,
   "metadata": {
    "id": "ypn6RmmKeGea"
   },
   "outputs": [],
   "source": [
    "np.array(my_matrix)\n",
    "#Can check the code while removing any element inside the My_matrix."
   ]
  },
  {
   "cell_type": "markdown",
   "metadata": {
    "id": "-QB7jrFleGeb"
   },
   "source": [
    "## Built-in Methods\n",
    "\n",
    "There are lots of built-in ways to generate Arrays"
   ]
  },
  {
   "cell_type": "markdown",
   "metadata": {
    "id": "E9jHI25SeGeb"
   },
   "source": [
    "### arange\n",
    "\n",
    "Return evenly spaced values within a given interval."
   ]
  },
  {
   "cell_type": "code",
   "execution_count": 1,
   "metadata": {
    "id": "dKosbyF-eGeb"
   },
   "outputs": [
    {
     "data": {
      "text/plain": [
       "array([ 0,  1,  2,  3,  4,  5,  6,  7,  8,  9, 10, 11, 12, 13, 14, 15, 16,\n",
       "       17, 18, 19, 20, 21, 22, 23, 24, 25, 26, 27, 28, 29, 30, 31, 32, 33,\n",
       "       34, 35, 36, 37, 38, 39, 40, 41, 42, 43, 44, 45, 46, 47, 48, 49])"
      ]
     },
     "execution_count": 1,
     "metadata": {},
     "output_type": "execute_result"
    }
   ],
   "source": [
    "import numpy as np\n",
    "\n",
    "x=np.arange(50)\n",
    "x"
   ]
  },
  {
   "cell_type": "code",
   "execution_count": 2,
   "metadata": {
    "id": "wyKZ1jDjeGeb"
   },
   "outputs": [
    {
     "data": {
      "text/plain": [
       "array([5500, 5501, 5502, 5503, 5504, 5505, 5506, 5507, 5508, 5509, 5510,\n",
       "       5511, 5512, 5513, 5514, 5515, 5516, 5517, 5518, 5519, 5520, 5521,\n",
       "       5522, 5523, 5524, 5525, 5526, 5527, 5528, 5529, 5530, 5531, 5532,\n",
       "       5533, 5534, 5535, 5536, 5537, 5538, 5539, 5540, 5541, 5542, 5543,\n",
       "       5544, 5545, 5546, 5547, 5548, 5549, 5550])"
      ]
     },
     "execution_count": 2,
     "metadata": {},
     "output_type": "execute_result"
    }
   ],
   "source": [
    "x=np.arange(5500,5551)\n",
    "x"
   ]
  },
  {
   "cell_type": "code",
   "execution_count": 3,
   "metadata": {
    "id": "s1IiscQ0eGeb"
   },
   "outputs": [
    {
     "data": {
      "text/plain": [
       "array([100, 102, 104, 106, 108, 110, 112, 114, 116, 118, 120, 122, 124,\n",
       "       126, 128, 130, 132, 134, 136, 138, 140, 142, 144, 146, 148, 150])"
      ]
     },
     "execution_count": 3,
     "metadata": {},
     "output_type": "execute_result"
    }
   ],
   "source": [
    "#Stepping\n",
    "np.arange(100,151,2)"
   ]
  },
  {
   "cell_type": "code",
   "execution_count": 4,
   "metadata": {
    "id": "B0jkc5ToeGec"
   },
   "outputs": [
    {
     "data": {
      "text/plain": [
       "array([151, 150, 149, 148, 147, 146, 145, 144, 143, 142, 141, 140, 139,\n",
       "       138, 137, 136, 135, 134, 133, 132, 131, 130, 129, 128, 127, 126,\n",
       "       125, 124, 123, 122, 121, 120, 119, 118, 117, 116, 115, 114, 113,\n",
       "       112, 111, 110, 109, 108, 107, 106, 105, 104, 103, 102, 101])"
      ]
     },
     "execution_count": 4,
     "metadata": {},
     "output_type": "execute_result"
    }
   ],
   "source": [
    "np.arange(100,151,2)# For Simple Skipping of the elements\n",
    "np.arange(151,100,-1)# For Reverse Order"
   ]
  },
  {
   "cell_type": "markdown",
   "metadata": {
    "id": "Y1ONO_PoeGec"
   },
   "source": [
    "### zeros and ones\n",
    "\n",
    "Generate arrays of zeros or ones"
   ]
  },
  {
   "cell_type": "code",
   "execution_count": 5,
   "metadata": {
    "id": "JUtpXl5meGec",
    "outputId": "652afd54-f5e7-4601-ef47-9fe5bb958e70"
   },
   "outputs": [
    {
     "data": {
      "text/plain": [
       "array([[0, 0, 0, 0, 0, 0, 0, 0],\n",
       "       [0, 0, 0, 0, 0, 0, 0, 0],\n",
       "       [0, 0, 0, 0, 0, 0, 0, 0],\n",
       "       [0, 0, 0, 0, 0, 0, 0, 0],\n",
       "       [0, 0, 0, 0, 0, 0, 0, 0],\n",
       "       [0, 0, 0, 0, 0, 0, 0, 0],\n",
       "       [0, 0, 0, 0, 0, 0, 0, 0]])"
      ]
     },
     "execution_count": 5,
     "metadata": {},
     "output_type": "execute_result"
    }
   ],
   "source": [
    "x=np.zeros((7,8),dtype=int)\n",
    "x"
   ]
  },
  {
   "cell_type": "code",
   "execution_count": 6,
   "metadata": {
    "id": "gBbDpkV8eGec"
   },
   "outputs": [
    {
     "data": {
      "text/plain": [
       "array([[0., 0., 0., 0., 0.],\n",
       "       [0., 0., 0., 0., 0.],\n",
       "       [0., 0., 0., 0., 0.],\n",
       "       [0., 0., 0., 0., 0.],\n",
       "       [0., 0., 0., 0., 0.]])"
      ]
     },
     "execution_count": 6,
     "metadata": {},
     "output_type": "execute_result"
    }
   ],
   "source": [
    "np.zeros((5,5))"
   ]
  },
  {
   "cell_type": "code",
   "execution_count": 7,
   "metadata": {
    "id": "p4tG-prCeGec",
    "outputId": "66b0e1d7-ff5b-4266-dfa2-901ea62625df"
   },
   "outputs": [
    {
     "data": {
      "text/plain": [
       "array([[1, 1, 1, 1, 1, 1, 1, 1, 1],\n",
       "       [1, 1, 1, 1, 1, 1, 1, 1, 1],\n",
       "       [1, 1, 1, 1, 1, 1, 1, 1, 1],\n",
       "       [1, 1, 1, 1, 1, 1, 1, 1, 1],\n",
       "       [1, 1, 1, 1, 1, 1, 1, 1, 1],\n",
       "       [1, 1, 1, 1, 1, 1, 1, 1, 1],\n",
       "       [1, 1, 1, 1, 1, 1, 1, 1, 1],\n",
       "       [1, 1, 1, 1, 1, 1, 1, 1, 1]])"
      ]
     },
     "execution_count": 7,
     "metadata": {},
     "output_type": "execute_result"
    }
   ],
   "source": [
    "np.ones((8,9),dtype=int)"
   ]
  },
  {
   "cell_type": "code",
   "execution_count": 8,
   "metadata": {
    "id": "cxIZj_6ieGed"
   },
   "outputs": [
    {
     "data": {
      "text/plain": [
       "array([[1., 1., 1., 1., 1.],\n",
       "       [1., 1., 1., 1., 1.],\n",
       "       [1., 1., 1., 1., 1.],\n",
       "       [1., 1., 1., 1., 1.],\n",
       "       [1., 1., 1., 1., 1.]])"
      ]
     },
     "execution_count": 8,
     "metadata": {},
     "output_type": "execute_result"
    }
   ],
   "source": [
    "x1=np.ones((5,5))\n",
    "x1"
   ]
  },
  {
   "cell_type": "markdown",
   "metadata": {
    "id": "IWrlRYNVeGed"
   },
   "source": [
    "## eye\n",
    "\n",
    "Creates an identity matrix"
   ]
  },
  {
   "cell_type": "code",
   "execution_count": 9,
   "metadata": {
    "id": "VBw4WLjeeGed",
    "outputId": "4a937eaf-a16e-40ed-a807-ef3180eaf72b"
   },
   "outputs": [
    {
     "data": {
      "text/plain": [
       "array([[1., 0., 0., 0., 0., 0., 0., 0., 0., 0.],\n",
       "       [0., 1., 0., 0., 0., 0., 0., 0., 0., 0.],\n",
       "       [0., 0., 1., 0., 0., 0., 0., 0., 0., 0.],\n",
       "       [0., 0., 0., 1., 0., 0., 0., 0., 0., 0.],\n",
       "       [0., 0., 0., 0., 1., 0., 0., 0., 0., 0.],\n",
       "       [0., 0., 0., 0., 0., 1., 0., 0., 0., 0.],\n",
       "       [0., 0., 0., 0., 0., 0., 1., 0., 0., 0.],\n",
       "       [0., 0., 0., 0., 0., 0., 0., 1., 0., 0.],\n",
       "       [0., 0., 0., 0., 0., 0., 0., 0., 1., 0.],\n",
       "       [0., 0., 0., 0., 0., 0., 0., 0., 0., 1.]])"
      ]
     },
     "execution_count": 9,
     "metadata": {},
     "output_type": "execute_result"
    }
   ],
   "source": [
    "np.eye(10,10)"
   ]
  },
  {
   "cell_type": "code",
   "execution_count": 10,
   "metadata": {
    "id": "h8crOLFaeGed",
    "outputId": "12311e52-13bd-471b-fbda-0a0a145cdc54"
   },
   "outputs": [
    {
     "data": {
      "text/plain": [
       "array([[555,   0,   0,   0,   0,   0,   0,   0,   0,   0,   0,   0],\n",
       "       [  0, 555,   0,   0,   0,   0,   0,   0,   0,   0,   0,   0],\n",
       "       [  0,   0, 555,   0,   0,   0,   0,   0,   0,   0,   0,   0],\n",
       "       [  0,   0,   0, 555,   0,   0,   0,   0,   0,   0,   0,   0],\n",
       "       [  0,   0,   0,   0, 555,   0,   0,   0,   0,   0,   0,   0],\n",
       "       [  0,   0,   0,   0,   0, 555,   0,   0,   0,   0,   0,   0],\n",
       "       [  0,   0,   0,   0,   0,   0, 555,   0,   0,   0,   0,   0],\n",
       "       [  0,   0,   0,   0,   0,   0,   0, 555,   0,   0,   0,   0],\n",
       "       [  0,   0,   0,   0,   0,   0,   0,   0, 555,   0,   0,   0],\n",
       "       [  0,   0,   0,   0,   0,   0,   0,   0,   0, 555,   0,   0],\n",
       "       [  0,   0,   0,   0,   0,   0,   0,   0,   0,   0, 555,   0],\n",
       "       [  0,   0,   0,   0,   0,   0,   0,   0,   0,   0,   0, 555]])"
      ]
     },
     "execution_count": 10,
     "metadata": {},
     "output_type": "execute_result"
    }
   ],
   "source": [
    "np.eye(12, 12,dtype=int)*555"
   ]
  },
  {
   "cell_type": "markdown",
   "metadata": {
    "id": "Q1gkOU4beGed"
   },
   "source": [
    "## Random\n",
    "\n",
    "Numpy also has lots of ways to create random number arrays:\n",
    "\n",
    "### rand\n",
    "Create an array of the given shape and populate it with\n",
    "random samples from a uniform distribution\n",
    "over ``[0, 1)``."
   ]
  },
  {
   "cell_type": "code",
   "execution_count": null,
   "metadata": {
    "id": "XCM_GA78eGed",
    "outputId": "cbad707a-9c03-405e-fc1f-02dca18c280a"
   },
   "outputs": [
    {
     "data": {
      "text/plain": [
       "array([[0.47895996, 0.72081311, 0.81850314, 0.3655325 , 0.42591797],\n",
       "       [0.11808228, 0.22171063, 0.51289801, 0.97124356, 0.64054613],\n",
       "       [0.48342905, 0.32114681, 0.61222071, 0.17318475, 0.82718867],\n",
       "       [0.17052793, 0.27108573, 0.33880203, 0.67338381, 0.12923709],\n",
       "       [0.39786393, 0.97425005, 0.93139309, 0.14200484, 0.65399993]])"
      ]
     },
     "execution_count": 30,
     "metadata": {},
     "output_type": "execute_result"
    }
   ],
   "source": [
    "np.random.rand(5,5)"
   ]
  },
  {
   "cell_type": "code",
   "execution_count": null,
   "metadata": {
    "id": "ryJDXOV0eGed",
    "outputId": "4887464e-a488-4940-f2ea-825208005219"
   },
   "outputs": [
    {
     "data": {
      "text/plain": [
       "array([[[0.57210438, 0.07896474, 0.411057  , 0.17587666, 0.33213923],\n",
       "        [0.44368304, 0.44582341, 0.58050322, 0.55550405, 0.88440256],\n",
       "        [0.13040972, 0.61943116, 0.17195583, 0.15215536, 0.43521858]],\n",
       "\n",
       "       [[0.47421072, 0.00149028, 0.64055368, 0.43038641, 0.53413363],\n",
       "        [0.36774085, 0.28806848, 0.93752229, 0.45432175, 0.37804901],\n",
       "        [0.26042281, 0.73357157, 0.27995006, 0.96658259, 0.92604146]],\n",
       "\n",
       "       [[0.13427267, 0.45251029, 0.58171264, 0.08546988, 0.17380222],\n",
       "        [0.76013388, 0.75854339, 0.2606487 , 0.38442979, 0.37515813],\n",
       "        [0.4010727 , 0.6196098 , 0.78160124, 0.88250148, 0.87325991]],\n",
       "\n",
       "       [[0.64733514, 0.16407942, 0.19038148, 0.50905483, 0.38211119],\n",
       "        [0.93514993, 0.63949617, 0.3117079 , 0.06220386, 0.57657338],\n",
       "        [0.51348767, 0.00378916, 0.9177085 , 0.77026023, 0.09371078]],\n",
       "\n",
       "       [[0.10677329, 0.21262817, 0.86643484, 0.44635152, 0.62328819],\n",
       "        [0.15135523, 0.01595331, 0.87020575, 0.47185658, 0.05339996],\n",
       "        [0.68741707, 0.66883546, 0.62963583, 0.25961623, 0.12247486]],\n",
       "\n",
       "       [[0.65744848, 0.81160683, 0.08566458, 0.09432162, 0.40421812],\n",
       "        [0.39656745, 0.41398279, 0.31966523, 0.92432118, 0.17652736],\n",
       "        [0.16725962, 0.1445204 , 0.38533078, 0.82066967, 0.10007836]],\n",
       "\n",
       "       [[0.44835301, 0.80581256, 0.48203204, 0.84721164, 0.22965019],\n",
       "        [0.6219592 , 0.49087747, 0.7829232 , 0.12651947, 0.4163102 ],\n",
       "        [0.27959989, 0.63350624, 0.14438873, 0.49512375, 0.35162415]]])"
      ]
     },
     "execution_count": 31,
     "metadata": {},
     "output_type": "execute_result"
    }
   ],
   "source": [
    "np.random.rand(7,3,5)#(Number of individual matrixes,number of rows,number of columns)"
   ]
  },
  {
   "cell_type": "code",
   "execution_count": null,
   "metadata": {
    "id": "M0JUX-K7eGed"
   },
   "outputs": [],
   "source": [
    "#np.random.rand(5,5)\n",
    "import numpy as np"
   ]
  },
  {
   "cell_type": "markdown",
   "metadata": {
    "id": "7RjT3-2MeGed"
   },
   "source": [
    "### randint\n",
    "Return random integers from `low` (inclusive) to `high` (exclusive)."
   ]
  },
  {
   "cell_type": "code",
   "execution_count": null,
   "metadata": {
    "id": "cJjMlNNleGed",
    "outputId": "802c5681-e8e3-428d-881d-83cca0a516bb"
   },
   "outputs": [
    {
     "data": {
      "text/plain": [
       "16"
      ]
     },
     "execution_count": 67,
     "metadata": {},
     "output_type": "execute_result"
    }
   ],
   "source": [
    "np.random.randint(10,21)"
   ]
  },
  {
   "cell_type": "code",
   "execution_count": null,
   "metadata": {
    "id": "pkbz3OrieGee",
    "outputId": "05f2de82-4398-4bd3-ac0a-7489cfb53b9f"
   },
   "outputs": [
    {
     "data": {
      "text/plain": [
       "array([[69, 58, 55, 58, 61],\n",
       "       [59, 65, 54, 64, 52],\n",
       "       [61, 54, 53, 63, 64],\n",
       "       [64, 69, 65, 57, 63],\n",
       "       [58, 55, 63, 62, 68],\n",
       "       [67, 54, 65, 69, 60],\n",
       "       [64, 68, 58, 50, 50]])"
      ]
     },
     "execution_count": 88,
     "metadata": {},
     "output_type": "execute_result"
    }
   ],
   "source": [
    "np.random.randint(50,70,size=(7,5))#Matrix\n",
    "#np.random.randint(500,1000,size=(12,5))#Array"
   ]
  },
  {
   "cell_type": "code",
   "execution_count": null,
   "metadata": {
    "id": "TdJapagNeGee",
    "outputId": "fcaf7d45-cded-4a50-deef-edcf1a47283f"
   },
   "outputs": [
    {
     "data": {
      "text/plain": [
       "950"
      ]
     },
     "execution_count": 94,
     "metadata": {},
     "output_type": "execute_result"
    }
   ],
   "source": [
    "np.random.randint(500,1000)"
   ]
  },
  {
   "cell_type": "code",
   "execution_count": null,
   "metadata": {
    "id": "6Ts2W4wieGee",
    "outputId": "dfc698b7-f42e-4e8c-812f-fc7faa666451"
   },
   "outputs": [
    {
     "data": {
      "text/plain": [
       "array([[74.71080388, 70.76944293, 91.73293778],\n",
       "       [63.47818806, 65.41213734, 63.5468962 ],\n",
       "       [95.09831557, 92.16230384, 76.05985326]])"
      ]
     },
     "execution_count": 69,
     "metadata": {},
     "output_type": "execute_result"
    }
   ],
   "source": [
    "np.random.uniform(50,100,size=(3,3))"
   ]
  },
  {
   "cell_type": "code",
   "execution_count": null,
   "metadata": {
    "id": "4HL2kNJaeGee",
    "outputId": "366e4cac-6187-4407-8afe-f6b9d9108df5"
   },
   "outputs": [
    {
     "data": {
      "text/plain": [
       "array([[ 57, 125],\n",
       "       [ 86,  67],\n",
       "       [126, 101],\n",
       "       [102,  90],\n",
       "       [ 64,  85],\n",
       "       [101,  92],\n",
       "       [ 62,  61],\n",
       "       [142, 112],\n",
       "       [126, 127],\n",
       "       [122, 147]])"
      ]
     },
     "execution_count": 98,
     "metadata": {},
     "output_type": "execute_result"
    }
   ],
   "source": [
    "rr=np.random.randint(50,150,(10,2))#(row,column,number of elements)\n",
    "rr"
   ]
  },
  {
   "cell_type": "markdown",
   "metadata": {
    "id": "Wzv2E5pieGee"
   },
   "source": [
    "## Array Attributes and Methods\n",
    "\n",
    "Let's discuss some useful attributes and methods or an array:"
   ]
  },
  {
   "cell_type": "code",
   "execution_count": null,
   "metadata": {
    "id": "tqy48WHXeGee",
    "outputId": "4950143e-6fcc-4746-a1ef-c915f143f459"
   },
   "outputs": [
    {
     "name": "stdout",
     "output_type": "stream",
     "text": [
      "[68 78 75 66 78 94 54 56 97 58 69 88 91 61 92 58 68 83 99 96 96 78 52 87\n",
      " 57] Ranarr - RandInt\n",
      "\n",
      "[ 0  1  2  3  4  5  6  7  8  9 10 11 12 13 14 15 16 17 18 19 20 21 22 23\n",
      " 24] Arr - Arange\n"
     ]
    }
   ],
   "source": [
    "arr = np.arange(25)\n",
    "ranarr = np.random.randint(50,100,25)   #(start, end, no. of elements)\n",
    "print(ranarr,\"Ranarr - RandInt\")\n",
    "print()\n",
    "print(arr,\"Arr - Arange\")"
   ]
  },
  {
   "cell_type": "code",
   "execution_count": null,
   "metadata": {
    "id": "PfQE-MtFeGee",
    "outputId": "86a4df3c-0523-48ae-9b0d-c5782affa604"
   },
   "outputs": [
    {
     "data": {
      "text/plain": [
       "(25,)"
      ]
     },
     "execution_count": 106,
     "metadata": {},
     "output_type": "execute_result"
    }
   ],
   "source": [
    "arr.shape\n",
    "ranarr.shape\n",
    "rr.shape\n",
    "arr.shape"
   ]
  },
  {
   "cell_type": "code",
   "execution_count": null,
   "metadata": {
    "id": "REqa_GnqeGee",
    "outputId": "6b2d3e44-3fe5-4fdc-a8a9-e2d2aaeb5fcf"
   },
   "outputs": [
    {
     "data": {
      "text/plain": [
       "array([[68, 78, 75, 66, 78],\n",
       "       [94, 54, 56, 97, 58],\n",
       "       [69, 88, 91, 61, 92],\n",
       "       [58, 68, 83, 99, 96],\n",
       "       [96, 78, 52, 87, 57]])"
      ]
     },
     "execution_count": 121,
     "metadata": {},
     "output_type": "execute_result"
    }
   ],
   "source": [
    "gun=ranarr.reshape(5,5)\n",
    "gun"
   ]
  },
  {
   "cell_type": "code",
   "execution_count": null,
   "metadata": {
    "id": "kUtEt221eGee",
    "outputId": "ba4a5dfe-b172-45d4-8e4a-3313874b57db"
   },
   "outputs": [
    {
     "data": {
      "text/plain": [
       "array([[ 0,  1,  2,  3,  4],\n",
       "       [ 5,  6,  7,  8,  9],\n",
       "       [10, 11, 12, 13, 14],\n",
       "       [15, 16, 17, 18, 19],\n",
       "       [20, 21, 22, 23, 24]])"
      ]
     },
     "execution_count": 104,
     "metadata": {},
     "output_type": "execute_result"
    }
   ],
   "source": [
    "arr.reshape(5,5)#The matrix needs to be the product of number of elements that are present in the array/sequence."
   ]
  },
  {
   "cell_type": "markdown",
   "metadata": {
    "id": "fvBkIdL5eGef"
   },
   "source": [
    "## Reshape\n",
    "Returns an array containing the same data with a new shape."
   ]
  },
  {
   "cell_type": "code",
   "execution_count": null,
   "metadata": {
    "id": "NIRT3s9zeGei"
   },
   "outputs": [],
   "source": [
    "print(np.arange(100).reshape(10,10),\"\\n\")\n",
    "print(np.arange(100).reshape(20,5),\"\\n\")\n",
    "print(np.arange(100).reshape(25,4))"
   ]
  },
  {
   "cell_type": "markdown",
   "metadata": {
    "id": "jo9WKkpJeGei"
   },
   "source": [
    "### max,min,argmax,argmin\n",
    "\n",
    "These are useful methods for finding max or min values. Or to find their index locations using argmin or argmax"
   ]
  },
  {
   "cell_type": "code",
   "execution_count": null,
   "metadata": {
    "id": "Rlcc-5_GeGei"
   },
   "outputs": [],
   "source": [
    "#Try to work with np.min,max\n",
    "ranarr = np.random.randint(50,100,25).reshape(5,5)   #(start, end, no. of elements)\n",
    "ranarr"
   ]
  },
  {
   "cell_type": "code",
   "execution_count": null,
   "metadata": {
    "id": "0HD9xQHJeGei"
   },
   "outputs": [],
   "source": [
    "print(ranarr)\n",
    "ranarr.max()#Prints the maximum Number\n"
   ]
  },
  {
   "cell_type": "code",
   "execution_count": null,
   "metadata": {
    "id": "R3DfPjBTeGei"
   },
   "outputs": [],
   "source": [
    "print(ranarr)\n",
    "ranarr.argmax()#It prints the index position of maximum number"
   ]
  },
  {
   "cell_type": "code",
   "execution_count": null,
   "metadata": {
    "id": "mnIfNcnpeGei"
   },
   "outputs": [],
   "source": [
    "print(ranarr)\n",
    "ranarr.min()#Prints the minimum Number"
   ]
  },
  {
   "cell_type": "code",
   "execution_count": null,
   "metadata": {
    "id": "o6ri0uweeGej"
   },
   "outputs": [],
   "source": [
    "print(ranarr)\n",
    "ranarr.argmin()#It prints the index position of minimum number"
   ]
  },
  {
   "cell_type": "code",
   "execution_count": null,
   "metadata": {
    "id": "fCvht0YaeGej"
   },
   "outputs": [],
   "source": [
    "x=arr.reshape(5,5)\n",
    "x"
   ]
  },
  {
   "cell_type": "markdown",
   "metadata": {
    "id": "SsZNDe2veGej"
   },
   "source": [
    "## Shape\n",
    "\n",
    "Shape is an attribute that arrays have (not a method):"
   ]
  },
  {
   "cell_type": "code",
   "execution_count": 11,
   "metadata": {
    "id": "xMnfn47aeGej"
   },
   "outputs": [
    {
     "data": {
      "text/plain": [
       "(7, 8)"
      ]
     },
     "execution_count": 11,
     "metadata": {},
     "output_type": "execute_result"
    }
   ],
   "source": [
    "# Vector\n",
    "x.shape"
   ]
  },
  {
   "cell_type": "code",
   "execution_count": 12,
   "metadata": {
    "id": "yOdbVFBJeGej"
   },
   "outputs": [
    {
     "data": {
      "text/plain": [
       "array([[ 0,  1,  2,  3,  4],\n",
       "       [ 5,  6,  7,  8,  9],\n",
       "       [10, 11, 12, 13, 14],\n",
       "       [15, 16, 17, 18, 19],\n",
       "       [20, 21, 22, 23, 24],\n",
       "       [25, 26, 27, 28, 29]])"
      ]
     },
     "execution_count": 12,
     "metadata": {},
     "output_type": "execute_result"
    }
   ],
   "source": [
    "arr = np.arange(30)\n",
    "arr = arr.reshape(6,5)\n",
    "arr"
   ]
  },
  {
   "cell_type": "code",
   "execution_count": 13,
   "metadata": {
    "id": "sswXMQRteGej"
   },
   "outputs": [
    {
     "data": {
      "text/plain": [
       "(6, 5)"
      ]
     },
     "execution_count": 13,
     "metadata": {},
     "output_type": "execute_result"
    }
   ],
   "source": [
    "arr.shape"
   ]
  },
  {
   "cell_type": "markdown",
   "metadata": {
    "id": "EXJwbFE1eGej"
   },
   "source": [
    "### dtype\n",
    "\n",
    "You can also grab the data type of the object in the array:"
   ]
  },
  {
   "cell_type": "code",
   "execution_count": null,
   "metadata": {
    "id": "xkksYRROeGej"
   },
   "outputs": [],
   "source": [
    "x1=[\"Hello\"]\n",
    "x2=\"Good Morning\"\n",
    "x3=[123]\n",
    "x4=123\n",
    "x5={\"a\":[55,67,89]}\n",
    "x6={1,2,3}\n",
    "x7=np.array([1,2,3,4,5,6,7,8])\n",
    "x8=np.array([\"Hello\",\"Good Morning\"])"
   ]
  },
  {
   "cell_type": "code",
   "execution_count": null,
   "metadata": {
    "id": "hlJWOZ_heGej",
    "outputId": "96817caa-7d68-4530-c5ea-0400bc88acfe"
   },
   "outputs": [
    {
     "data": {
      "text/plain": [
       "dtype('<U12')"
      ]
     },
     "execution_count": 124,
     "metadata": {},
     "output_type": "execute_result"
    }
   ],
   "source": [
    "type(x7)\n",
    "x8.dtype"
   ]
  },
  {
   "cell_type": "code",
   "execution_count": null,
   "metadata": {
    "id": "d2e6nmEIeGej"
   },
   "outputs": [],
   "source": [
    "type(x5)\n",
    "type(arr)\n",
    "#Basic Difference between type() and .dtype.\n",
    "#type() function runs with any data type and it also works with numpy/array objects but with array objects it displays\n",
    "#half of the infomation like numpy.ndarray\n",
    "# After getting numpy.ndarray the user can extract much of the knowledge with .dtype\n",
    "# .dtype only works with numpy/array objects."
   ]
  },
  {
   "cell_type": "markdown",
   "metadata": {
    "id": "BIkxOML5eGej"
   },
   "source": [
    "# Great Job!"
   ]
  }
 ],
 "metadata": {
  "colab": {
   "provenance": []
  },
  "kernelspec": {
   "display_name": "Python 3 (ipykernel)",
   "language": "python",
   "name": "python3"
  },
  "language_info": {
   "codemirror_mode": {
    "name": "ipython",
    "version": 3
   },
   "file_extension": ".py",
   "mimetype": "text/x-python",
   "name": "python",
   "nbconvert_exporter": "python",
   "pygments_lexer": "ipython3",
   "version": "3.11.5"
  }
 },
 "nbformat": 4,
 "nbformat_minor": 1
}
