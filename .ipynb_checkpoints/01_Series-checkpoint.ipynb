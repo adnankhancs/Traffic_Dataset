{
 "cells": [
  {
   "cell_type": "markdown",
   "metadata": {
    "id": "q8bzPQ7PeMDD"
   },
   "source": [
    "# Series"
   ]
  },
  {
   "cell_type": "markdown",
   "metadata": {
    "id": "X0Hq3K8FeMDE"
   },
   "source": [
    "The first main data type we will learn about for pandas is the Series data type. Let's import Pandas and explore the Series object.\n",
    "\n",
    "A Series is very similar to a NumPy array (in fact it is built on top of the NumPy array object). What differentiates the NumPy array from a Series, is that a Series can have axis labels, meaning it can be indexed by a label, instead of just a number location. It also doesn't need to hold numeric data, it can hold any arbitrary Python Object.\n",
    "\n",
    "Let's explore this concept through some examples:"
   ]
  },
  {
   "cell_type": "markdown",
   "metadata": {
    "id": "YEHdiJbReMDE"
   },
   "source": [
    "## DataFrame VS Series"
   ]
  },
  {
   "cell_type": "markdown",
   "metadata": {
    "id": "2BrFu7hheMDE"
   },
   "source": [
    "There are no major differences between Pandas Series and a single column dataframe except\n",
    "\n",
    "1. The Column Name or Header\n",
    "\n",
    "2. Series does not have any name/header where as the dataframe has column names.\n",
    "\n",
    "3. The pandas functions related to Data Frame can be used for the dataframe column and the pandas functions related to Series can be used for the series.\n",
    "\n",
    "4. There are many functions which can be used for both Series and Data Frames, however not all functions can be used interchangeably."
   ]
  },
  {
   "cell_type": "code",
   "execution_count": 1,
   "metadata": {
    "id": "AW_X9f-seMDE"
   },
   "outputs": [],
   "source": [
    "import numpy as np\n",
    "import pandas as pd\n"
   ]
  },
  {
   "cell_type": "markdown",
   "metadata": {
    "id": "vzcmd3ReeMDF"
   },
   "source": [
    "### Creating a Series\n",
    "\n",
    "You can convert a list,numpy array, or dictionary to a Series:"
   ]
  },
  {
   "cell_type": "code",
   "execution_count": 2,
   "metadata": {
    "id": "tAEgJTsNeMDF",
    "outputId": "6139e6a4-6c7a-49df-8fce-3d25b5f06bb8"
   },
   "outputs": [
    {
     "data": {
      "text/plain": [
       "list"
      ]
     },
     "execution_count": 2,
     "metadata": {},
     "output_type": "execute_result"
    }
   ],
   "source": [
    "sky = ['Q','X','Z']\n",
    "my_list = [10,20,30]\n",
    "arr = np.array([100,200,300])\n",
    "d = {'a':10,'b':20,'c':30}\n",
    "labels=[sky,my_list,arr,d]\n",
    "type(labels)"
   ]
  },
  {
   "cell_type": "markdown",
   "metadata": {
    "id": "mJvdW-w9eMDF"
   },
   "source": [
    "** Using Lists**"
   ]
  },
  {
   "cell_type": "code",
   "execution_count": null,
   "metadata": {
    "id": "D0grtO0xeMDG",
    "outputId": "02dbb42c-e28f-412e-f7bd-f26b041e874e"
   },
   "outputs": [
    {
     "name": "stdout",
     "output_type": "stream",
     "text": [
      "\n"
     ]
    },
    {
     "data": {
      "text/plain": [
       "Name    [Karan1, Karan2, Karan3]\n",
       "Age                 [20, 21, 22]\n",
       "dtype: object"
      ]
     },
     "execution_count": 17,
     "metadata": {},
     "output_type": "execute_result"
    }
   ],
   "source": [
    "#print(pd.Series(data=labels))\n",
    "print()\n",
    "#pd.DataFrame(data=labels)\n",
    "\n",
    "pd.Series({\"Name\":[\"Karan1\",\"Karan2\",\"Karan3\"],\"Age\":[20,21,22]})\n",
    "\n",
    "#pd.DataFrame({\"Name\":[\"Karan1\",\"Karan2\",\"Karan3\"],\"Age\":[20,21,22]})"
   ]
  },
  {
   "cell_type": "code",
   "execution_count": null,
   "metadata": {
    "id": "SJHNh9UQeMDG"
   },
   "outputs": [],
   "source": [
    "print(sky)\n",
    "pd.Series(data=arr,index=sky)"
   ]
  },
  {
   "cell_type": "code",
   "execution_count": null,
   "metadata": {
    "id": "dy7sVz9PeMDG"
   },
   "outputs": [],
   "source": [
    "print(pd.Series(sky,arr))\n",
    "print()\n",
    "pd.Series(sky,my_list)"
   ]
  },
  {
   "cell_type": "markdown",
   "metadata": {
    "id": "FpnpLnUGeMDG"
   },
   "source": [
    "** NumPy Arrays **"
   ]
  },
  {
   "cell_type": "code",
   "execution_count": null,
   "metadata": {
    "id": "QSzeH09WeMDG"
   },
   "outputs": [],
   "source": [
    "pd.Series(my_list)"
   ]
  },
  {
   "cell_type": "code",
   "execution_count": null,
   "metadata": {
    "id": "y5Q13OWOeMDG"
   },
   "outputs": [],
   "source": [
    "pd.Series(arr,sky)\n",
    "print(d)"
   ]
  },
  {
   "cell_type": "markdown",
   "metadata": {
    "id": "e3Utj1lqeMDG"
   },
   "source": [
    "** Dictionary**"
   ]
  },
  {
   "cell_type": "code",
   "execution_count": null,
   "metadata": {
    "id": "dRBwcPYleMDG"
   },
   "outputs": [],
   "source": [
    "pd.Series(d)\n",
    "pd.Series(d1)"
   ]
  },
  {
   "cell_type": "code",
   "execution_count": null,
   "metadata": {
    "id": "agpsB6wSeMDG"
   },
   "outputs": [],
   "source": [
    "d1={\"Name\":[\"John\",\"Joseph\",\"Sunny\",\"Honey\"],\"Age\":[27,28,29,45],\"Salary\":[100,150,200,250]}\n",
    "d1\n",
    "pd.DataFrame(d1)"
   ]
  },
  {
   "cell_type": "code",
   "execution_count": null,
   "metadata": {
    "id": "K8U2eKWGeMDH"
   },
   "outputs": [],
   "source": [
    "pd.Series(d1)"
   ]
  },
  {
   "cell_type": "code",
   "execution_count": null,
   "metadata": {
    "id": "yFAb5rX_eMDH"
   },
   "outputs": [],
   "source": [
    "labels"
   ]
  },
  {
   "cell_type": "markdown",
   "metadata": {
    "id": "cla59b1teMDH"
   },
   "source": [
    "### Data in a Series\n",
    "\n",
    "A pandas Series can hold a variety of object types:"
   ]
  },
  {
   "cell_type": "code",
   "execution_count": null,
   "metadata": {
    "id": "e0u54DHJeMDH"
   },
   "outputs": [],
   "source": [
    "d={\"Name\":[\"Karan1\",\"Karan2\",\"Karan3\",\"Karan4\"],\"Age\":[20,21,21,21]}\n",
    "pd.DataFrame(d)"
   ]
  },
  {
   "cell_type": "markdown",
   "metadata": {
    "id": "JsgAFYOzeMDH"
   },
   "source": [
    "## Using an Index\n",
    "\n",
    "The key to using a Series is understanding its index. Pandas makes use of these index names or numbers by allowing for fast look ups of information (works like a hash table or dictionary).\n",
    "\n",
    "Let's see some examples of how to grab information from a Series. Let us create two sereis, ser1 and ser2:"
   ]
  },
  {
   "cell_type": "code",
   "execution_count": null,
   "metadata": {
    "id": "X5kbGPg8eMDH",
    "outputId": "613922e1-0dd7-4049-fbc9-b7971d57cf15"
   },
   "outputs": [
    {
     "data": {
      "text/plain": [
       "USA        1\n",
       "Germany    2\n",
       "Italy      3\n",
       "Japan      4\n",
       "dtype: int64"
      ]
     },
     "execution_count": 44,
     "metadata": {},
     "output_type": "execute_result"
    }
   ],
   "source": [
    "import pandas as pd\n",
    "ser1 = pd.Series([1,2,3,4],index = ['USA', 'Germany','Italy', 'Japan'])\n",
    "ser1"
   ]
  },
  {
   "cell_type": "code",
   "execution_count": null,
   "metadata": {
    "id": "kowW_VtAeMDH",
    "outputId": "4cc62bf1-35ae-471e-a174-c5bc2a983b38"
   },
   "outputs": [
    {
     "data": {
      "text/plain": [
       "Italy      1\n",
       "Germany    2\n",
       "USA        5\n",
       "Japan      4\n",
       "dtype: int64"
      ]
     },
     "execution_count": 20,
     "metadata": {},
     "output_type": "execute_result"
    }
   ],
   "source": [
    "ser2 = pd.Series([1,2,5,4],index = ['Italy', 'Germany','USA', 'Japan'])\n",
    "ser2"
   ]
  },
  {
   "cell_type": "code",
   "execution_count": null,
   "metadata": {
    "id": "Kxm-T4DBeMDH",
    "outputId": "ddd8f5d2-62e7-453d-eb48-0958d286b33b"
   },
   "outputs": [
    {
     "data": {
      "text/plain": [
       "Italy      1\n",
       "Germany    2\n",
       "USA        5\n",
       "Japan      4\n",
       "dtype: int64"
      ]
     },
     "execution_count": 42,
     "metadata": {},
     "output_type": "execute_result"
    }
   ],
   "source": [
    "#ser2.rename(index={\"USA\":\"IND\",\"Japan\":\"ARG\"},inplace=True)\n",
    "ser2.rename(index={\"IND\":\"USA\",\"ARG\":\"Japan\"},inplace=True)\n",
    "ser2\n"
   ]
  },
  {
   "cell_type": "code",
   "execution_count": null,
   "metadata": {
    "id": "w6H79XepeMDH",
    "outputId": "149203e6-5ccd-4dad-d4cd-93fef5e76e82"
   },
   "outputs": [
    {
     "data": {
      "text/plain": [
       "Italy      1\n",
       "Germany    2\n",
       "IND        5\n",
       "Japan      4\n",
       "dtype: int64"
      ]
     },
     "execution_count": 29,
     "metadata": {},
     "output_type": "execute_result"
    }
   ],
   "source": [
    "#print(ser2['IND'])\n",
    "#print(ser2)\n",
    "#ser1.rename({\"USA\":\"IND\"},inplace=True)\n",
    "\n",
    "#ser2=ser2.rename({\"IND\":\"USA\"})\n",
    "ser2"
   ]
  },
  {
   "cell_type": "markdown",
   "metadata": {
    "id": "rb1hQCqPeMDH"
   },
   "source": [
    "Operations are then also done based off of index:"
   ]
  },
  {
   "cell_type": "code",
   "execution_count": null,
   "metadata": {
    "id": "PCNZq3jseMDH",
    "outputId": "99c27052-cf2b-4978-d3ec-4aee396a0873"
   },
   "outputs": [
    {
     "data": {
      "text/plain": [
       "Germany     4\n",
       "Italy       3\n",
       "Japan      16\n",
       "USA         5\n",
       "dtype: int64"
      ]
     },
     "execution_count": 43,
     "metadata": {},
     "output_type": "execute_result"
    }
   ],
   "source": [
    "x=ser1 * ser2\n",
    "x"
   ]
  },
  {
   "cell_type": "markdown",
   "metadata": {
    "id": "VfyxkDmveMDI"
   },
   "source": [
    "# Great Job!"
   ]
  }
 ],
 "metadata": {
  "colab": {
   "provenance": []
  },
  "kernelspec": {
   "display_name": "Python 3 (ipykernel)",
   "language": "python",
   "name": "python3"
  },
  "language_info": {
   "codemirror_mode": {
    "name": "ipython",
    "version": 3
   },
   "file_extension": ".py",
   "mimetype": "text/x-python",
   "name": "python",
   "nbconvert_exporter": "python",
   "pygments_lexer": "ipython3",
   "version": "3.11.5"
  }
 },
 "nbformat": 4,
 "nbformat_minor": 1
}
