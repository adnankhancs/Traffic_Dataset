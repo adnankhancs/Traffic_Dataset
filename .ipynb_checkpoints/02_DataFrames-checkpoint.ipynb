{
 "cells": [
  {
   "cell_type": "markdown",
   "metadata": {
    "collapsed": true,
    "id": "ZR_skKMviwkd"
   },
   "source": [
    "# DataFrames\n"
   ]
  },
  {
   "cell_type": "code",
   "execution_count": 1,
   "metadata": {
    "id": "j_uhEDWyiwke"
   },
   "outputs": [],
   "source": [
    "import pandas as pd\n",
    "import numpy as np"
   ]
  },
  {
   "cell_type": "code",
   "execution_count": 2,
   "metadata": {
    "id": "wJ-q_KV0iwke",
    "scrolled": true
   },
   "outputs": [
    {
     "data": {
      "text/html": [
       "<div>\n",
       "<style scoped>\n",
       "    .dataframe tbody tr th:only-of-type {\n",
       "        vertical-align: middle;\n",
       "    }\n",
       "\n",
       "    .dataframe tbody tr th {\n",
       "        vertical-align: top;\n",
       "    }\n",
       "\n",
       "    .dataframe thead th {\n",
       "        text-align: right;\n",
       "    }\n",
       "</style>\n",
       "<table border=\"1\" class=\"dataframe\">\n",
       "  <thead>\n",
       "    <tr style=\"text-align: right;\">\n",
       "      <th></th>\n",
       "      <th>W</th>\n",
       "      <th>X</th>\n",
       "      <th>Y</th>\n",
       "      <th>Z</th>\n",
       "    </tr>\n",
       "  </thead>\n",
       "  <tbody>\n",
       "    <tr>\n",
       "      <th>A</th>\n",
       "      <td>2.398278</td>\n",
       "      <td>0.161332</td>\n",
       "      <td>0.372214</td>\n",
       "      <td>0.064983</td>\n",
       "    </tr>\n",
       "    <tr>\n",
       "      <th>B</th>\n",
       "      <td>-1.259924</td>\n",
       "      <td>2.073776</td>\n",
       "      <td>-0.003237</td>\n",
       "      <td>0.081306</td>\n",
       "    </tr>\n",
       "    <tr>\n",
       "      <th>C</th>\n",
       "      <td>0.440780</td>\n",
       "      <td>1.483932</td>\n",
       "      <td>-0.153188</td>\n",
       "      <td>1.407616</td>\n",
       "    </tr>\n",
       "    <tr>\n",
       "      <th>D</th>\n",
       "      <td>-0.340072</td>\n",
       "      <td>-2.345363</td>\n",
       "      <td>0.066694</td>\n",
       "      <td>1.445207</td>\n",
       "    </tr>\n",
       "    <tr>\n",
       "      <th>E</th>\n",
       "      <td>0.061044</td>\n",
       "      <td>-0.841957</td>\n",
       "      <td>0.919774</td>\n",
       "      <td>0.359936</td>\n",
       "    </tr>\n",
       "  </tbody>\n",
       "</table>\n",
       "</div>"
      ],
      "text/plain": [
       "          W         X         Y         Z\n",
       "A  2.398278  0.161332  0.372214  0.064983\n",
       "B -1.259924  2.073776 -0.003237  0.081306\n",
       "C  0.440780  1.483932 -0.153188  1.407616\n",
       "D -0.340072 -2.345363  0.066694  1.445207\n",
       "E  0.061044 -0.841957  0.919774  0.359936"
      ]
     },
     "execution_count": 2,
     "metadata": {},
     "output_type": "execute_result"
    }
   ],
   "source": [
    "#With numpy\n",
    "df = pd.DataFrame(np.random.randn(5,4),index=[\"A\",\"B\",\"C\",\"D\",\"E\"],columns=[\"W\",\"X\",\"Y\",\"Z\"])\n",
    "df"
   ]
  },
  {
   "cell_type": "code",
   "execution_count": 3,
   "metadata": {
    "id": "pU1_Pyq7iwke"
   },
   "outputs": [
    {
     "data": {
      "text/html": [
       "<div>\n",
       "<style scoped>\n",
       "    .dataframe tbody tr th:only-of-type {\n",
       "        vertical-align: middle;\n",
       "    }\n",
       "\n",
       "    .dataframe tbody tr th {\n",
       "        vertical-align: top;\n",
       "    }\n",
       "\n",
       "    .dataframe thead th {\n",
       "        text-align: right;\n",
       "    }\n",
       "</style>\n",
       "<table border=\"1\" class=\"dataframe\">\n",
       "  <thead>\n",
       "    <tr style=\"text-align: right;\">\n",
       "      <th></th>\n",
       "      <th>Name</th>\n",
       "      <th>Age</th>\n",
       "      <th>City</th>\n",
       "      <th>Country</th>\n",
       "    </tr>\n",
       "  </thead>\n",
       "  <tbody>\n",
       "    <tr>\n",
       "      <th>11</th>\n",
       "      <td>John</td>\n",
       "      <td>24</td>\n",
       "      <td>New Delhi</td>\n",
       "      <td>India</td>\n",
       "    </tr>\n",
       "    <tr>\n",
       "      <th>12</th>\n",
       "      <td>Jerry</td>\n",
       "      <td>32</td>\n",
       "      <td>New York</td>\n",
       "      <td>USA</td>\n",
       "    </tr>\n",
       "    <tr>\n",
       "      <th>13</th>\n",
       "      <td>Tom</td>\n",
       "      <td>34</td>\n",
       "      <td>Manhattan</td>\n",
       "      <td>USA</td>\n",
       "    </tr>\n",
       "    <tr>\n",
       "      <th>14</th>\n",
       "      <td>Jack</td>\n",
       "      <td>45</td>\n",
       "      <td>Chicago</td>\n",
       "      <td>USA</td>\n",
       "    </tr>\n",
       "  </tbody>\n",
       "</table>\n",
       "</div>"
      ],
      "text/plain": [
       "     Name  Age       City Country\n",
       "11   John   24  New Delhi   India\n",
       "12  Jerry   32   New York     USA\n",
       "13    Tom   34  Manhattan     USA\n",
       "14   Jack   45    Chicago     USA"
      ]
     },
     "execution_count": 3,
     "metadata": {},
     "output_type": "execute_result"
    }
   ],
   "source": [
    "#With Lists\n",
    "x1=[\"John\",24,\"New Delhi\",\"India\"]\n",
    "x2=[\"Jerry\",32,\"New York\",\"USA\"]\n",
    "x3=[\"Tom\",34,\"Manhattan\",\"USA\"]\n",
    "x4=[\"Jack\",45,\"Chicago\",\"USA\"]\n",
    "New=pd.DataFrame([x1,x2,x3,x4],columns=[\"Name\",\"Age\",\"City\",\"Country\"],index=[11,12,13,14])\n",
    "New"
   ]
  },
  {
   "cell_type": "code",
   "execution_count": 4,
   "metadata": {
    "id": "oIQSmc-eiwkf"
   },
   "outputs": [
    {
     "data": {
      "text/html": [
       "<div>\n",
       "<style scoped>\n",
       "    .dataframe tbody tr th:only-of-type {\n",
       "        vertical-align: middle;\n",
       "    }\n",
       "\n",
       "    .dataframe tbody tr th {\n",
       "        vertical-align: top;\n",
       "    }\n",
       "\n",
       "    .dataframe thead th {\n",
       "        text-align: right;\n",
       "    }\n",
       "</style>\n",
       "<table border=\"1\" class=\"dataframe\">\n",
       "  <thead>\n",
       "    <tr style=\"text-align: right;\">\n",
       "      <th></th>\n",
       "      <th>Name</th>\n",
       "      <th>Age</th>\n",
       "      <th>City</th>\n",
       "      <th>Country</th>\n",
       "    </tr>\n",
       "  </thead>\n",
       "  <tbody>\n",
       "    <tr>\n",
       "      <th>A</th>\n",
       "      <td>John</td>\n",
       "      <td>24</td>\n",
       "      <td>New Delhi</td>\n",
       "      <td>India</td>\n",
       "    </tr>\n",
       "    <tr>\n",
       "      <th>B</th>\n",
       "      <td>Jerry</td>\n",
       "      <td>32</td>\n",
       "      <td>New York</td>\n",
       "      <td>USA</td>\n",
       "    </tr>\n",
       "    <tr>\n",
       "      <th>C</th>\n",
       "      <td>Tom</td>\n",
       "      <td>34</td>\n",
       "      <td>Manhattan</td>\n",
       "      <td>USA</td>\n",
       "    </tr>\n",
       "    <tr>\n",
       "      <th>D</th>\n",
       "      <td>Jack</td>\n",
       "      <td>45</td>\n",
       "      <td>Chicago</td>\n",
       "      <td>USA</td>\n",
       "    </tr>\n",
       "  </tbody>\n",
       "</table>\n",
       "</div>"
      ],
      "text/plain": [
       "    Name  Age       City Country\n",
       "A   John   24  New Delhi   India\n",
       "B  Jerry   32   New York     USA\n",
       "C    Tom   34  Manhattan     USA\n",
       "D   Jack   45    Chicago     USA"
      ]
     },
     "execution_count": 4,
     "metadata": {},
     "output_type": "execute_result"
    }
   ],
   "source": [
    "#With Tuples\n",
    "x1=(\"John\",24,\"New Delhi\",\"India\")\n",
    "x2=(\"Jerry\",32,\"New York\",\"USA\")\n",
    "x3=(\"Tom\",34,\"Manhattan\",\"USA\")\n",
    "x4=(\"Jack\",45,\"Chicago\",\"USA\")\n",
    "New1=pd.DataFrame([x1,x2,x3,x4],columns=[\"Name\",\"Age\",\"City\",\"Country\"],index=[\"A\",\"B\",\"C\",\"D\"])\n",
    "New1"
   ]
  },
  {
   "cell_type": "code",
   "execution_count": 5,
   "metadata": {
    "id": "W1vIV_R0iwkf"
   },
   "outputs": [
    {
     "data": {
      "text/html": [
       "<div>\n",
       "<style scoped>\n",
       "    .dataframe tbody tr th:only-of-type {\n",
       "        vertical-align: middle;\n",
       "    }\n",
       "\n",
       "    .dataframe tbody tr th {\n",
       "        vertical-align: top;\n",
       "    }\n",
       "\n",
       "    .dataframe thead th {\n",
       "        text-align: right;\n",
       "    }\n",
       "</style>\n",
       "<table border=\"1\" class=\"dataframe\">\n",
       "  <thead>\n",
       "    <tr style=\"text-align: right;\">\n",
       "      <th></th>\n",
       "      <th>W</th>\n",
       "      <th>X</th>\n",
       "      <th>Y</th>\n",
       "      <th>Z</th>\n",
       "    </tr>\n",
       "  </thead>\n",
       "  <tbody>\n",
       "    <tr>\n",
       "      <th>A</th>\n",
       "      <td>0.266104</td>\n",
       "      <td>0.216709</td>\n",
       "      <td>-0.339083</td>\n",
       "      <td>-0.582613</td>\n",
       "    </tr>\n",
       "    <tr>\n",
       "      <th>B</th>\n",
       "      <td>0.736200</td>\n",
       "      <td>-1.520868</td>\n",
       "      <td>-0.620117</td>\n",
       "      <td>0.940499</td>\n",
       "    </tr>\n",
       "    <tr>\n",
       "      <th>C</th>\n",
       "      <td>-0.932198</td>\n",
       "      <td>0.809969</td>\n",
       "      <td>0.758837</td>\n",
       "      <td>1.813743</td>\n",
       "    </tr>\n",
       "    <tr>\n",
       "      <th>D</th>\n",
       "      <td>0.110742</td>\n",
       "      <td>0.069698</td>\n",
       "      <td>-0.484837</td>\n",
       "      <td>-0.324821</td>\n",
       "    </tr>\n",
       "    <tr>\n",
       "      <th>E</th>\n",
       "      <td>-0.632529</td>\n",
       "      <td>-0.847141</td>\n",
       "      <td>0.230369</td>\n",
       "      <td>0.184365</td>\n",
       "    </tr>\n",
       "  </tbody>\n",
       "</table>\n",
       "</div>"
      ],
      "text/plain": [
       "          W         X         Y         Z\n",
       "A  0.266104  0.216709 -0.339083 -0.582613\n",
       "B  0.736200 -1.520868 -0.620117  0.940499\n",
       "C -0.932198  0.809969  0.758837  1.813743\n",
       "D  0.110742  0.069698 -0.484837 -0.324821\n",
       "E -0.632529 -0.847141  0.230369  0.184365"
      ]
     },
     "execution_count": 5,
     "metadata": {},
     "output_type": "execute_result"
    }
   ],
   "source": [
    "#With Dictionaries\n",
    "datas={\"Name\":[\"Karan\",\"Raman\",\"Shravan\",\"Ajay\",\"Vijay\",\"Sanjay\"],\"Age\":[23,24,25,26,25,21],\"Location\":[\"Banglore\",\"Chandigarh\",\"Chennai\",\"Mumbai\",\"Kolkata\",\"Pune\"],\"Salary\":[22900,25800,24000,23000,25000,25500]}\n",
    "datas\n",
    "datas=pd.DataFrame(datas)\n",
    "datas\n",
    "\n",
    "#With numpy\n",
    "df = pd.DataFrame(np.random.randn(5,4),index=[\"A\",\"B\",\"C\",\"D\",\"E\"],columns=[\"W\",\"X\", \"Y\",\"Z\"])\n",
    "df"
   ]
  },
  {
   "cell_type": "code",
   "execution_count": 6,
   "metadata": {
    "id": "Hx2OM0x2iwkf"
   },
   "outputs": [
    {
     "data": {
      "text/html": [
       "<div>\n",
       "<style scoped>\n",
       "    .dataframe tbody tr th:only-of-type {\n",
       "        vertical-align: middle;\n",
       "    }\n",
       "\n",
       "    .dataframe tbody tr th {\n",
       "        vertical-align: top;\n",
       "    }\n",
       "\n",
       "    .dataframe thead th {\n",
       "        text-align: right;\n",
       "    }\n",
       "</style>\n",
       "<table border=\"1\" class=\"dataframe\">\n",
       "  <thead>\n",
       "    <tr style=\"text-align: right;\">\n",
       "      <th></th>\n",
       "      <th>W</th>\n",
       "      <th>X</th>\n",
       "      <th>Y</th>\n",
       "      <th>Z</th>\n",
       "    </tr>\n",
       "  </thead>\n",
       "  <tbody>\n",
       "    <tr>\n",
       "      <th>A</th>\n",
       "      <td>0.266104</td>\n",
       "      <td>0.216709</td>\n",
       "      <td>-0.339083</td>\n",
       "      <td>-0.582613</td>\n",
       "    </tr>\n",
       "    <tr>\n",
       "      <th>B</th>\n",
       "      <td>0.736200</td>\n",
       "      <td>-1.520868</td>\n",
       "      <td>-0.620117</td>\n",
       "      <td>0.940499</td>\n",
       "    </tr>\n",
       "    <tr>\n",
       "      <th>C</th>\n",
       "      <td>-0.932198</td>\n",
       "      <td>0.809969</td>\n",
       "      <td>0.758837</td>\n",
       "      <td>1.813743</td>\n",
       "    </tr>\n",
       "    <tr>\n",
       "      <th>D</th>\n",
       "      <td>0.110742</td>\n",
       "      <td>0.069698</td>\n",
       "      <td>-0.484837</td>\n",
       "      <td>-0.324821</td>\n",
       "    </tr>\n",
       "    <tr>\n",
       "      <th>E</th>\n",
       "      <td>-0.632529</td>\n",
       "      <td>-0.847141</td>\n",
       "      <td>0.230369</td>\n",
       "      <td>0.184365</td>\n",
       "    </tr>\n",
       "  </tbody>\n",
       "</table>\n",
       "</div>"
      ],
      "text/plain": [
       "          W         X         Y         Z\n",
       "A  0.266104  0.216709 -0.339083 -0.582613\n",
       "B  0.736200 -1.520868 -0.620117  0.940499\n",
       "C -0.932198  0.809969  0.758837  1.813743\n",
       "D  0.110742  0.069698 -0.484837 -0.324821\n",
       "E -0.632529 -0.847141  0.230369  0.184365"
      ]
     },
     "execution_count": 6,
     "metadata": {},
     "output_type": "execute_result"
    }
   ],
   "source": [
    "np.arange(18).reshape(3,6)\n",
    "df"
   ]
  },
  {
   "cell_type": "code",
   "execution_count": 7,
   "metadata": {
    "id": "zp47OdNQiwkf"
   },
   "outputs": [
    {
     "data": {
      "text/plain": [
       "array([[ 0,  1,  2,  3],\n",
       "       [ 4,  5,  6,  7],\n",
       "       [ 8,  9, 10, 11],\n",
       "       [12, 13, 14, 15],\n",
       "       [16, 17, 18, 19]])"
      ]
     },
     "execution_count": 7,
     "metadata": {},
     "output_type": "execute_result"
    }
   ],
   "source": [
    "np.arange(0,20).reshape(5,4)\n"
   ]
  },
  {
   "cell_type": "code",
   "execution_count": 8,
   "metadata": {
    "id": "pxKOudE8iwkf",
    "scrolled": true
   },
   "outputs": [
    {
     "data": {
      "text/html": [
       "<div>\n",
       "<style scoped>\n",
       "    .dataframe tbody tr th:only-of-type {\n",
       "        vertical-align: middle;\n",
       "    }\n",
       "\n",
       "    .dataframe tbody tr th {\n",
       "        vertical-align: top;\n",
       "    }\n",
       "\n",
       "    .dataframe thead th {\n",
       "        text-align: right;\n",
       "    }\n",
       "</style>\n",
       "<table border=\"1\" class=\"dataframe\">\n",
       "  <thead>\n",
       "    <tr style=\"text-align: right;\">\n",
       "      <th></th>\n",
       "      <th>W</th>\n",
       "      <th>X</th>\n",
       "      <th>Y</th>\n",
       "      <th>Z</th>\n",
       "    </tr>\n",
       "  </thead>\n",
       "  <tbody>\n",
       "    <tr>\n",
       "      <th>A</th>\n",
       "      <td>0</td>\n",
       "      <td>1</td>\n",
       "      <td>2</td>\n",
       "      <td>3</td>\n",
       "    </tr>\n",
       "    <tr>\n",
       "      <th>B</th>\n",
       "      <td>4</td>\n",
       "      <td>5</td>\n",
       "      <td>6</td>\n",
       "      <td>7</td>\n",
       "    </tr>\n",
       "    <tr>\n",
       "      <th>C</th>\n",
       "      <td>8</td>\n",
       "      <td>9</td>\n",
       "      <td>10</td>\n",
       "      <td>11</td>\n",
       "    </tr>\n",
       "    <tr>\n",
       "      <th>D</th>\n",
       "      <td>12</td>\n",
       "      <td>13</td>\n",
       "      <td>14</td>\n",
       "      <td>15</td>\n",
       "    </tr>\n",
       "    <tr>\n",
       "      <th>E</th>\n",
       "      <td>16</td>\n",
       "      <td>17</td>\n",
       "      <td>18</td>\n",
       "      <td>19</td>\n",
       "    </tr>\n",
       "  </tbody>\n",
       "</table>\n",
       "</div>"
      ],
      "text/plain": [
       "    W   X   Y   Z\n",
       "A   0   1   2   3\n",
       "B   4   5   6   7\n",
       "C   8   9  10  11\n",
       "D  12  13  14  15\n",
       "E  16  17  18  19"
      ]
     },
     "execution_count": 8,
     "metadata": {},
     "output_type": "execute_result"
    }
   ],
   "source": [
    "import numpy as np\n",
    "import pandas as pd\n",
    "\n",
    "x=np.arange(0,20)\n",
    "fd=x.reshape(5,4)\n",
    "fd\n",
    "fd=pd.DataFrame(fd,index=[\"A\",\"B\",\"C\",\"D\",\"E\"],columns=[\"W\",\"X\",\"Y\",\"Z\"])\n",
    "fd"
   ]
  },
  {
   "cell_type": "code",
   "execution_count": 9,
   "metadata": {
    "id": "MsTuqQ8diwkf"
   },
   "outputs": [
    {
     "data": {
      "text/plain": [
       "array([ 0,  1,  2,  3,  4,  5,  6,  7,  8,  9, 10, 11, 12, 13, 14, 15, 16,\n",
       "       17, 18, 19])"
      ]
     },
     "execution_count": 9,
     "metadata": {},
     "output_type": "execute_result"
    }
   ],
   "source": [
    "x"
   ]
  },
  {
   "cell_type": "code",
   "execution_count": 12,
   "metadata": {
    "id": "kGeeDJLMiwkf"
   },
   "outputs": [
    {
     "data": {
      "text/html": [
       "<div>\n",
       "<style scoped>\n",
       "    .dataframe tbody tr th:only-of-type {\n",
       "        vertical-align: middle;\n",
       "    }\n",
       "\n",
       "    .dataframe tbody tr th {\n",
       "        vertical-align: top;\n",
       "    }\n",
       "\n",
       "    .dataframe thead th {\n",
       "        text-align: right;\n",
       "    }\n",
       "</style>\n",
       "<table border=\"1\" class=\"dataframe\">\n",
       "  <thead>\n",
       "    <tr style=\"text-align: right;\">\n",
       "      <th></th>\n",
       "      <th>Name</th>\n",
       "      <th>Age</th>\n",
       "      <th>Location</th>\n",
       "      <th>Salary</th>\n",
       "    </tr>\n",
       "  </thead>\n",
       "  <tbody>\n",
       "    <tr>\n",
       "      <th>0</th>\n",
       "      <td>Karan</td>\n",
       "      <td>23</td>\n",
       "      <td>Banglore</td>\n",
       "      <td>22900</td>\n",
       "    </tr>\n",
       "    <tr>\n",
       "      <th>1</th>\n",
       "      <td>Raman</td>\n",
       "      <td>24</td>\n",
       "      <td>Chandigarh</td>\n",
       "      <td>25800</td>\n",
       "    </tr>\n",
       "    <tr>\n",
       "      <th>2</th>\n",
       "      <td>Shravan</td>\n",
       "      <td>25</td>\n",
       "      <td>Chennai</td>\n",
       "      <td>24000</td>\n",
       "    </tr>\n",
       "    <tr>\n",
       "      <th>3</th>\n",
       "      <td>Ajay</td>\n",
       "      <td>26</td>\n",
       "      <td>Mumbai</td>\n",
       "      <td>23000</td>\n",
       "    </tr>\n",
       "    <tr>\n",
       "      <th>4</th>\n",
       "      <td>Vijay</td>\n",
       "      <td>25</td>\n",
       "      <td>Kolkata</td>\n",
       "      <td>25000</td>\n",
       "    </tr>\n",
       "    <tr>\n",
       "      <th>5</th>\n",
       "      <td>Sanjay</td>\n",
       "      <td>21</td>\n",
       "      <td>Pune</td>\n",
       "      <td>25500</td>\n",
       "    </tr>\n",
       "  </tbody>\n",
       "</table>\n",
       "</div>"
      ],
      "text/plain": [
       "      Name  Age    Location  Salary\n",
       "0    Karan   23    Banglore   22900\n",
       "1    Raman   24  Chandigarh   25800\n",
       "2  Shravan   25     Chennai   24000\n",
       "3     Ajay   26      Mumbai   23000\n",
       "4    Vijay   25     Kolkata   25000\n",
       "5   Sanjay   21        Pune   25500"
      ]
     },
     "execution_count": 12,
     "metadata": {},
     "output_type": "execute_result"
    }
   ],
   "source": [
    "fd\n",
    "datas"
   ]
  },
  {
   "cell_type": "markdown",
   "metadata": {
    "id": "Y5Znxhekiwkg"
   },
   "source": [
    "## Selection and Indexing\n",
    "\n",
    "Let's learn the various methods to grab data from a DataFrame"
   ]
  },
  {
   "cell_type": "code",
   "execution_count": 24,
   "metadata": {
    "id": "u4tZ1k7Iiwkg"
   },
   "outputs": [
    {
     "data": {
      "text/html": [
       "<div>\n",
       "<style scoped>\n",
       "    .dataframe tbody tr th:only-of-type {\n",
       "        vertical-align: middle;\n",
       "    }\n",
       "\n",
       "    .dataframe tbody tr th {\n",
       "        vertical-align: top;\n",
       "    }\n",
       "\n",
       "    .dataframe thead th {\n",
       "        text-align: right;\n",
       "    }\n",
       "</style>\n",
       "<table border=\"1\" class=\"dataframe\">\n",
       "  <thead>\n",
       "    <tr style=\"text-align: right;\">\n",
       "      <th></th>\n",
       "      <th>Salary</th>\n",
       "      <th>Name</th>\n",
       "      <th>Age</th>\n",
       "    </tr>\n",
       "  </thead>\n",
       "  <tbody>\n",
       "    <tr>\n",
       "      <th>0</th>\n",
       "      <td>22900</td>\n",
       "      <td>Karan</td>\n",
       "      <td>23</td>\n",
       "    </tr>\n",
       "    <tr>\n",
       "      <th>1</th>\n",
       "      <td>25800</td>\n",
       "      <td>Raman</td>\n",
       "      <td>24</td>\n",
       "    </tr>\n",
       "    <tr>\n",
       "      <th>2</th>\n",
       "      <td>24000</td>\n",
       "      <td>Shravan</td>\n",
       "      <td>25</td>\n",
       "    </tr>\n",
       "    <tr>\n",
       "      <th>3</th>\n",
       "      <td>23000</td>\n",
       "      <td>Ajay</td>\n",
       "      <td>26</td>\n",
       "    </tr>\n",
       "    <tr>\n",
       "      <th>4</th>\n",
       "      <td>25000</td>\n",
       "      <td>Vijay</td>\n",
       "      <td>25</td>\n",
       "    </tr>\n",
       "    <tr>\n",
       "      <th>5</th>\n",
       "      <td>25500</td>\n",
       "      <td>Sanjay</td>\n",
       "      <td>21</td>\n",
       "    </tr>\n",
       "  </tbody>\n",
       "</table>\n",
       "</div>"
      ],
      "text/plain": [
       "   Salary     Name  Age\n",
       "0   22900    Karan   23\n",
       "1   25800    Raman   24\n",
       "2   24000  Shravan   25\n",
       "3   23000     Ajay   26\n",
       "4   25000    Vijay   25\n",
       "5   25500   Sanjay   21"
      ]
     },
     "execution_count": 24,
     "metadata": {},
     "output_type": "execute_result"
    }
   ],
   "source": [
    "datas[[\"Salary\",\"Name\",\"Age\"]]"
   ]
  },
  {
   "cell_type": "code",
   "execution_count": 14,
   "metadata": {
    "id": "zQmSuZn8iwkg"
   },
   "outputs": [
    {
     "name": "stdout",
     "output_type": "stream",
     "text": [
      "(6, 4)\n",
      "(5, 4)\n",
      "Index(['Name', 'Age', 'Location', 'Salary'], dtype='object')\n"
     ]
    }
   ],
   "source": [
    "print(datas.shape)\n",
    "print(df.shape)\n",
    "\n",
    "print(datas.columns)\n",
    "\n"
   ]
  },
  {
   "cell_type": "code",
   "execution_count": 26,
   "metadata": {
    "id": "bC6SyehTiwkg"
   },
   "outputs": [
    {
     "data": {
      "text/plain": [
       "Index(['Name', 'Age', 'Location', 'Salary'], dtype='object')"
      ]
     },
     "execution_count": 26,
     "metadata": {},
     "output_type": "execute_result"
    }
   ],
   "source": [
    "datas.shape #Will give you no. of rows and no. of columns\n",
    "datas.columns # Will give you the column names.\n"
   ]
  },
  {
   "cell_type": "code",
   "execution_count": 27,
   "metadata": {
    "id": "ZWqlcYWLiwkg"
   },
   "outputs": [
    {
     "data": {
      "text/html": [
       "<div>\n",
       "<style scoped>\n",
       "    .dataframe tbody tr th:only-of-type {\n",
       "        vertical-align: middle;\n",
       "    }\n",
       "\n",
       "    .dataframe tbody tr th {\n",
       "        vertical-align: top;\n",
       "    }\n",
       "\n",
       "    .dataframe thead th {\n",
       "        text-align: right;\n",
       "    }\n",
       "</style>\n",
       "<table border=\"1\" class=\"dataframe\">\n",
       "  <thead>\n",
       "    <tr style=\"text-align: right;\">\n",
       "      <th></th>\n",
       "      <th>W</th>\n",
       "      <th>X</th>\n",
       "      <th>Y</th>\n",
       "      <th>Z</th>\n",
       "    </tr>\n",
       "  </thead>\n",
       "  <tbody>\n",
       "    <tr>\n",
       "      <th>A</th>\n",
       "      <td>0</td>\n",
       "      <td>1</td>\n",
       "      <td>2</td>\n",
       "      <td>3</td>\n",
       "    </tr>\n",
       "    <tr>\n",
       "      <th>B</th>\n",
       "      <td>4</td>\n",
       "      <td>5</td>\n",
       "      <td>6</td>\n",
       "      <td>7</td>\n",
       "    </tr>\n",
       "    <tr>\n",
       "      <th>C</th>\n",
       "      <td>8</td>\n",
       "      <td>9</td>\n",
       "      <td>10</td>\n",
       "      <td>11</td>\n",
       "    </tr>\n",
       "    <tr>\n",
       "      <th>D</th>\n",
       "      <td>12</td>\n",
       "      <td>13</td>\n",
       "      <td>14</td>\n",
       "      <td>15</td>\n",
       "    </tr>\n",
       "    <tr>\n",
       "      <th>E</th>\n",
       "      <td>16</td>\n",
       "      <td>17</td>\n",
       "      <td>18</td>\n",
       "      <td>19</td>\n",
       "    </tr>\n",
       "  </tbody>\n",
       "</table>\n",
       "</div>"
      ],
      "text/plain": [
       "    W   X   Y   Z\n",
       "A   0   1   2   3\n",
       "B   4   5   6   7\n",
       "C   8   9  10  11\n",
       "D  12  13  14  15\n",
       "E  16  17  18  19"
      ]
     },
     "execution_count": 27,
     "metadata": {},
     "output_type": "execute_result"
    }
   ],
   "source": [
    "# Pass a list of column names\n",
    "fd[[\"Z\",\"Y\",\"X\",\"W\"]]\n",
    "#datas[[\"Salary\",\"Age\",\"Name\",\"Location\"]]\n",
    "fd\n"
   ]
  },
  {
   "cell_type": "code",
   "execution_count": 28,
   "metadata": {
    "id": "-NlGIJsriwkg"
   },
   "outputs": [
    {
     "data": {
      "text/html": [
       "<div>\n",
       "<style scoped>\n",
       "    .dataframe tbody tr th:only-of-type {\n",
       "        vertical-align: middle;\n",
       "    }\n",
       "\n",
       "    .dataframe tbody tr th {\n",
       "        vertical-align: top;\n",
       "    }\n",
       "\n",
       "    .dataframe thead th {\n",
       "        text-align: right;\n",
       "    }\n",
       "</style>\n",
       "<table border=\"1\" class=\"dataframe\">\n",
       "  <thead>\n",
       "    <tr style=\"text-align: right;\">\n",
       "      <th></th>\n",
       "      <th>W</th>\n",
       "      <th>X</th>\n",
       "      <th>Y</th>\n",
       "      <th>Z</th>\n",
       "    </tr>\n",
       "  </thead>\n",
       "  <tbody>\n",
       "    <tr>\n",
       "      <th>A</th>\n",
       "      <td>0</td>\n",
       "      <td>1</td>\n",
       "      <td>2</td>\n",
       "      <td>3</td>\n",
       "    </tr>\n",
       "    <tr>\n",
       "      <th>B</th>\n",
       "      <td>4</td>\n",
       "      <td>5</td>\n",
       "      <td>6</td>\n",
       "      <td>7</td>\n",
       "    </tr>\n",
       "    <tr>\n",
       "      <th>C</th>\n",
       "      <td>8</td>\n",
       "      <td>9</td>\n",
       "      <td>10</td>\n",
       "      <td>11</td>\n",
       "    </tr>\n",
       "    <tr>\n",
       "      <th>D</th>\n",
       "      <td>12</td>\n",
       "      <td>13</td>\n",
       "      <td>14</td>\n",
       "      <td>15</td>\n",
       "    </tr>\n",
       "    <tr>\n",
       "      <th>E</th>\n",
       "      <td>16</td>\n",
       "      <td>17</td>\n",
       "      <td>18</td>\n",
       "      <td>19</td>\n",
       "    </tr>\n",
       "  </tbody>\n",
       "</table>\n",
       "</div>"
      ],
      "text/plain": [
       "    W   X   Y   Z\n",
       "A   0   1   2   3\n",
       "B   4   5   6   7\n",
       "C   8   9  10  11\n",
       "D  12  13  14  15\n",
       "E  16  17  18  19"
      ]
     },
     "execution_count": 28,
     "metadata": {},
     "output_type": "execute_result"
    }
   ],
   "source": [
    "fd"
   ]
  },
  {
   "cell_type": "code",
   "execution_count": 29,
   "metadata": {
    "id": "GQ8kkPy8iwkg"
   },
   "outputs": [
    {
     "data": {
      "text/html": [
       "<div>\n",
       "<style scoped>\n",
       "    .dataframe tbody tr th:only-of-type {\n",
       "        vertical-align: middle;\n",
       "    }\n",
       "\n",
       "    .dataframe tbody tr th {\n",
       "        vertical-align: top;\n",
       "    }\n",
       "\n",
       "    .dataframe thead th {\n",
       "        text-align: right;\n",
       "    }\n",
       "</style>\n",
       "<table border=\"1\" class=\"dataframe\">\n",
       "  <thead>\n",
       "    <tr style=\"text-align: right;\">\n",
       "      <th></th>\n",
       "      <th>W</th>\n",
       "      <th>X</th>\n",
       "      <th>Y</th>\n",
       "      <th>Z</th>\n",
       "    </tr>\n",
       "  </thead>\n",
       "  <tbody>\n",
       "    <tr>\n",
       "      <th>A</th>\n",
       "      <td>0</td>\n",
       "      <td>1</td>\n",
       "      <td>2</td>\n",
       "      <td>3</td>\n",
       "    </tr>\n",
       "    <tr>\n",
       "      <th>B</th>\n",
       "      <td>4</td>\n",
       "      <td>5</td>\n",
       "      <td>6</td>\n",
       "      <td>7</td>\n",
       "    </tr>\n",
       "    <tr>\n",
       "      <th>C</th>\n",
       "      <td>8</td>\n",
       "      <td>9</td>\n",
       "      <td>10</td>\n",
       "      <td>11</td>\n",
       "    </tr>\n",
       "    <tr>\n",
       "      <th>Delhi</th>\n",
       "      <td>12</td>\n",
       "      <td>13</td>\n",
       "      <td>14</td>\n",
       "      <td>15</td>\n",
       "    </tr>\n",
       "    <tr>\n",
       "      <th>E</th>\n",
       "      <td>16</td>\n",
       "      <td>17</td>\n",
       "      <td>18</td>\n",
       "      <td>19</td>\n",
       "    </tr>\n",
       "  </tbody>\n",
       "</table>\n",
       "</div>"
      ],
      "text/plain": [
       "        W   X   Y   Z\n",
       "A       0   1   2   3\n",
       "B       4   5   6   7\n",
       "C       8   9  10  11\n",
       "Delhi  12  13  14  15\n",
       "E      16  17  18  19"
      ]
     },
     "execution_count": 29,
     "metadata": {},
     "output_type": "execute_result"
    }
   ],
   "source": [
    "#Renaming Columns\n",
    "#fd.rename(columns={\"W\":\"shape\"},inplace=True)\n",
    "fd.rename(index={\"B\":\"BAG\"})\n",
    "fd.rename({\"X\":\"Happy\"},axis=1)#Columns\n",
    "fd.rename({\"D\":\"Delhi\"},axis=0)#Row\n",
    "\n",
    "\n",
    "#fd.rename(columns={\"shape\":\"W\",\"Happy\":\"X\"},index={\"BAG\":\"B\",\"Delhi\":\"D\"},inplace=True)\n",
    "#fd"
   ]
  },
  {
   "cell_type": "code",
   "execution_count": 33,
   "metadata": {
    "id": "ylje1-Doiwkh"
   },
   "outputs": [
    {
     "data": {
      "text/html": [
       "<div>\n",
       "<style scoped>\n",
       "    .dataframe tbody tr th:only-of-type {\n",
       "        vertical-align: middle;\n",
       "    }\n",
       "\n",
       "    .dataframe tbody tr th {\n",
       "        vertical-align: top;\n",
       "    }\n",
       "\n",
       "    .dataframe thead th {\n",
       "        text-align: right;\n",
       "    }\n",
       "</style>\n",
       "<table border=\"1\" class=\"dataframe\">\n",
       "  <thead>\n",
       "    <tr style=\"text-align: right;\">\n",
       "      <th></th>\n",
       "      <th>W</th>\n",
       "      <th>X</th>\n",
       "      <th>Y</th>\n",
       "      <th>Z</th>\n",
       "      <th>New</th>\n",
       "      <th>City</th>\n",
       "    </tr>\n",
       "  </thead>\n",
       "  <tbody>\n",
       "    <tr>\n",
       "      <th>A</th>\n",
       "      <td>0</td>\n",
       "      <td>1</td>\n",
       "      <td>2</td>\n",
       "      <td>3</td>\n",
       "      <td>4</td>\n",
       "      <td>Delhi</td>\n",
       "    </tr>\n",
       "    <tr>\n",
       "      <th>B</th>\n",
       "      <td>4</td>\n",
       "      <td>5</td>\n",
       "      <td>6</td>\n",
       "      <td>7</td>\n",
       "      <td>12</td>\n",
       "      <td>Mumbai</td>\n",
       "    </tr>\n",
       "    <tr>\n",
       "      <th>C</th>\n",
       "      <td>8</td>\n",
       "      <td>9</td>\n",
       "      <td>10</td>\n",
       "      <td>11</td>\n",
       "      <td>20</td>\n",
       "      <td>Chennai</td>\n",
       "    </tr>\n",
       "    <tr>\n",
       "      <th>D</th>\n",
       "      <td>12</td>\n",
       "      <td>13</td>\n",
       "      <td>14</td>\n",
       "      <td>15</td>\n",
       "      <td>28</td>\n",
       "      <td>Kolkata</td>\n",
       "    </tr>\n",
       "    <tr>\n",
       "      <th>E</th>\n",
       "      <td>16</td>\n",
       "      <td>17</td>\n",
       "      <td>18</td>\n",
       "      <td>19</td>\n",
       "      <td>36</td>\n",
       "      <td>Goa</td>\n",
       "    </tr>\n",
       "  </tbody>\n",
       "</table>\n",
       "</div>"
      ],
      "text/plain": [
       "    W   X   Y   Z  New     City\n",
       "A   0   1   2   3    4    Delhi\n",
       "B   4   5   6   7   12   Mumbai\n",
       "C   8   9  10  11   20  Chennai\n",
       "D  12  13  14  15   28  Kolkata\n",
       "E  16  17  18  19   36      Goa"
      ]
     },
     "execution_count": 33,
     "metadata": {},
     "output_type": "execute_result"
    }
   ],
   "source": [
    "fd"
   ]
  },
  {
   "cell_type": "markdown",
   "metadata": {
    "id": "pmSEKrO_iwki"
   },
   "source": [
    "** Removing Columns**"
   ]
  },
  {
   "cell_type": "code",
   "execution_count": null,
   "metadata": {
    "id": "7Pt9qxrCiwki"
   },
   "outputs": [],
   "source": [
    "#Dropping the Column\n",
    "df.drop([\"W\",\"Y\"],axis=1)#axis-1 means column wise\n",
    "df.drop([\"A\",\"E\",\"C\"],axis=0)#axis=0 means row wise\n"
   ]
  },
  {
   "cell_type": "code",
   "execution_count": null,
   "metadata": {
    "id": "KzXsz0-Biwki"
   },
   "outputs": [],
   "source": [
    "# Not inplace unless specified!\n",
    "fd.drop(index=[\"A\",\"B\"],columns=[\"W\",\"X\"])"
   ]
  },
  {
   "cell_type": "code",
   "execution_count": null,
   "metadata": {
    "id": "hOndcggFiwki"
   },
   "outputs": [],
   "source": [
    "df.drop('Z',axis=1)"
   ]
  },
  {
   "cell_type": "code",
   "execution_count": null,
   "metadata": {
    "id": "Q8YoGyDhiwki"
   },
   "outputs": [],
   "source": [
    "fd"
   ]
  },
  {
   "cell_type": "markdown",
   "metadata": {
    "id": "3Tomg_4qiwki"
   },
   "source": [
    "Can also drop rows this way:"
   ]
  },
  {
   "cell_type": "code",
   "execution_count": null,
   "metadata": {
    "id": "bZT3M2l4iwkj"
   },
   "outputs": [],
   "source": [
    "#df.drop('E',axis=0)"
   ]
  },
  {
   "cell_type": "code",
   "execution_count": null,
   "metadata": {
    "id": "S_rCQmGbiwkj"
   },
   "outputs": [],
   "source": [
    "fd=np.arange(0,20).reshape(5,4)\n",
    "fd=pd.DataFrame(fd,columns=[\"W\",\"X\",\"Y\",\"Z\"],index=[\"A\",\"B\",\"C\",\"D\",\"E\"])\n",
    "fd[\"New\"]=fd[\"Y\"]*fd[\"Z\"]\n",
    "#fd[\"New2\"]=[\"Hi\",\"Hello\",\"Good\",\"Star\",\"Plus\"]\n",
    "#fd.drop(columns=\"New2\",inplace=True)\n",
    "fd"
   ]
  },
  {
   "cell_type": "markdown",
   "metadata": {
    "id": "R1hC7hOyiwkj"
   },
   "source": [
    "# Loc and iLoc"
   ]
  },
  {
   "cell_type": "markdown",
   "metadata": {
    "id": "XQM3_UPIiwkj"
   },
   "source": [
    "** Selecting Rows**"
   ]
  },
  {
   "cell_type": "code",
   "execution_count": 35,
   "metadata": {
    "id": "rrQTxBP9iwkj",
    "scrolled": true
   },
   "outputs": [
    {
     "data": {
      "text/html": [
       "<div>\n",
       "<style scoped>\n",
       "    .dataframe tbody tr th:only-of-type {\n",
       "        vertical-align: middle;\n",
       "    }\n",
       "\n",
       "    .dataframe tbody tr th {\n",
       "        vertical-align: top;\n",
       "    }\n",
       "\n",
       "    .dataframe thead th {\n",
       "        text-align: right;\n",
       "    }\n",
       "</style>\n",
       "<table border=\"1\" class=\"dataframe\">\n",
       "  <thead>\n",
       "    <tr style=\"text-align: right;\">\n",
       "      <th></th>\n",
       "      <th>W</th>\n",
       "      <th>X</th>\n",
       "      <th>Y</th>\n",
       "      <th>Z</th>\n",
       "      <th>New</th>\n",
       "      <th>City</th>\n",
       "    </tr>\n",
       "  </thead>\n",
       "  <tbody>\n",
       "    <tr>\n",
       "      <th>A</th>\n",
       "      <td>0</td>\n",
       "      <td>1</td>\n",
       "      <td>2</td>\n",
       "      <td>3</td>\n",
       "      <td>4</td>\n",
       "      <td>Delhi</td>\n",
       "    </tr>\n",
       "    <tr>\n",
       "      <th>B</th>\n",
       "      <td>4</td>\n",
       "      <td>5</td>\n",
       "      <td>6</td>\n",
       "      <td>7</td>\n",
       "      <td>12</td>\n",
       "      <td>Mumbai</td>\n",
       "    </tr>\n",
       "    <tr>\n",
       "      <th>C</th>\n",
       "      <td>8</td>\n",
       "      <td>9</td>\n",
       "      <td>10</td>\n",
       "      <td>11</td>\n",
       "      <td>20</td>\n",
       "      <td>Chennai</td>\n",
       "    </tr>\n",
       "    <tr>\n",
       "      <th>D</th>\n",
       "      <td>12</td>\n",
       "      <td>13</td>\n",
       "      <td>14</td>\n",
       "      <td>15</td>\n",
       "      <td>28</td>\n",
       "      <td>Kolkata</td>\n",
       "    </tr>\n",
       "    <tr>\n",
       "      <th>E</th>\n",
       "      <td>16</td>\n",
       "      <td>17</td>\n",
       "      <td>18</td>\n",
       "      <td>19</td>\n",
       "      <td>36</td>\n",
       "      <td>Goa</td>\n",
       "    </tr>\n",
       "  </tbody>\n",
       "</table>\n",
       "</div>"
      ],
      "text/plain": [
       "    W   X   Y   Z  New     City\n",
       "A   0   1   2   3    4    Delhi\n",
       "B   4   5   6   7   12   Mumbai\n",
       "C   8   9  10  11   20  Chennai\n",
       "D  12  13  14  15   28  Kolkata\n",
       "E  16  17  18  19   36      Goa"
      ]
     },
     "execution_count": 35,
     "metadata": {},
     "output_type": "execute_result"
    }
   ],
   "source": [
    "fd\n",
    "\n",
    "#LOC executes on the column's name\n",
    "#iloc executies on the column's index position number\n"
   ]
  },
  {
   "cell_type": "code",
   "execution_count": null,
   "metadata": {},
   "outputs": [],
   "source": []
  },
  {
   "cell_type": "code",
   "execution_count": null,
   "metadata": {},
   "outputs": [],
   "source": []
  },
  {
   "cell_type": "code",
   "execution_count": 36,
   "metadata": {
    "id": "eYoYmTIFiwkj"
   },
   "outputs": [],
   "source": [
    "import pandas as pd\n",
    "import numpy as np"
   ]
  },
  {
   "cell_type": "code",
   "execution_count": 38,
   "metadata": {
    "id": "HlGUeVMiiwkj",
    "outputId": "eda796b7-c547-4e23-d2a4-a3c1ccf1a9fb"
   },
   "outputs": [
    {
     "data": {
      "text/html": [
       "<div>\n",
       "<style scoped>\n",
       "    .dataframe tbody tr th:only-of-type {\n",
       "        vertical-align: middle;\n",
       "    }\n",
       "\n",
       "    .dataframe tbody tr th {\n",
       "        vertical-align: top;\n",
       "    }\n",
       "\n",
       "    .dataframe thead th {\n",
       "        text-align: right;\n",
       "    }\n",
       "</style>\n",
       "<table border=\"1\" class=\"dataframe\">\n",
       "  <thead>\n",
       "    <tr style=\"text-align: right;\">\n",
       "      <th></th>\n",
       "      <th>Manufacturer</th>\n",
       "      <th>Model</th>\n",
       "      <th>Sales in thousands</th>\n",
       "      <th>x_4_year</th>\n",
       "      <th>Vehicle type</th>\n",
       "      <th>Price in thousands</th>\n",
       "      <th>Engine size</th>\n",
       "      <th>Horsepower</th>\n",
       "      <th>Wheelbase</th>\n",
       "      <th>Width</th>\n",
       "      <th>Length</th>\n",
       "      <th>Curb weight</th>\n",
       "      <th>Fuel capacity</th>\n",
       "      <th>Fuel efficiency</th>\n",
       "      <th>Latest Launch</th>\n",
       "      <th>Unnamed: 15</th>\n",
       "      <th>XX</th>\n",
       "    </tr>\n",
       "  </thead>\n",
       "  <tbody>\n",
       "    <tr>\n",
       "      <th>0</th>\n",
       "      <td>Acura</td>\n",
       "      <td>Integra</td>\n",
       "      <td>16.919</td>\n",
       "      <td>16.360</td>\n",
       "      <td>Passenger</td>\n",
       "      <td>21.50</td>\n",
       "      <td>1.8</td>\n",
       "      <td>140.0</td>\n",
       "      <td>101.2</td>\n",
       "      <td>67.3</td>\n",
       "      <td>172.4</td>\n",
       "      <td>2.639</td>\n",
       "      <td>13.2</td>\n",
       "      <td>28.0</td>\n",
       "      <td>2-Feb-14</td>\n",
       "      <td>NaN</td>\n",
       "      <td>16.360</td>\n",
       "    </tr>\n",
       "    <tr>\n",
       "      <th>1</th>\n",
       "      <td>Acura</td>\n",
       "      <td>TL</td>\n",
       "      <td>39.384</td>\n",
       "      <td>19.875</td>\n",
       "      <td>Passenger</td>\n",
       "      <td>28.40</td>\n",
       "      <td>3.2</td>\n",
       "      <td>225.0</td>\n",
       "      <td>108.1</td>\n",
       "      <td>70.3</td>\n",
       "      <td>192.9</td>\n",
       "      <td>3.517</td>\n",
       "      <td>17.2</td>\n",
       "      <td>25.0</td>\n",
       "      <td>6-Mar-15</td>\n",
       "      <td>NaN</td>\n",
       "      <td>19.875</td>\n",
       "    </tr>\n",
       "    <tr>\n",
       "      <th>2</th>\n",
       "      <td>Acura</td>\n",
       "      <td>CL</td>\n",
       "      <td>14.114</td>\n",
       "      <td>18.225</td>\n",
       "      <td>Passenger</td>\n",
       "      <td>NaN</td>\n",
       "      <td>3.2</td>\n",
       "      <td>225.0</td>\n",
       "      <td>106.9</td>\n",
       "      <td>70.6</td>\n",
       "      <td>192.0</td>\n",
       "      <td>3.470</td>\n",
       "      <td>17.2</td>\n",
       "      <td>26.0</td>\n",
       "      <td>1-Apr-14</td>\n",
       "      <td>NaN</td>\n",
       "      <td>18.225</td>\n",
       "    </tr>\n",
       "    <tr>\n",
       "      <th>3</th>\n",
       "      <td>Acura</td>\n",
       "      <td>RL</td>\n",
       "      <td>8.588</td>\n",
       "      <td>29.725</td>\n",
       "      <td>Passenger</td>\n",
       "      <td>42.00</td>\n",
       "      <td>3.5</td>\n",
       "      <td>210.0</td>\n",
       "      <td>114.6</td>\n",
       "      <td>71.4</td>\n",
       "      <td>196.6</td>\n",
       "      <td>3.850</td>\n",
       "      <td>18.0</td>\n",
       "      <td>22.0</td>\n",
       "      <td>3-Oct-15</td>\n",
       "      <td>NaN</td>\n",
       "      <td>29.725</td>\n",
       "    </tr>\n",
       "    <tr>\n",
       "      <th>4</th>\n",
       "      <td>Audi</td>\n",
       "      <td>A4</td>\n",
       "      <td>20.397</td>\n",
       "      <td>22.255</td>\n",
       "      <td>Passenger</td>\n",
       "      <td>23.99</td>\n",
       "      <td>1.8</td>\n",
       "      <td>150.0</td>\n",
       "      <td>102.6</td>\n",
       "      <td>68.2</td>\n",
       "      <td>178.0</td>\n",
       "      <td>2.998</td>\n",
       "      <td>16.4</td>\n",
       "      <td>27.0</td>\n",
       "      <td>10-Aug-15</td>\n",
       "      <td>NaN</td>\n",
       "      <td>22.255</td>\n",
       "    </tr>\n",
       "    <tr>\n",
       "      <th>...</th>\n",
       "      <td>...</td>\n",
       "      <td>...</td>\n",
       "      <td>...</td>\n",
       "      <td>...</td>\n",
       "      <td>...</td>\n",
       "      <td>...</td>\n",
       "      <td>...</td>\n",
       "      <td>...</td>\n",
       "      <td>...</td>\n",
       "      <td>...</td>\n",
       "      <td>...</td>\n",
       "      <td>...</td>\n",
       "      <td>...</td>\n",
       "      <td>...</td>\n",
       "      <td>...</td>\n",
       "      <td>...</td>\n",
       "      <td>...</td>\n",
       "    </tr>\n",
       "    <tr>\n",
       "      <th>152</th>\n",
       "      <td>Volvo</td>\n",
       "      <td>V40</td>\n",
       "      <td>3.545</td>\n",
       "      <td>NaN</td>\n",
       "      <td>Passenger</td>\n",
       "      <td>24.40</td>\n",
       "      <td>1.9</td>\n",
       "      <td>160.0</td>\n",
       "      <td>100.5</td>\n",
       "      <td>67.6</td>\n",
       "      <td>176.6</td>\n",
       "      <td>3.042</td>\n",
       "      <td>15.8</td>\n",
       "      <td>25.0</td>\n",
       "      <td>21-Sep-15</td>\n",
       "      <td>NaN</td>\n",
       "      <td>NaN</td>\n",
       "    </tr>\n",
       "    <tr>\n",
       "      <th>153</th>\n",
       "      <td>Volvo</td>\n",
       "      <td>S70</td>\n",
       "      <td>15.245</td>\n",
       "      <td>NaN</td>\n",
       "      <td>Passenger</td>\n",
       "      <td>27.50</td>\n",
       "      <td>2.4</td>\n",
       "      <td>168.0</td>\n",
       "      <td>104.9</td>\n",
       "      <td>69.3</td>\n",
       "      <td>185.9</td>\n",
       "      <td>3.208</td>\n",
       "      <td>17.9</td>\n",
       "      <td>25.0</td>\n",
       "      <td>24-Nov-14</td>\n",
       "      <td>NaN</td>\n",
       "      <td>NaN</td>\n",
       "    </tr>\n",
       "    <tr>\n",
       "      <th>154</th>\n",
       "      <td>Volvo</td>\n",
       "      <td>V70</td>\n",
       "      <td>17.531</td>\n",
       "      <td>NaN</td>\n",
       "      <td>Passenger</td>\n",
       "      <td>28.80</td>\n",
       "      <td>2.4</td>\n",
       "      <td>168.0</td>\n",
       "      <td>104.9</td>\n",
       "      <td>69.3</td>\n",
       "      <td>186.2</td>\n",
       "      <td>3.259</td>\n",
       "      <td>17.9</td>\n",
       "      <td>25.0</td>\n",
       "      <td>25-Jun-15</td>\n",
       "      <td>NaN</td>\n",
       "      <td>NaN</td>\n",
       "    </tr>\n",
       "    <tr>\n",
       "      <th>155</th>\n",
       "      <td>Volvo</td>\n",
       "      <td>C70</td>\n",
       "      <td>3.493</td>\n",
       "      <td>NaN</td>\n",
       "      <td>Passenger</td>\n",
       "      <td>45.50</td>\n",
       "      <td>2.3</td>\n",
       "      <td>236.0</td>\n",
       "      <td>104.9</td>\n",
       "      <td>71.5</td>\n",
       "      <td>185.7</td>\n",
       "      <td>3.601</td>\n",
       "      <td>18.5</td>\n",
       "      <td>23.0</td>\n",
       "      <td>26-Apr-15</td>\n",
       "      <td>NaN</td>\n",
       "      <td>NaN</td>\n",
       "    </tr>\n",
       "    <tr>\n",
       "      <th>156</th>\n",
       "      <td>Volvo</td>\n",
       "      <td>S80</td>\n",
       "      <td>18.969</td>\n",
       "      <td>NaN</td>\n",
       "      <td>Passenger</td>\n",
       "      <td>36.00</td>\n",
       "      <td>2.9</td>\n",
       "      <td>201.0</td>\n",
       "      <td>109.9</td>\n",
       "      <td>72.1</td>\n",
       "      <td>189.8</td>\n",
       "      <td>3.600</td>\n",
       "      <td>21.1</td>\n",
       "      <td>24.0</td>\n",
       "      <td>14-Nov-15</td>\n",
       "      <td>NaN</td>\n",
       "      <td>NaN</td>\n",
       "    </tr>\n",
       "  </tbody>\n",
       "</table>\n",
       "<p>157 rows × 17 columns</p>\n",
       "</div>"
      ],
      "text/plain": [
       "      Manufacturer              Model  Sales in thousands  x_4_year  \\\n",
       "0    Acura          Integra                        16.919    16.360   \n",
       "1    Acura          TL                             39.384    19.875   \n",
       "2    Acura          CL                             14.114    18.225   \n",
       "3    Acura          RL                              8.588    29.725   \n",
       "4    Audi           A4                             20.397    22.255   \n",
       "..             ...                ...                 ...       ...   \n",
       "152  Volvo          V40                             3.545       NaN   \n",
       "153  Volvo          S70                            15.245       NaN   \n",
       "154  Volvo          V70                            17.531       NaN   \n",
       "155  Volvo          C70                             3.493       NaN   \n",
       "156  Volvo          S80                            18.969       NaN   \n",
       "\n",
       "    Vehicle type  Price in thousands  Engine size  Horsepower  Wheelbase  \\\n",
       "0      Passenger               21.50          1.8       140.0      101.2   \n",
       "1      Passenger               28.40          3.2       225.0      108.1   \n",
       "2      Passenger                 NaN          3.2       225.0      106.9   \n",
       "3      Passenger               42.00          3.5       210.0      114.6   \n",
       "4      Passenger               23.99          1.8       150.0      102.6   \n",
       "..           ...                 ...          ...         ...        ...   \n",
       "152    Passenger               24.40          1.9       160.0      100.5   \n",
       "153    Passenger               27.50          2.4       168.0      104.9   \n",
       "154    Passenger               28.80          2.4       168.0      104.9   \n",
       "155    Passenger               45.50          2.3       236.0      104.9   \n",
       "156    Passenger               36.00          2.9       201.0      109.9   \n",
       "\n",
       "     Width  Length  Curb weight  Fuel capacity  Fuel efficiency Latest Launch  \\\n",
       "0     67.3   172.4        2.639           13.2             28.0      2-Feb-14   \n",
       "1     70.3   192.9        3.517           17.2             25.0      6-Mar-15   \n",
       "2     70.6   192.0        3.470           17.2             26.0      1-Apr-14   \n",
       "3     71.4   196.6        3.850           18.0             22.0      3-Oct-15   \n",
       "4     68.2   178.0        2.998           16.4             27.0     10-Aug-15   \n",
       "..     ...     ...          ...            ...              ...           ...   \n",
       "152   67.6   176.6        3.042           15.8             25.0     21-Sep-15   \n",
       "153   69.3   185.9        3.208           17.9             25.0     24-Nov-14   \n",
       "154   69.3   186.2        3.259           17.9             25.0     25-Jun-15   \n",
       "155   71.5   185.7        3.601           18.5             23.0     26-Apr-15   \n",
       "156   72.1   189.8        3.600           21.1             24.0     14-Nov-15   \n",
       "\n",
       "     Unnamed: 15      XX  \n",
       "0            NaN  16.360  \n",
       "1            NaN  19.875  \n",
       "2            NaN  18.225  \n",
       "3            NaN  29.725  \n",
       "4            NaN  22.255  \n",
       "..           ...     ...  \n",
       "152          NaN     NaN  \n",
       "153          NaN     NaN  \n",
       "154          NaN     NaN  \n",
       "155          NaN     NaN  \n",
       "156          NaN     NaN  \n",
       "\n",
       "[157 rows x 17 columns]"
      ]
     },
     "execution_count": 38,
     "metadata": {},
     "output_type": "execute_result"
    }
   ],
   "source": [
    "car=pd.read_csv(\"Car_sales.csv\")\n",
    "car\n",
    "#\\\\\n",
    "#/"
   ]
  },
  {
   "cell_type": "code",
   "execution_count": 39,
   "metadata": {
    "id": "K14sD5OYiwkk"
   },
   "outputs": [
    {
     "data": {
      "text/html": [
       "<div>\n",
       "<style scoped>\n",
       "    .dataframe tbody tr th:only-of-type {\n",
       "        vertical-align: middle;\n",
       "    }\n",
       "\n",
       "    .dataframe tbody tr th {\n",
       "        vertical-align: top;\n",
       "    }\n",
       "\n",
       "    .dataframe thead th {\n",
       "        text-align: right;\n",
       "    }\n",
       "</style>\n",
       "<table border=\"1\" class=\"dataframe\">\n",
       "  <thead>\n",
       "    <tr style=\"text-align: right;\">\n",
       "      <th></th>\n",
       "      <th>Model</th>\n",
       "      <th>Sales in thousands</th>\n",
       "      <th>x_4_year</th>\n",
       "      <th>Vehicle type</th>\n",
       "      <th>Price in thousands</th>\n",
       "      <th>Engine size</th>\n",
       "      <th>Horsepower</th>\n",
       "      <th>Wheelbase</th>\n",
       "      <th>Width</th>\n",
       "      <th>Length</th>\n",
       "      <th>Curb weight</th>\n",
       "      <th>Fuel capacity</th>\n",
       "      <th>Fuel efficiency</th>\n",
       "      <th>Latest Launch</th>\n",
       "      <th>Manufacturer</th>\n",
       "    </tr>\n",
       "  </thead>\n",
       "  <tbody>\n",
       "    <tr>\n",
       "      <th>0</th>\n",
       "      <td>Integra</td>\n",
       "      <td>16.919</td>\n",
       "      <td>16.360</td>\n",
       "      <td>Passenger</td>\n",
       "      <td>21.50</td>\n",
       "      <td>1.8</td>\n",
       "      <td>140.0</td>\n",
       "      <td>101.2</td>\n",
       "      <td>67.3</td>\n",
       "      <td>172.4</td>\n",
       "      <td>2.639</td>\n",
       "      <td>13.2</td>\n",
       "      <td>28.0</td>\n",
       "      <td>2-Feb-14</td>\n",
       "      <td>Acura</td>\n",
       "    </tr>\n",
       "    <tr>\n",
       "      <th>1</th>\n",
       "      <td>TL</td>\n",
       "      <td>39.384</td>\n",
       "      <td>19.875</td>\n",
       "      <td>Passenger</td>\n",
       "      <td>28.40</td>\n",
       "      <td>3.2</td>\n",
       "      <td>225.0</td>\n",
       "      <td>108.1</td>\n",
       "      <td>70.3</td>\n",
       "      <td>192.9</td>\n",
       "      <td>3.517</td>\n",
       "      <td>17.2</td>\n",
       "      <td>25.0</td>\n",
       "      <td>6-Mar-15</td>\n",
       "      <td>Acura</td>\n",
       "    </tr>\n",
       "    <tr>\n",
       "      <th>2</th>\n",
       "      <td>CL</td>\n",
       "      <td>14.114</td>\n",
       "      <td>18.225</td>\n",
       "      <td>Passenger</td>\n",
       "      <td>NaN</td>\n",
       "      <td>3.2</td>\n",
       "      <td>225.0</td>\n",
       "      <td>106.9</td>\n",
       "      <td>70.6</td>\n",
       "      <td>192.0</td>\n",
       "      <td>3.470</td>\n",
       "      <td>17.2</td>\n",
       "      <td>26.0</td>\n",
       "      <td>1-Apr-14</td>\n",
       "      <td>Acura</td>\n",
       "    </tr>\n",
       "    <tr>\n",
       "      <th>3</th>\n",
       "      <td>RL</td>\n",
       "      <td>8.588</td>\n",
       "      <td>29.725</td>\n",
       "      <td>Passenger</td>\n",
       "      <td>42.00</td>\n",
       "      <td>3.5</td>\n",
       "      <td>210.0</td>\n",
       "      <td>114.6</td>\n",
       "      <td>71.4</td>\n",
       "      <td>196.6</td>\n",
       "      <td>3.850</td>\n",
       "      <td>18.0</td>\n",
       "      <td>22.0</td>\n",
       "      <td>3-Oct-15</td>\n",
       "      <td>Acura</td>\n",
       "    </tr>\n",
       "    <tr>\n",
       "      <th>4</th>\n",
       "      <td>A4</td>\n",
       "      <td>20.397</td>\n",
       "      <td>22.255</td>\n",
       "      <td>Passenger</td>\n",
       "      <td>23.99</td>\n",
       "      <td>1.8</td>\n",
       "      <td>150.0</td>\n",
       "      <td>102.6</td>\n",
       "      <td>68.2</td>\n",
       "      <td>178.0</td>\n",
       "      <td>2.998</td>\n",
       "      <td>16.4</td>\n",
       "      <td>27.0</td>\n",
       "      <td>10-Aug-15</td>\n",
       "      <td>Audi</td>\n",
       "    </tr>\n",
       "    <tr>\n",
       "      <th>...</th>\n",
       "      <td>...</td>\n",
       "      <td>...</td>\n",
       "      <td>...</td>\n",
       "      <td>...</td>\n",
       "      <td>...</td>\n",
       "      <td>...</td>\n",
       "      <td>...</td>\n",
       "      <td>...</td>\n",
       "      <td>...</td>\n",
       "      <td>...</td>\n",
       "      <td>...</td>\n",
       "      <td>...</td>\n",
       "      <td>...</td>\n",
       "      <td>...</td>\n",
       "      <td>...</td>\n",
       "    </tr>\n",
       "    <tr>\n",
       "      <th>152</th>\n",
       "      <td>V40</td>\n",
       "      <td>3.545</td>\n",
       "      <td>NaN</td>\n",
       "      <td>Passenger</td>\n",
       "      <td>24.40</td>\n",
       "      <td>1.9</td>\n",
       "      <td>160.0</td>\n",
       "      <td>100.5</td>\n",
       "      <td>67.6</td>\n",
       "      <td>176.6</td>\n",
       "      <td>3.042</td>\n",
       "      <td>15.8</td>\n",
       "      <td>25.0</td>\n",
       "      <td>21-Sep-15</td>\n",
       "      <td>Volvo</td>\n",
       "    </tr>\n",
       "    <tr>\n",
       "      <th>153</th>\n",
       "      <td>S70</td>\n",
       "      <td>15.245</td>\n",
       "      <td>NaN</td>\n",
       "      <td>Passenger</td>\n",
       "      <td>27.50</td>\n",
       "      <td>2.4</td>\n",
       "      <td>168.0</td>\n",
       "      <td>104.9</td>\n",
       "      <td>69.3</td>\n",
       "      <td>185.9</td>\n",
       "      <td>3.208</td>\n",
       "      <td>17.9</td>\n",
       "      <td>25.0</td>\n",
       "      <td>24-Nov-14</td>\n",
       "      <td>Volvo</td>\n",
       "    </tr>\n",
       "    <tr>\n",
       "      <th>154</th>\n",
       "      <td>V70</td>\n",
       "      <td>17.531</td>\n",
       "      <td>NaN</td>\n",
       "      <td>Passenger</td>\n",
       "      <td>28.80</td>\n",
       "      <td>2.4</td>\n",
       "      <td>168.0</td>\n",
       "      <td>104.9</td>\n",
       "      <td>69.3</td>\n",
       "      <td>186.2</td>\n",
       "      <td>3.259</td>\n",
       "      <td>17.9</td>\n",
       "      <td>25.0</td>\n",
       "      <td>25-Jun-15</td>\n",
       "      <td>Volvo</td>\n",
       "    </tr>\n",
       "    <tr>\n",
       "      <th>155</th>\n",
       "      <td>C70</td>\n",
       "      <td>3.493</td>\n",
       "      <td>NaN</td>\n",
       "      <td>Passenger</td>\n",
       "      <td>45.50</td>\n",
       "      <td>2.3</td>\n",
       "      <td>236.0</td>\n",
       "      <td>104.9</td>\n",
       "      <td>71.5</td>\n",
       "      <td>185.7</td>\n",
       "      <td>3.601</td>\n",
       "      <td>18.5</td>\n",
       "      <td>23.0</td>\n",
       "      <td>26-Apr-15</td>\n",
       "      <td>Volvo</td>\n",
       "    </tr>\n",
       "    <tr>\n",
       "      <th>156</th>\n",
       "      <td>S80</td>\n",
       "      <td>18.969</td>\n",
       "      <td>NaN</td>\n",
       "      <td>Passenger</td>\n",
       "      <td>36.00</td>\n",
       "      <td>2.9</td>\n",
       "      <td>201.0</td>\n",
       "      <td>109.9</td>\n",
       "      <td>72.1</td>\n",
       "      <td>189.8</td>\n",
       "      <td>3.600</td>\n",
       "      <td>21.1</td>\n",
       "      <td>24.0</td>\n",
       "      <td>14-Nov-15</td>\n",
       "      <td>Volvo</td>\n",
       "    </tr>\n",
       "  </tbody>\n",
       "</table>\n",
       "<p>157 rows × 15 columns</p>\n",
       "</div>"
      ],
      "text/plain": [
       "                 Model  Sales in thousands  x_4_year Vehicle type  \\\n",
       "0    Integra                        16.919    16.360    Passenger   \n",
       "1    TL                             39.384    19.875    Passenger   \n",
       "2    CL                             14.114    18.225    Passenger   \n",
       "3    RL                              8.588    29.725    Passenger   \n",
       "4    A4                             20.397    22.255    Passenger   \n",
       "..                 ...                 ...       ...          ...   \n",
       "152  V40                             3.545       NaN    Passenger   \n",
       "153  S70                            15.245       NaN    Passenger   \n",
       "154  V70                            17.531       NaN    Passenger   \n",
       "155  C70                             3.493       NaN    Passenger   \n",
       "156  S80                            18.969       NaN    Passenger   \n",
       "\n",
       "     Price in thousands  Engine size  Horsepower  Wheelbase  Width  Length  \\\n",
       "0                 21.50          1.8       140.0      101.2   67.3   172.4   \n",
       "1                 28.40          3.2       225.0      108.1   70.3   192.9   \n",
       "2                   NaN          3.2       225.0      106.9   70.6   192.0   \n",
       "3                 42.00          3.5       210.0      114.6   71.4   196.6   \n",
       "4                 23.99          1.8       150.0      102.6   68.2   178.0   \n",
       "..                  ...          ...         ...        ...    ...     ...   \n",
       "152               24.40          1.9       160.0      100.5   67.6   176.6   \n",
       "153               27.50          2.4       168.0      104.9   69.3   185.9   \n",
       "154               28.80          2.4       168.0      104.9   69.3   186.2   \n",
       "155               45.50          2.3       236.0      104.9   71.5   185.7   \n",
       "156               36.00          2.9       201.0      109.9   72.1   189.8   \n",
       "\n",
       "     Curb weight  Fuel capacity  Fuel efficiency Latest Launch   Manufacturer  \n",
       "0          2.639           13.2             28.0      2-Feb-14  Acura          \n",
       "1          3.517           17.2             25.0      6-Mar-15  Acura          \n",
       "2          3.470           17.2             26.0      1-Apr-14  Acura          \n",
       "3          3.850           18.0             22.0      3-Oct-15  Acura          \n",
       "4          2.998           16.4             27.0     10-Aug-15  Audi           \n",
       "..           ...            ...              ...           ...            ...  \n",
       "152        3.042           15.8             25.0     21-Sep-15  Volvo          \n",
       "153        3.208           17.9             25.0     24-Nov-14  Volvo          \n",
       "154        3.259           17.9             25.0     25-Jun-15  Volvo          \n",
       "155        3.601           18.5             23.0     26-Apr-15  Volvo          \n",
       "156        3.600           21.1             24.0     14-Nov-15  Volvo          \n",
       "\n",
       "[157 rows x 15 columns]"
      ]
     },
     "execution_count": 39,
     "metadata": {},
     "output_type": "execute_result"
    }
   ],
   "source": [
    "#loc and iloc\n",
    "car.iloc[:,:15]\n",
    "car.columns\n",
    "car.loc[:,['Model', 'Sales in thousands', 'x_4_year',\n",
    "       'Vehicle type', 'Price in thousands', 'Engine size', 'Horsepower',\n",
    "       'Wheelbase', 'Width', 'Length', 'Curb weight', 'Fuel capacity',\n",
    "       'Fuel efficiency', 'Latest Launch','Manufacturer']]"
   ]
  },
  {
   "cell_type": "code",
   "execution_count": 40,
   "metadata": {
    "id": "5hLVsAsNiwkk"
   },
   "outputs": [
    {
     "data": {
      "text/html": [
       "<div>\n",
       "<style scoped>\n",
       "    .dataframe tbody tr th:only-of-type {\n",
       "        vertical-align: middle;\n",
       "    }\n",
       "\n",
       "    .dataframe tbody tr th {\n",
       "        vertical-align: top;\n",
       "    }\n",
       "\n",
       "    .dataframe thead th {\n",
       "        text-align: right;\n",
       "    }\n",
       "</style>\n",
       "<table border=\"1\" class=\"dataframe\">\n",
       "  <thead>\n",
       "    <tr style=\"text-align: right;\">\n",
       "      <th></th>\n",
       "      <th>Manufacturer</th>\n",
       "      <th>Model</th>\n",
       "      <th>Sales in thousands</th>\n",
       "      <th>x_4_year</th>\n",
       "      <th>Vehicle type</th>\n",
       "      <th>Price in thousands</th>\n",
       "      <th>Engine size</th>\n",
       "      <th>Horsepower</th>\n",
       "      <th>Wheelbase</th>\n",
       "      <th>Width</th>\n",
       "      <th>Length</th>\n",
       "      <th>Curb weight</th>\n",
       "      <th>Fuel capacity</th>\n",
       "      <th>Fuel efficiency</th>\n",
       "      <th>Latest Launch</th>\n",
       "      <th>Unnamed: 15</th>\n",
       "      <th>XX</th>\n",
       "    </tr>\n",
       "  </thead>\n",
       "  <tbody>\n",
       "    <tr>\n",
       "      <th>0</th>\n",
       "      <td>Acura</td>\n",
       "      <td>Integra</td>\n",
       "      <td>16.919</td>\n",
       "      <td>16.360</td>\n",
       "      <td>Passenger</td>\n",
       "      <td>21.50</td>\n",
       "      <td>1.8</td>\n",
       "      <td>140.0</td>\n",
       "      <td>101.2</td>\n",
       "      <td>67.3</td>\n",
       "      <td>172.4</td>\n",
       "      <td>2.639</td>\n",
       "      <td>13.2</td>\n",
       "      <td>28.0</td>\n",
       "      <td>2-Feb-14</td>\n",
       "      <td>NaN</td>\n",
       "      <td>16.360</td>\n",
       "    </tr>\n",
       "    <tr>\n",
       "      <th>1</th>\n",
       "      <td>Acura</td>\n",
       "      <td>TL</td>\n",
       "      <td>39.384</td>\n",
       "      <td>19.875</td>\n",
       "      <td>Passenger</td>\n",
       "      <td>28.40</td>\n",
       "      <td>3.2</td>\n",
       "      <td>225.0</td>\n",
       "      <td>108.1</td>\n",
       "      <td>70.3</td>\n",
       "      <td>192.9</td>\n",
       "      <td>3.517</td>\n",
       "      <td>17.2</td>\n",
       "      <td>25.0</td>\n",
       "      <td>6-Mar-15</td>\n",
       "      <td>NaN</td>\n",
       "      <td>19.875</td>\n",
       "    </tr>\n",
       "    <tr>\n",
       "      <th>2</th>\n",
       "      <td>Acura</td>\n",
       "      <td>CL</td>\n",
       "      <td>14.114</td>\n",
       "      <td>18.225</td>\n",
       "      <td>Passenger</td>\n",
       "      <td>NaN</td>\n",
       "      <td>3.2</td>\n",
       "      <td>225.0</td>\n",
       "      <td>106.9</td>\n",
       "      <td>70.6</td>\n",
       "      <td>192.0</td>\n",
       "      <td>3.470</td>\n",
       "      <td>17.2</td>\n",
       "      <td>26.0</td>\n",
       "      <td>1-Apr-14</td>\n",
       "      <td>NaN</td>\n",
       "      <td>18.225</td>\n",
       "    </tr>\n",
       "    <tr>\n",
       "      <th>3</th>\n",
       "      <td>Acura</td>\n",
       "      <td>RL</td>\n",
       "      <td>8.588</td>\n",
       "      <td>29.725</td>\n",
       "      <td>Passenger</td>\n",
       "      <td>42.00</td>\n",
       "      <td>3.5</td>\n",
       "      <td>210.0</td>\n",
       "      <td>114.6</td>\n",
       "      <td>71.4</td>\n",
       "      <td>196.6</td>\n",
       "      <td>3.850</td>\n",
       "      <td>18.0</td>\n",
       "      <td>22.0</td>\n",
       "      <td>3-Oct-15</td>\n",
       "      <td>NaN</td>\n",
       "      <td>29.725</td>\n",
       "    </tr>\n",
       "    <tr>\n",
       "      <th>4</th>\n",
       "      <td>Audi</td>\n",
       "      <td>A4</td>\n",
       "      <td>20.397</td>\n",
       "      <td>22.255</td>\n",
       "      <td>Passenger</td>\n",
       "      <td>23.99</td>\n",
       "      <td>1.8</td>\n",
       "      <td>150.0</td>\n",
       "      <td>102.6</td>\n",
       "      <td>68.2</td>\n",
       "      <td>178.0</td>\n",
       "      <td>2.998</td>\n",
       "      <td>16.4</td>\n",
       "      <td>27.0</td>\n",
       "      <td>10-Aug-15</td>\n",
       "      <td>NaN</td>\n",
       "      <td>22.255</td>\n",
       "    </tr>\n",
       "    <tr>\n",
       "      <th>...</th>\n",
       "      <td>...</td>\n",
       "      <td>...</td>\n",
       "      <td>...</td>\n",
       "      <td>...</td>\n",
       "      <td>...</td>\n",
       "      <td>...</td>\n",
       "      <td>...</td>\n",
       "      <td>...</td>\n",
       "      <td>...</td>\n",
       "      <td>...</td>\n",
       "      <td>...</td>\n",
       "      <td>...</td>\n",
       "      <td>...</td>\n",
       "      <td>...</td>\n",
       "      <td>...</td>\n",
       "      <td>...</td>\n",
       "      <td>...</td>\n",
       "    </tr>\n",
       "    <tr>\n",
       "      <th>152</th>\n",
       "      <td>Volvo</td>\n",
       "      <td>V40</td>\n",
       "      <td>3.545</td>\n",
       "      <td>NaN</td>\n",
       "      <td>Passenger</td>\n",
       "      <td>24.40</td>\n",
       "      <td>1.9</td>\n",
       "      <td>160.0</td>\n",
       "      <td>100.5</td>\n",
       "      <td>67.6</td>\n",
       "      <td>176.6</td>\n",
       "      <td>3.042</td>\n",
       "      <td>15.8</td>\n",
       "      <td>25.0</td>\n",
       "      <td>21-Sep-15</td>\n",
       "      <td>NaN</td>\n",
       "      <td>NaN</td>\n",
       "    </tr>\n",
       "    <tr>\n",
       "      <th>153</th>\n",
       "      <td>Volvo</td>\n",
       "      <td>S70</td>\n",
       "      <td>15.245</td>\n",
       "      <td>NaN</td>\n",
       "      <td>Passenger</td>\n",
       "      <td>27.50</td>\n",
       "      <td>2.4</td>\n",
       "      <td>168.0</td>\n",
       "      <td>104.9</td>\n",
       "      <td>69.3</td>\n",
       "      <td>185.9</td>\n",
       "      <td>3.208</td>\n",
       "      <td>17.9</td>\n",
       "      <td>25.0</td>\n",
       "      <td>24-Nov-14</td>\n",
       "      <td>NaN</td>\n",
       "      <td>NaN</td>\n",
       "    </tr>\n",
       "    <tr>\n",
       "      <th>154</th>\n",
       "      <td>Volvo</td>\n",
       "      <td>V70</td>\n",
       "      <td>17.531</td>\n",
       "      <td>NaN</td>\n",
       "      <td>Passenger</td>\n",
       "      <td>28.80</td>\n",
       "      <td>2.4</td>\n",
       "      <td>168.0</td>\n",
       "      <td>104.9</td>\n",
       "      <td>69.3</td>\n",
       "      <td>186.2</td>\n",
       "      <td>3.259</td>\n",
       "      <td>17.9</td>\n",
       "      <td>25.0</td>\n",
       "      <td>25-Jun-15</td>\n",
       "      <td>NaN</td>\n",
       "      <td>NaN</td>\n",
       "    </tr>\n",
       "    <tr>\n",
       "      <th>155</th>\n",
       "      <td>Volvo</td>\n",
       "      <td>C70</td>\n",
       "      <td>3.493</td>\n",
       "      <td>NaN</td>\n",
       "      <td>Passenger</td>\n",
       "      <td>45.50</td>\n",
       "      <td>2.3</td>\n",
       "      <td>236.0</td>\n",
       "      <td>104.9</td>\n",
       "      <td>71.5</td>\n",
       "      <td>185.7</td>\n",
       "      <td>3.601</td>\n",
       "      <td>18.5</td>\n",
       "      <td>23.0</td>\n",
       "      <td>26-Apr-15</td>\n",
       "      <td>NaN</td>\n",
       "      <td>NaN</td>\n",
       "    </tr>\n",
       "    <tr>\n",
       "      <th>156</th>\n",
       "      <td>Volvo</td>\n",
       "      <td>S80</td>\n",
       "      <td>18.969</td>\n",
       "      <td>NaN</td>\n",
       "      <td>Passenger</td>\n",
       "      <td>36.00</td>\n",
       "      <td>2.9</td>\n",
       "      <td>201.0</td>\n",
       "      <td>109.9</td>\n",
       "      <td>72.1</td>\n",
       "      <td>189.8</td>\n",
       "      <td>3.600</td>\n",
       "      <td>21.1</td>\n",
       "      <td>24.0</td>\n",
       "      <td>14-Nov-15</td>\n",
       "      <td>NaN</td>\n",
       "      <td>NaN</td>\n",
       "    </tr>\n",
       "  </tbody>\n",
       "</table>\n",
       "<p>157 rows × 17 columns</p>\n",
       "</div>"
      ],
      "text/plain": [
       "      Manufacturer              Model  Sales in thousands  x_4_year  \\\n",
       "0    Acura          Integra                        16.919    16.360   \n",
       "1    Acura          TL                             39.384    19.875   \n",
       "2    Acura          CL                             14.114    18.225   \n",
       "3    Acura          RL                              8.588    29.725   \n",
       "4    Audi           A4                             20.397    22.255   \n",
       "..             ...                ...                 ...       ...   \n",
       "152  Volvo          V40                             3.545       NaN   \n",
       "153  Volvo          S70                            15.245       NaN   \n",
       "154  Volvo          V70                            17.531       NaN   \n",
       "155  Volvo          C70                             3.493       NaN   \n",
       "156  Volvo          S80                            18.969       NaN   \n",
       "\n",
       "    Vehicle type  Price in thousands  Engine size  Horsepower  Wheelbase  \\\n",
       "0      Passenger               21.50          1.8       140.0      101.2   \n",
       "1      Passenger               28.40          3.2       225.0      108.1   \n",
       "2      Passenger                 NaN          3.2       225.0      106.9   \n",
       "3      Passenger               42.00          3.5       210.0      114.6   \n",
       "4      Passenger               23.99          1.8       150.0      102.6   \n",
       "..           ...                 ...          ...         ...        ...   \n",
       "152    Passenger               24.40          1.9       160.0      100.5   \n",
       "153    Passenger               27.50          2.4       168.0      104.9   \n",
       "154    Passenger               28.80          2.4       168.0      104.9   \n",
       "155    Passenger               45.50          2.3       236.0      104.9   \n",
       "156    Passenger               36.00          2.9       201.0      109.9   \n",
       "\n",
       "     Width  Length  Curb weight  Fuel capacity  Fuel efficiency Latest Launch  \\\n",
       "0     67.3   172.4        2.639           13.2             28.0      2-Feb-14   \n",
       "1     70.3   192.9        3.517           17.2             25.0      6-Mar-15   \n",
       "2     70.6   192.0        3.470           17.2             26.0      1-Apr-14   \n",
       "3     71.4   196.6        3.850           18.0             22.0      3-Oct-15   \n",
       "4     68.2   178.0        2.998           16.4             27.0     10-Aug-15   \n",
       "..     ...     ...          ...            ...              ...           ...   \n",
       "152   67.6   176.6        3.042           15.8             25.0     21-Sep-15   \n",
       "153   69.3   185.9        3.208           17.9             25.0     24-Nov-14   \n",
       "154   69.3   186.2        3.259           17.9             25.0     25-Jun-15   \n",
       "155   71.5   185.7        3.601           18.5             23.0     26-Apr-15   \n",
       "156   72.1   189.8        3.600           21.1             24.0     14-Nov-15   \n",
       "\n",
       "     Unnamed: 15      XX  \n",
       "0            NaN  16.360  \n",
       "1            NaN  19.875  \n",
       "2            NaN  18.225  \n",
       "3            NaN  29.725  \n",
       "4            NaN  22.255  \n",
       "..           ...     ...  \n",
       "152          NaN     NaN  \n",
       "153          NaN     NaN  \n",
       "154          NaN     NaN  \n",
       "155          NaN     NaN  \n",
       "156          NaN     NaN  \n",
       "\n",
       "[157 rows x 17 columns]"
      ]
     },
     "execution_count": 40,
     "metadata": {},
     "output_type": "execute_result"
    }
   ],
   "source": [
    "car"
   ]
  },
  {
   "cell_type": "code",
   "execution_count": null,
   "metadata": {
    "id": "zxKnqwuRiwkk"
   },
   "outputs": [],
   "source": [
    "car.head(25)"
   ]
  },
  {
   "cell_type": "code",
   "execution_count": 41,
   "metadata": {
    "id": "f5UvVwFEiwkk"
   },
   "outputs": [
    {
     "ename": "KeyError",
     "evalue": "\"['Unnamed: 15', 'XX'] not found in axis\"",
     "output_type": "error",
     "traceback": [
      "\u001b[1;31m---------------------------------------------------------------------------\u001b[0m",
      "\u001b[1;31mKeyError\u001b[0m                                  Traceback (most recent call last)",
      "Cell \u001b[1;32mIn[41], line 4\u001b[0m\n\u001b[0;32m      1\u001b[0m car\n\u001b[0;32m      2\u001b[0m \u001b[38;5;66;03m#Dropping the columns\u001b[39;00m\n\u001b[0;32m      3\u001b[0m \u001b[38;5;66;03m#car.drop(columns=['Unnamed: 15', 'XX'])\u001b[39;00m\n\u001b[1;32m----> 4\u001b[0m car\u001b[38;5;241m.\u001b[39mdrop([\u001b[38;5;124m'\u001b[39m\u001b[38;5;124mUnnamed: 15\u001b[39m\u001b[38;5;124m'\u001b[39m, \u001b[38;5;124m'\u001b[39m\u001b[38;5;124mXX\u001b[39m\u001b[38;5;124m'\u001b[39m],axis\u001b[38;5;241m=\u001b[39m\u001b[38;5;241m0\u001b[39m)\n\u001b[0;32m      5\u001b[0m car\n",
      "File \u001b[1;32m~\\anaconda3\\Lib\\site-packages\\pandas\\core\\frame.py:5258\u001b[0m, in \u001b[0;36mDataFrame.drop\u001b[1;34m(self, labels, axis, index, columns, level, inplace, errors)\u001b[0m\n\u001b[0;32m   5110\u001b[0m \u001b[38;5;28;01mdef\u001b[39;00m \u001b[38;5;21mdrop\u001b[39m(\n\u001b[0;32m   5111\u001b[0m     \u001b[38;5;28mself\u001b[39m,\n\u001b[0;32m   5112\u001b[0m     labels: IndexLabel \u001b[38;5;241m=\u001b[39m \u001b[38;5;28;01mNone\u001b[39;00m,\n\u001b[1;32m   (...)\u001b[0m\n\u001b[0;32m   5119\u001b[0m     errors: IgnoreRaise \u001b[38;5;241m=\u001b[39m \u001b[38;5;124m\"\u001b[39m\u001b[38;5;124mraise\u001b[39m\u001b[38;5;124m\"\u001b[39m,\n\u001b[0;32m   5120\u001b[0m ) \u001b[38;5;241m-\u001b[39m\u001b[38;5;241m>\u001b[39m DataFrame \u001b[38;5;241m|\u001b[39m \u001b[38;5;28;01mNone\u001b[39;00m:\n\u001b[0;32m   5121\u001b[0m \u001b[38;5;250m    \u001b[39m\u001b[38;5;124;03m\"\"\"\u001b[39;00m\n\u001b[0;32m   5122\u001b[0m \u001b[38;5;124;03m    Drop specified labels from rows or columns.\u001b[39;00m\n\u001b[0;32m   5123\u001b[0m \n\u001b[1;32m   (...)\u001b[0m\n\u001b[0;32m   5256\u001b[0m \u001b[38;5;124;03m            weight  1.0     0.8\u001b[39;00m\n\u001b[0;32m   5257\u001b[0m \u001b[38;5;124;03m    \"\"\"\u001b[39;00m\n\u001b[1;32m-> 5258\u001b[0m     \u001b[38;5;28;01mreturn\u001b[39;00m \u001b[38;5;28msuper\u001b[39m()\u001b[38;5;241m.\u001b[39mdrop(\n\u001b[0;32m   5259\u001b[0m         labels\u001b[38;5;241m=\u001b[39mlabels,\n\u001b[0;32m   5260\u001b[0m         axis\u001b[38;5;241m=\u001b[39maxis,\n\u001b[0;32m   5261\u001b[0m         index\u001b[38;5;241m=\u001b[39mindex,\n\u001b[0;32m   5262\u001b[0m         columns\u001b[38;5;241m=\u001b[39mcolumns,\n\u001b[0;32m   5263\u001b[0m         level\u001b[38;5;241m=\u001b[39mlevel,\n\u001b[0;32m   5264\u001b[0m         inplace\u001b[38;5;241m=\u001b[39minplace,\n\u001b[0;32m   5265\u001b[0m         errors\u001b[38;5;241m=\u001b[39merrors,\n\u001b[0;32m   5266\u001b[0m     )\n",
      "File \u001b[1;32m~\\anaconda3\\Lib\\site-packages\\pandas\\core\\generic.py:4549\u001b[0m, in \u001b[0;36mNDFrame.drop\u001b[1;34m(self, labels, axis, index, columns, level, inplace, errors)\u001b[0m\n\u001b[0;32m   4547\u001b[0m \u001b[38;5;28;01mfor\u001b[39;00m axis, labels \u001b[38;5;129;01min\u001b[39;00m axes\u001b[38;5;241m.\u001b[39mitems():\n\u001b[0;32m   4548\u001b[0m     \u001b[38;5;28;01mif\u001b[39;00m labels \u001b[38;5;129;01mis\u001b[39;00m \u001b[38;5;129;01mnot\u001b[39;00m \u001b[38;5;28;01mNone\u001b[39;00m:\n\u001b[1;32m-> 4549\u001b[0m         obj \u001b[38;5;241m=\u001b[39m obj\u001b[38;5;241m.\u001b[39m_drop_axis(labels, axis, level\u001b[38;5;241m=\u001b[39mlevel, errors\u001b[38;5;241m=\u001b[39merrors)\n\u001b[0;32m   4551\u001b[0m \u001b[38;5;28;01mif\u001b[39;00m inplace:\n\u001b[0;32m   4552\u001b[0m     \u001b[38;5;28mself\u001b[39m\u001b[38;5;241m.\u001b[39m_update_inplace(obj)\n",
      "File \u001b[1;32m~\\anaconda3\\Lib\\site-packages\\pandas\\core\\generic.py:4591\u001b[0m, in \u001b[0;36mNDFrame._drop_axis\u001b[1;34m(self, labels, axis, level, errors, only_slice)\u001b[0m\n\u001b[0;32m   4589\u001b[0m         new_axis \u001b[38;5;241m=\u001b[39m axis\u001b[38;5;241m.\u001b[39mdrop(labels, level\u001b[38;5;241m=\u001b[39mlevel, errors\u001b[38;5;241m=\u001b[39merrors)\n\u001b[0;32m   4590\u001b[0m     \u001b[38;5;28;01melse\u001b[39;00m:\n\u001b[1;32m-> 4591\u001b[0m         new_axis \u001b[38;5;241m=\u001b[39m axis\u001b[38;5;241m.\u001b[39mdrop(labels, errors\u001b[38;5;241m=\u001b[39merrors)\n\u001b[0;32m   4592\u001b[0m     indexer \u001b[38;5;241m=\u001b[39m axis\u001b[38;5;241m.\u001b[39mget_indexer(new_axis)\n\u001b[0;32m   4594\u001b[0m \u001b[38;5;66;03m# Case for non-unique axis\u001b[39;00m\n\u001b[0;32m   4595\u001b[0m \u001b[38;5;28;01melse\u001b[39;00m:\n",
      "File \u001b[1;32m~\\anaconda3\\Lib\\site-packages\\pandas\\core\\indexes\\base.py:6699\u001b[0m, in \u001b[0;36mIndex.drop\u001b[1;34m(self, labels, errors)\u001b[0m\n\u001b[0;32m   6697\u001b[0m \u001b[38;5;28;01mif\u001b[39;00m mask\u001b[38;5;241m.\u001b[39many():\n\u001b[0;32m   6698\u001b[0m     \u001b[38;5;28;01mif\u001b[39;00m errors \u001b[38;5;241m!=\u001b[39m \u001b[38;5;124m\"\u001b[39m\u001b[38;5;124mignore\u001b[39m\u001b[38;5;124m\"\u001b[39m:\n\u001b[1;32m-> 6699\u001b[0m         \u001b[38;5;28;01mraise\u001b[39;00m \u001b[38;5;167;01mKeyError\u001b[39;00m(\u001b[38;5;124mf\u001b[39m\u001b[38;5;124m\"\u001b[39m\u001b[38;5;132;01m{\u001b[39;00m\u001b[38;5;28mlist\u001b[39m(labels[mask])\u001b[38;5;132;01m}\u001b[39;00m\u001b[38;5;124m not found in axis\u001b[39m\u001b[38;5;124m\"\u001b[39m)\n\u001b[0;32m   6700\u001b[0m     indexer \u001b[38;5;241m=\u001b[39m indexer[\u001b[38;5;241m~\u001b[39mmask]\n\u001b[0;32m   6701\u001b[0m \u001b[38;5;28;01mreturn\u001b[39;00m \u001b[38;5;28mself\u001b[39m\u001b[38;5;241m.\u001b[39mdelete(indexer)\n",
      "\u001b[1;31mKeyError\u001b[0m: \"['Unnamed: 15', 'XX'] not found in axis\""
     ]
    }
   ],
   "source": [
    "car\n",
    "#Dropping the columns\n",
    "#car.drop(columns=['Unnamed: 15', 'XX'])\n",
    "car.drop(['Unnamed: 15', 'XX'],axis=0)\n",
    "car\n",
    "#car.shape\n",
    "#car=car.iloc[:,:15]\n",
    "#car=car.loc[:,['Manufacturer', 'Model', 'Sales in thousands', 'x_4_year','Vehicle type', 'Price in thousands', 'Engine size', 'Horsepower','Wheelbase', 'Width', 'Length', 'Curb weight', 'Fuel capacity','Fuel efficiency', 'Latest Launch']]\n",
    "#car"
   ]
  },
  {
   "cell_type": "code",
   "execution_count": 42,
   "metadata": {
    "id": "OmkQBWRXiwkk"
   },
   "outputs": [
    {
     "data": {
      "text/html": [
       "<div>\n",
       "<style scoped>\n",
       "    .dataframe tbody tr th:only-of-type {\n",
       "        vertical-align: middle;\n",
       "    }\n",
       "\n",
       "    .dataframe tbody tr th {\n",
       "        vertical-align: top;\n",
       "    }\n",
       "\n",
       "    .dataframe thead th {\n",
       "        text-align: right;\n",
       "    }\n",
       "</style>\n",
       "<table border=\"1\" class=\"dataframe\">\n",
       "  <thead>\n",
       "    <tr style=\"text-align: right;\">\n",
       "      <th></th>\n",
       "      <th>W</th>\n",
       "      <th>X</th>\n",
       "      <th>Y</th>\n",
       "      <th>Z</th>\n",
       "      <th>New</th>\n",
       "      <th>City</th>\n",
       "    </tr>\n",
       "  </thead>\n",
       "  <tbody>\n",
       "    <tr>\n",
       "      <th>A</th>\n",
       "      <td>0</td>\n",
       "      <td>1</td>\n",
       "      <td>2</td>\n",
       "      <td>3</td>\n",
       "      <td>4</td>\n",
       "      <td>Delhi</td>\n",
       "    </tr>\n",
       "    <tr>\n",
       "      <th>B</th>\n",
       "      <td>4</td>\n",
       "      <td>5</td>\n",
       "      <td>6</td>\n",
       "      <td>7</td>\n",
       "      <td>12</td>\n",
       "      <td>Mumbai</td>\n",
       "    </tr>\n",
       "    <tr>\n",
       "      <th>C</th>\n",
       "      <td>8</td>\n",
       "      <td>9</td>\n",
       "      <td>10</td>\n",
       "      <td>11</td>\n",
       "      <td>20</td>\n",
       "      <td>Chennai</td>\n",
       "    </tr>\n",
       "    <tr>\n",
       "      <th>D</th>\n",
       "      <td>12</td>\n",
       "      <td>13</td>\n",
       "      <td>14</td>\n",
       "      <td>15</td>\n",
       "      <td>28</td>\n",
       "      <td>Kolkata</td>\n",
       "    </tr>\n",
       "    <tr>\n",
       "      <th>E</th>\n",
       "      <td>16</td>\n",
       "      <td>17</td>\n",
       "      <td>18</td>\n",
       "      <td>19</td>\n",
       "      <td>36</td>\n",
       "      <td>Goa</td>\n",
       "    </tr>\n",
       "  </tbody>\n",
       "</table>\n",
       "</div>"
      ],
      "text/plain": [
       "    W   X   Y   Z  New     City\n",
       "A   0   1   2   3    4    Delhi\n",
       "B   4   5   6   7   12   Mumbai\n",
       "C   8   9  10  11   20  Chennai\n",
       "D  12  13  14  15   28  Kolkata\n",
       "E  16  17  18  19   36      Goa"
      ]
     },
     "execution_count": 42,
     "metadata": {},
     "output_type": "execute_result"
    }
   ],
   "source": [
    "\n",
    "#fd.loc[:,3]\n",
    "#fd.iloc[:,3]\n",
    "fd"
   ]
  },
  {
   "cell_type": "code",
   "execution_count": 43,
   "metadata": {
    "id": "4BH29ruCiwkk",
    "scrolled": true
   },
   "outputs": [
    {
     "data": {
      "text/html": [
       "<div>\n",
       "<style scoped>\n",
       "    .dataframe tbody tr th:only-of-type {\n",
       "        vertical-align: middle;\n",
       "    }\n",
       "\n",
       "    .dataframe tbody tr th {\n",
       "        vertical-align: top;\n",
       "    }\n",
       "\n",
       "    .dataframe thead th {\n",
       "        text-align: right;\n",
       "    }\n",
       "</style>\n",
       "<table border=\"1\" class=\"dataframe\">\n",
       "  <thead>\n",
       "    <tr style=\"text-align: right;\">\n",
       "      <th></th>\n",
       "      <th>W</th>\n",
       "      <th>X</th>\n",
       "      <th>Y</th>\n",
       "      <th>Z</th>\n",
       "      <th>New</th>\n",
       "      <th>City</th>\n",
       "    </tr>\n",
       "  </thead>\n",
       "  <tbody>\n",
       "    <tr>\n",
       "      <th>A</th>\n",
       "      <td>0</td>\n",
       "      <td>1</td>\n",
       "      <td>2</td>\n",
       "      <td>3</td>\n",
       "      <td>4</td>\n",
       "      <td>Delhi</td>\n",
       "    </tr>\n",
       "    <tr>\n",
       "      <th>B</th>\n",
       "      <td>4</td>\n",
       "      <td>5</td>\n",
       "      <td>6</td>\n",
       "      <td>7</td>\n",
       "      <td>12</td>\n",
       "      <td>Mumbai</td>\n",
       "    </tr>\n",
       "    <tr>\n",
       "      <th>C</th>\n",
       "      <td>8</td>\n",
       "      <td>9</td>\n",
       "      <td>10</td>\n",
       "      <td>11</td>\n",
       "      <td>20</td>\n",
       "      <td>Chennai</td>\n",
       "    </tr>\n",
       "    <tr>\n",
       "      <th>D</th>\n",
       "      <td>12</td>\n",
       "      <td>13</td>\n",
       "      <td>14</td>\n",
       "      <td>15</td>\n",
       "      <td>28</td>\n",
       "      <td>Kolkata</td>\n",
       "    </tr>\n",
       "    <tr>\n",
       "      <th>E</th>\n",
       "      <td>16</td>\n",
       "      <td>17</td>\n",
       "      <td>18</td>\n",
       "      <td>19</td>\n",
       "      <td>36</td>\n",
       "      <td>Goa</td>\n",
       "    </tr>\n",
       "  </tbody>\n",
       "</table>\n",
       "</div>"
      ],
      "text/plain": [
       "    W   X   Y   Z  New     City\n",
       "A   0   1   2   3    4    Delhi\n",
       "B   4   5   6   7   12   Mumbai\n",
       "C   8   9  10  11   20  Chennai\n",
       "D  12  13  14  15   28  Kolkata\n",
       "E  16  17  18  19   36      Goa"
      ]
     },
     "execution_count": 43,
     "metadata": {},
     "output_type": "execute_result"
    }
   ],
   "source": [
    "fd\n",
    "#loc\n",
    "fd.loc[:,\"W\"]\n",
    "fd.loc[:,[\"X\",\"Z\",\"Y\"]]\n",
    "fd.loc[[\"A\"],:]\n",
    "fd.loc[[\"A\",\"C\",\"E\"],:]\n",
    "fd.loc[[\"A\",\"C\",\"E\"],[\"X\",\"Z\",\"W\"]]\n",
    "#iloc\n",
    "fd.iloc[:,0]\n",
    "fd.iloc[:,[1,3,2]]\n",
    "fd.iloc[0,:]\n",
    "fd.iloc[[0,2,4],:]\n",
    "fd.iloc[[0,2,4],[1,3,0]]\n",
    "fd"
   ]
  },
  {
   "cell_type": "code",
   "execution_count": null,
   "metadata": {
    "id": "SF4HX_6fiwkk"
   },
   "outputs": [],
   "source": [
    "car.head()\n"
   ]
  },
  {
   "cell_type": "code",
   "execution_count": 52,
   "metadata": {
    "id": "EJML2Rtciwkl"
   },
   "outputs": [
    {
     "data": {
      "text/html": [
       "<div>\n",
       "<style scoped>\n",
       "    .dataframe tbody tr th:only-of-type {\n",
       "        vertical-align: middle;\n",
       "    }\n",
       "\n",
       "    .dataframe tbody tr th {\n",
       "        vertical-align: top;\n",
       "    }\n",
       "\n",
       "    .dataframe thead th {\n",
       "        text-align: right;\n",
       "    }\n",
       "</style>\n",
       "<table border=\"1\" class=\"dataframe\">\n",
       "  <thead>\n",
       "    <tr style=\"text-align: right;\">\n",
       "      <th></th>\n",
       "      <th>Manufacturer</th>\n",
       "      <th>Model</th>\n",
       "      <th>Sales in thousands</th>\n",
       "      <th>x_4_year</th>\n",
       "      <th>Vehicle type</th>\n",
       "      <th>Price in thousands</th>\n",
       "    </tr>\n",
       "  </thead>\n",
       "  <tbody>\n",
       "    <tr>\n",
       "      <th>2</th>\n",
       "      <td>Acura</td>\n",
       "      <td>CL</td>\n",
       "      <td>14.114</td>\n",
       "      <td>18.225</td>\n",
       "      <td>Passenger</td>\n",
       "      <td>NaN</td>\n",
       "    </tr>\n",
       "  </tbody>\n",
       "</table>\n",
       "</div>"
      ],
      "text/plain": [
       "    Manufacturer              Model  Sales in thousands  x_4_year  \\\n",
       "2  Acura          CL                             14.114    18.225   \n",
       "\n",
       "  Vehicle type  Price in thousands  \n",
       "2    Passenger                 NaN  "
      ]
     },
     "execution_count": 52,
     "metadata": {},
     "output_type": "execute_result"
    }
   ],
   "source": [
    "car.iloc[[2],:6]\n"
   ]
  },
  {
   "cell_type": "code",
   "execution_count": 50,
   "metadata": {},
   "outputs": [
    {
     "data": {
      "text/html": [
       "<div>\n",
       "<style scoped>\n",
       "    .dataframe tbody tr th:only-of-type {\n",
       "        vertical-align: middle;\n",
       "    }\n",
       "\n",
       "    .dataframe tbody tr th {\n",
       "        vertical-align: top;\n",
       "    }\n",
       "\n",
       "    .dataframe thead th {\n",
       "        text-align: right;\n",
       "    }\n",
       "</style>\n",
       "<table border=\"1\" class=\"dataframe\">\n",
       "  <thead>\n",
       "    <tr style=\"text-align: right;\">\n",
       "      <th></th>\n",
       "      <th>Manufacturer</th>\n",
       "      <th>Model</th>\n",
       "      <th>Sales in thousands</th>\n",
       "      <th>x_4_year</th>\n",
       "      <th>Vehicle type</th>\n",
       "      <th>Price in thousands</th>\n",
       "      <th>Engine size</th>\n",
       "    </tr>\n",
       "  </thead>\n",
       "  <tbody>\n",
       "    <tr>\n",
       "      <th>4</th>\n",
       "      <td>Audi</td>\n",
       "      <td>A4</td>\n",
       "      <td>20.397</td>\n",
       "      <td>22.255</td>\n",
       "      <td>Passenger</td>\n",
       "      <td>23.990</td>\n",
       "      <td>1.8</td>\n",
       "    </tr>\n",
       "    <tr>\n",
       "      <th>5</th>\n",
       "      <td>Audi</td>\n",
       "      <td>A6</td>\n",
       "      <td>18.780</td>\n",
       "      <td>23.555</td>\n",
       "      <td>Passenger</td>\n",
       "      <td>33.950</td>\n",
       "      <td>2.8</td>\n",
       "    </tr>\n",
       "    <tr>\n",
       "      <th>6</th>\n",
       "      <td>Audi</td>\n",
       "      <td>A8</td>\n",
       "      <td>1.380</td>\n",
       "      <td>39.000</td>\n",
       "      <td>Passenger</td>\n",
       "      <td>62.000</td>\n",
       "      <td>4.2</td>\n",
       "    </tr>\n",
       "    <tr>\n",
       "      <th>7</th>\n",
       "      <td>NaN</td>\n",
       "      <td>323i</td>\n",
       "      <td>19.747</td>\n",
       "      <td>NaN</td>\n",
       "      <td>Passenger</td>\n",
       "      <td>26.990</td>\n",
       "      <td>2.5</td>\n",
       "    </tr>\n",
       "    <tr>\n",
       "      <th>8</th>\n",
       "      <td>NaN</td>\n",
       "      <td>328i</td>\n",
       "      <td>9.231</td>\n",
       "      <td>28.675</td>\n",
       "      <td>Passenger</td>\n",
       "      <td>33.400</td>\n",
       "      <td>2.8</td>\n",
       "    </tr>\n",
       "    <tr>\n",
       "      <th>10</th>\n",
       "      <td>Buick</td>\n",
       "      <td>Century</td>\n",
       "      <td>91.561</td>\n",
       "      <td>12.475</td>\n",
       "      <td>Passenger</td>\n",
       "      <td>21.975</td>\n",
       "      <td>3.1</td>\n",
       "    </tr>\n",
       "    <tr>\n",
       "      <th>20</th>\n",
       "      <td>Chevrolet</td>\n",
       "      <td>Malibu</td>\n",
       "      <td>135.126</td>\n",
       "      <td>11.225</td>\n",
       "      <td>Passenger</td>\n",
       "      <td>16.535</td>\n",
       "      <td>3.1</td>\n",
       "    </tr>\n",
       "  </tbody>\n",
       "</table>\n",
       "</div>"
      ],
      "text/plain": [
       "     Manufacturer              Model  Sales in thousands  x_4_year  \\\n",
       "4   Audi           A4                             20.397    22.255   \n",
       "5   Audi           A6                             18.780    23.555   \n",
       "6   Audi           A8                              1.380    39.000   \n",
       "7             NaN  323i                           19.747       NaN   \n",
       "8             NaN  328i                            9.231    28.675   \n",
       "10  Buick          Century                        91.561    12.475   \n",
       "20  Chevrolet      Malibu                        135.126    11.225   \n",
       "\n",
       "   Vehicle type  Price in thousands  Engine size  \n",
       "4     Passenger              23.990          1.8  \n",
       "5     Passenger              33.950          2.8  \n",
       "6     Passenger              62.000          4.2  \n",
       "7     Passenger              26.990          2.5  \n",
       "8     Passenger              33.400          2.8  \n",
       "10    Passenger              21.975          3.1  \n",
       "20    Passenger              16.535          3.1  "
      ]
     },
     "execution_count": 50,
     "metadata": {},
     "output_type": "execute_result"
    }
   ],
   "source": [
    "car.iloc[[4,5,6,7,8,10,20],:7]\n"
   ]
  },
  {
   "cell_type": "code",
   "execution_count": 48,
   "metadata": {},
   "outputs": [
    {
     "data": {
      "text/html": [
       "<div>\n",
       "<style scoped>\n",
       "    .dataframe tbody tr th:only-of-type {\n",
       "        vertical-align: middle;\n",
       "    }\n",
       "\n",
       "    .dataframe tbody tr th {\n",
       "        vertical-align: top;\n",
       "    }\n",
       "\n",
       "    .dataframe thead th {\n",
       "        text-align: right;\n",
       "    }\n",
       "</style>\n",
       "<table border=\"1\" class=\"dataframe\">\n",
       "  <thead>\n",
       "    <tr style=\"text-align: right;\">\n",
       "      <th></th>\n",
       "      <th>Manufacturer</th>\n",
       "      <th>Sales in thousands</th>\n",
       "      <th>Engine size</th>\n",
       "    </tr>\n",
       "  </thead>\n",
       "  <tbody>\n",
       "    <tr>\n",
       "      <th>4</th>\n",
       "      <td>Audi</td>\n",
       "      <td>20.397</td>\n",
       "      <td>1.8</td>\n",
       "    </tr>\n",
       "    <tr>\n",
       "      <th>5</th>\n",
       "      <td>Audi</td>\n",
       "      <td>18.780</td>\n",
       "      <td>2.8</td>\n",
       "    </tr>\n",
       "    <tr>\n",
       "      <th>6</th>\n",
       "      <td>Audi</td>\n",
       "      <td>1.380</td>\n",
       "      <td>4.2</td>\n",
       "    </tr>\n",
       "    <tr>\n",
       "      <th>7</th>\n",
       "      <td>NaN</td>\n",
       "      <td>19.747</td>\n",
       "      <td>2.5</td>\n",
       "    </tr>\n",
       "    <tr>\n",
       "      <th>8</th>\n",
       "      <td>NaN</td>\n",
       "      <td>9.231</td>\n",
       "      <td>2.8</td>\n",
       "    </tr>\n",
       "    <tr>\n",
       "      <th>10</th>\n",
       "      <td>Buick</td>\n",
       "      <td>91.561</td>\n",
       "      <td>3.1</td>\n",
       "    </tr>\n",
       "    <tr>\n",
       "      <th>20</th>\n",
       "      <td>Chevrolet</td>\n",
       "      <td>135.126</td>\n",
       "      <td>3.1</td>\n",
       "    </tr>\n",
       "    <tr>\n",
       "      <th>30</th>\n",
       "      <td>Chrysler</td>\n",
       "      <td>31.148</td>\n",
       "      <td>2.7</td>\n",
       "    </tr>\n",
       "    <tr>\n",
       "      <th>50</th>\n",
       "      <td>Ford</td>\n",
       "      <td>175.670</td>\n",
       "      <td>2.0</td>\n",
       "    </tr>\n",
       "  </tbody>\n",
       "</table>\n",
       "</div>"
      ],
      "text/plain": [
       "     Manufacturer  Sales in thousands  Engine size\n",
       "4   Audi                       20.397          1.8\n",
       "5   Audi                       18.780          2.8\n",
       "6   Audi                        1.380          4.2\n",
       "7             NaN              19.747          2.5\n",
       "8             NaN               9.231          2.8\n",
       "10  Buick                      91.561          3.1\n",
       "20  Chevrolet                 135.126          3.1\n",
       "30  Chrysler                   31.148          2.7\n",
       "50  Ford                      175.670          2.0"
      ]
     },
     "execution_count": 48,
     "metadata": {},
     "output_type": "execute_result"
    }
   ],
   "source": [
    "car.loc[[4,5,6,7,8,10,20,30,50],[\"Manufacturer\",\"Sales in thousands\",\"Engine size\"]]"
   ]
  },
  {
   "cell_type": "code",
   "execution_count": null,
   "metadata": {
    "id": "iLn7bedOiwkl"
   },
   "outputs": [],
   "source": [
    "#      7,0,16,13,19\n",
    "fd.loc[\"B\",\"Z\"]\n",
    "fd.iloc[1,3]\n",
    "fd.loc[\"E\",\"W\"]\n",
    "fd.iloc[4,0]"
   ]
  },
  {
   "cell_type": "code",
   "execution_count": null,
   "metadata": {
    "id": "CcP9xT6Biwkl"
   },
   "outputs": [],
   "source": [
    "#7\n",
    "fd.iloc[1,3]\n",
    "fd.loc[\"B\",\"Z\"]\n",
    "#0\n",
    "fd.iloc[0,0]\n",
    "fd.loc[\"A\",\"W\"]\n",
    "#16\n",
    "fd.iloc[4,0]\n",
    "fd.loc[\"E\",\"W\"]\n",
    "#35\n",
    "fd.iloc[1,5]\n",
    "fd.loc[\"B\",\"New2\"]\n",
    "#9\n",
    "fd.iloc[2,1]\n",
    "fd.loc[\"C\",\"X\"]\n",
    "#323\n",
    "fd.iloc[4,5]\n",
    "fd.loc[\"E\",\"New2\"]"
   ]
  },
  {
   "cell_type": "markdown",
   "metadata": {
    "id": "PWlN1zVxiwkl"
   },
   "source": [
    "Or select based off of position instead of label"
   ]
  },
  {
   "cell_type": "code",
   "execution_count": null,
   "metadata": {
    "id": "F1Ii06qCiwkl"
   },
   "outputs": [],
   "source": [
    "print(fd)\n",
    "fd.iloc[2,2]\n",
    "#fd.loc[\"C\",\"W\"]"
   ]
  },
  {
   "cell_type": "code",
   "execution_count": null,
   "metadata": {
    "id": "j3sbySCBiwkl"
   },
   "outputs": [],
   "source": [
    "fd.loc[['A','B',\"E\"],['W','Y',\"Z\"]]\n",
    "#fd.iloc[0,1]\n",
    "#fd"
   ]
  },
  {
   "cell_type": "code",
   "execution_count": null,
   "metadata": {
    "id": "q-TZ3ovGiwkl"
   },
   "outputs": [],
   "source": [
    "#To get the data for a single ROW or COLUMN, can include [].\n",
    "car.iloc[[2],:5]#For a single ROW\n",
    "car.iloc[:10,[2]]#For a single COLUMN\n",
    "\n",
    "#Exercise try to execute the same code with loc."
   ]
  },
  {
   "cell_type": "code",
   "execution_count": null,
   "metadata": {
    "id": "fJy2peS0iwkl"
   },
   "outputs": [],
   "source": [
    "fd.loc[:,\"W\":\"Y\"]\n",
    "#fd.iloc[:,:3]"
   ]
  },
  {
   "cell_type": "code",
   "execution_count": null,
   "metadata": {
    "id": "v3-z68Nuiwkl"
   },
   "outputs": [],
   "source": [
    "fd.iloc[[0,2,1],:]"
   ]
  },
  {
   "cell_type": "code",
   "execution_count": null,
   "metadata": {
    "id": "GblxA46miwkl"
   },
   "outputs": [],
   "source": [
    "fd.iloc[[0,2,4],[1,2,0]]\n",
    "fd.loc[[\"A\",\"C\",\"E\"],[\"X\",\"Y\"]]\n",
    "fd"
   ]
  },
  {
   "cell_type": "code",
   "execution_count": null,
   "metadata": {
    "id": "dhkkBBDKiwkl"
   },
   "outputs": [],
   "source": [
    "fd.iloc[0:2,:]#Row= 0 through 2, all columns\n",
    "fd.iloc[0:-2, :]"
   ]
  },
  {
   "cell_type": "code",
   "execution_count": null,
   "metadata": {
    "id": "B3CS3heuiwkm"
   },
   "outputs": [],
   "source": [
    "fd.loc[\"A\":\"C\",:]#Row = A through C, all Columns"
   ]
  },
  {
   "cell_type": "code",
   "execution_count": null,
   "metadata": {
    "id": "eTyjfpupiwkm"
   },
   "outputs": [],
   "source": [
    "fd.loc[:,\"X\"]#All Rows and X Columns"
   ]
  },
  {
   "cell_type": "markdown",
   "metadata": {
    "id": "ihIdE95wiwkm"
   },
   "source": [
    "## Working on UFO Data with loc and iloc"
   ]
  },
  {
   "cell_type": "code",
   "execution_count": null,
   "metadata": {
    "id": "zNuMMBHgiwkm"
   },
   "outputs": [],
   "source": [
    "import pandas as pd\n",
    "import numpy as np\n",
    "ufo=pd.read_csv(\"C:/Users/admin/Desktop/Data/Ufo.csv\")\n",
    "ufo.shape\n",
    "ufo.columns\n",
    "ufo.head(15)\n",
    "#ufo.tail(15)"
   ]
  },
  {
   "cell_type": "code",
   "execution_count": null,
   "metadata": {
    "id": "YlB2rDfviwkm"
   },
   "outputs": [],
   "source": [
    "ufo=ufo.iloc[:,1:]\n",
    "ufo"
   ]
  },
  {
   "cell_type": "code",
   "execution_count": null,
   "metadata": {
    "id": "qD3MIbfDiwkm"
   },
   "outputs": [],
   "source": [
    "ufo[\"City\"].value_counts()\n",
    "ufo[ufo[\"City\"]==\"Ithaca\"]\n",
    "ufo[ufo[\"City\"]==\"Holyoke\"]\n",
    "ufo[ufo[\"Shape Reported\"]==\"CIRCLE\"]\n",
    "ufo[\"Colors Reported\"].value_counts().nlargest(10)\n",
    "#ufo[\"Colors Reported\"].value_counts().nsmallest()"
   ]
  },
  {
   "cell_type": "code",
   "execution_count": null,
   "metadata": {
    "id": "jJfF5bbViwkm"
   },
   "outputs": [],
   "source": [
    "ufo[\"City\"].value_counts()\n",
    "#ufo[\"City\"].value_counts().nlargest(15)\n",
    "\n",
    "#nlargest and nsmallest\n",
    "#With Series as the type, head() and tail() will both execute!!\n",
    "\n",
    "#Task1\n",
    "Execute the value_counts() on Colors Reported, Shape Reported and State colum and get the names of most occuring\n",
    "15 observations from 3 columns"
   ]
  },
  {
   "cell_type": "code",
   "execution_count": null,
   "metadata": {
    "id": "6bu1r3k-iwkm"
   },
   "outputs": [],
   "source": [
    "ufo[\"City\"].value_counts().head()\n",
    "ufo.loc[ufo[\"City\"]==\"Los Angeles\",:]"
   ]
  },
  {
   "cell_type": "code",
   "execution_count": null,
   "metadata": {
    "id": "Bl723Id9iwkm"
   },
   "outputs": [],
   "source": [
    "ufo[ufo[\"City\"]==\"Phoenix\"]\n",
    "ufo[ufo[\"City\"]==\"Las Vegas\"]"
   ]
  },
  {
   "cell_type": "code",
   "execution_count": null,
   "metadata": {
    "id": "gcWe3tI8iwkm"
   },
   "outputs": [],
   "source": [
    "ufo[ufo[\"City\"]==\"Seattle\"][[\"City\",\"Colors Reported\",\"Shape Reported\"]]\n",
    "#ufo[ufo[\"City\"]==\"Lextington\"]"
   ]
  },
  {
   "cell_type": "code",
   "execution_count": null,
   "metadata": {
    "id": "TX1n5Dxliwkm"
   },
   "outputs": [],
   "source": [
    "ufo[ufo[\"City\"]==\"Seattle\"]\n",
    "ufo[ufo[\"State\"]==\"MI\"]\n",
    "ufo[ufo[\"Shape Reported\"]==\"TRIANGLE\"]\n",
    "ufo[ufo[\"State\"]==\"TX\"]\n",
    "ufo[ufo[\"Colors Reported\"]==\"RED\"]"
   ]
  },
  {
   "cell_type": "code",
   "execution_count": null,
   "metadata": {
    "id": "R2Ut5Ru5iwkn"
   },
   "outputs": [],
   "source": [
    "ufo.head()\n",
    "car.head(20)\n",
    "\n",
    "ufo.tail(10)\n",
    "car.tail()\n",
    "#Try to execute value_counts() on below city names\n",
    "#Seattle, San Diego, Miami, Albuquerque, Springfield, Tucson, Colorado Springs, Jacksonville"
   ]
  },
  {
   "cell_type": "code",
   "execution_count": null,
   "metadata": {
    "id": "Xc3YJZqoiwkn"
   },
   "outputs": [],
   "source": [
    "ufo.loc[ufo[\"City\"]==\"San Diego\",:]\n",
    "ufo.loc[(ufo[\"City\"]==\"Los Angeles\") | (ufo[\"City\"]==\"San Diego\") | (ufo[\"City\"]==\"Holyoke\"),:]"
   ]
  },
  {
   "cell_type": "code",
   "execution_count": null,
   "metadata": {
    "id": "CKH5Pj_kiwkn"
   },
   "outputs": [],
   "source": [
    "ufo.loc[ufo[\"City\"]==\"Ithaca\",[\"City\",\"State\",\"Shape Reported\"]]"
   ]
  },
  {
   "cell_type": "code",
   "execution_count": null,
   "metadata": {
    "id": "GuiqQBMHiwkn"
   },
   "outputs": [],
   "source": [
    "ufo.loc[ufo[\"City\"]==\"Holyoke\",[\"City\",\"State\",\"Time\"]]"
   ]
  },
  {
   "cell_type": "markdown",
   "metadata": {
    "id": "2cdvKQ9hiwkn"
   },
   "source": [
    "### Conditional Selection\n",
    "\n",
    "An important feature of pandas is conditional selection using bracket notation, very similar to numpy:"
   ]
  },
  {
   "cell_type": "code",
   "execution_count": null,
   "metadata": {
    "id": "OB1Jl7xqiwkn"
   },
   "outputs": [],
   "source": [
    "#print(df)\n",
    "fd"
   ]
  },
  {
   "cell_type": "code",
   "execution_count": null,
   "metadata": {
    "id": "s0-uGfiKiwkn"
   },
   "outputs": [],
   "source": [
    "fd[fd<=10]"
   ]
  },
  {
   "cell_type": "code",
   "execution_count": null,
   "metadata": {
    "id": "--pxSJW5iwkn"
   },
   "outputs": [],
   "source": [
    "#df[df>0]\n",
    "fd[fd>=2]"
   ]
  },
  {
   "cell_type": "code",
   "execution_count": null,
   "metadata": {
    "id": "LvsfliIKiwkn"
   },
   "outputs": [],
   "source": [
    "ufo[ufo[\"Shape Reported\"]==\"DISK\"].head()\n",
    "#ufo[ufo[\"Shape Reported\"]==\"DISK\"]\n",
    "fd"
   ]
  },
  {
   "cell_type": "code",
   "execution_count": null,
   "metadata": {
    "id": "gl2xy6l-iwkn"
   },
   "outputs": [],
   "source": [
    "\n",
    "fd[fd[\"W\"]>0]\n",
    "#fd[fd[\"W\"]>10]\n",
    "#fd[fd[\"Z\"]>10]"
   ]
  },
  {
   "cell_type": "code",
   "execution_count": null,
   "metadata": {
    "id": "ejM3-kr9iwkn"
   },
   "outputs": [],
   "source": [
    "X"
   ]
  },
  {
   "cell_type": "code",
   "execution_count": null,
   "metadata": {
    "id": "BbwaGcCRiwkn"
   },
   "outputs": [],
   "source": [
    "print(fd)\n",
    "fd[fd[\"W\"]>4]\n",
    "fd[fd[\"Z\"]<11]\n",
    "fd[fd[\"X\"]>5]#Column\n",
    "fd[fd[\"W\"]>8]"
   ]
  },
  {
   "cell_type": "code",
   "execution_count": null,
   "metadata": {
    "id": "oUQuw3X3iwko"
   },
   "outputs": [],
   "source": [
    "print(fd)\n",
    "fd[fd[\"Z\"]>=11]\n",
    "fd[fd[\"W\"]==8]"
   ]
  },
  {
   "cell_type": "code",
   "execution_count": null,
   "metadata": {
    "id": "F6tg6aGxiwko"
   },
   "outputs": [],
   "source": [
    "fd[fd[\"Z\"]>0]"
   ]
  },
  {
   "cell_type": "code",
   "execution_count": null,
   "metadata": {
    "id": "HVD1dHp4iwko"
   },
   "outputs": [],
   "source": [
    "#df[df[\"Y\"]>0]\n",
    "#ufo=ufo.iloc[:,1:]\n",
    "ufo.head()\n",
    "#New York City and RED Colors  and TRIANGLE Shape\n",
    "ufo[(ufo[\"City\"]==\"New York City\") & (ufo[\"Colors Reported\"]==\"RED\") & (ufo[\"Shape Reported\"]==\"TRIANGLE\")]"
   ]
  },
  {
   "cell_type": "code",
   "execution_count": null,
   "metadata": {
    "id": "ffEkXvfViwko"
   },
   "outputs": [],
   "source": [
    "#City name is Seattle, Shape is OVAL and Color is Red\n",
    "ufo[(ufo[\"City\"]==\"Seattle\") & (ufo[\"Shape Reported\"]==\"OVAL\") & (ufo[\"Colors Reported\"]==\"Red\")]"
   ]
  },
  {
   "cell_type": "code",
   "execution_count": null,
   "metadata": {
    "id": "d-NKxr1miwko"
   },
   "outputs": [],
   "source": [
    "ufo[ufo[\"City\"]==\"Las Vegas\"][[\"Shape Reported\",\"Colors Reported\"]]\n",
    "ufo[(ufo[\"City\"]==\"Las Vegas\") & (ufo[\"Shape Reported\"]==\"LIGHT\") & (ufo[\"Colors Reported\"]==\"BLUE\")]\n",
    "\n",
    "ufo[(ufo[\"City\"]==\"Houston\") & (ufo[\"Shape Reported\"]==\"DIAMOND\")]\n"
   ]
  },
  {
   "cell_type": "code",
   "execution_count": null,
   "metadata": {
    "id": "w1p4rB1Riwko"
   },
   "outputs": [],
   "source": [
    "ufo.head()\n",
    "ufo[(ufo[\"City\"]==\"Seattle\") & (ufo[\"Shape Reported\"]==\"TRIANGLE\") & (ufo[\"Colors Reported\"]==\"ORANGE\")]\n",
    "\n",
    "#ufo[(condition1) & (condition2)]"
   ]
  },
  {
   "cell_type": "code",
   "execution_count": null,
   "metadata": {
    "id": "g5dCb_oMiwko"
   },
   "outputs": [],
   "source": [
    "x=ufo[ufo[\"City\"]==\"Seattle\"]\n",
    "y=x[x[\"Shape Reported\"]==\"TRIANGLE\"]\n",
    "y[y[\"Colors Reported\"]==\"ORANGE\"]"
   ]
  },
  {
   "cell_type": "code",
   "execution_count": null,
   "metadata": {
    "id": "Ke7CerjLiwko"
   },
   "outputs": [],
   "source": [
    "ufo[ufo[\"City\"]==\"New York City\"][\"Colors Reported\"].value_counts()\n",
    "#ufo[\"City\"].value_counts()\n",
    "\n",
    "#Select New York City which has RED color.\n",
    "ufo[(ufo[\"City\"]==\"New York City\") & (ufo[\"Colors Reported\"]==\"RED\") & (ufo[\"Shape Reported\"]==\"TRIANGLE\")]\n",
    "\n",
    "#Exercise\n",
    "#City name: Houston, Colors Reported: Green, Shape Reported: SPHERE, doesn't need state and time column.\n"
   ]
  },
  {
   "cell_type": "code",
   "execution_count": null,
   "metadata": {
    "id": "eQT_NZgYiwko"
   },
   "outputs": [],
   "source": [
    "ufo.loc[(ufo['City']=='Houston')&(ufo['Colors Reported']=='Red')&(ufo['Shape Reported']=='FIREBALL'),[\"City\",\"Colors Reported\",\"Shape Reported\"]]"
   ]
  },
  {
   "cell_type": "markdown",
   "metadata": {
    "id": "vxVdX5Mqiwko"
   },
   "source": [
    "For two conditions you can use | and & with parenthesis:"
   ]
  },
  {
   "cell_type": "code",
   "execution_count": null,
   "metadata": {
    "id": "KQi9OgfUiwko"
   },
   "outputs": [],
   "source": [
    "#ufo[(ufo[\"City\"]==\"Ithaca\") & (ufo[\"Colors Reported\"]==\"Red\") & (ufo[\"Shape Reported\"]==\"OTHER\") & (ufo[\"State\"]==\"NY\")]\n",
    "ufo[(ufo[\"City\"]==\"Seattle\") & (ufo[\"Shape Reported\"]==\"CIRCLE\") & (ufo[\"Colors Reported\"]==\"GREEN\")]"
   ]
  },
  {
   "cell_type": "code",
   "execution_count": null,
   "metadata": {
    "id": "FniwXpR9iwko"
   },
   "outputs": [],
   "source": [
    "#ufo[(ufo[\"City\"]==\"Los Angeles\") & (ufo[\"Shape Reported\"]==\"DISK\")]\n",
    "ufo.loc[(ufo[\"City\"]==\"Los Angeles\") & (ufo[\"Shape Reported\"]==\"DISK\"),:]"
   ]
  },
  {
   "cell_type": "code",
   "execution_count": null,
   "metadata": {
    "id": "EyyWNqJkiwkq"
   },
   "outputs": [],
   "source": [
    "ufo[(ufo[\"City\"]==\"New York City\") & (ufo[\"Shape Reported\"]==\"TEARDROP\")]\n",
    "ufo"
   ]
  },
  {
   "cell_type": "code",
   "execution_count": null,
   "metadata": {
    "id": "E8aEHKQuiwkq"
   },
   "outputs": [],
   "source": [
    "#Can you print the first 5 observations with Colum name as 1,2,3,4,5 with only the below command\n",
    "a=pd.DataFrame(ufo.tail(10).values,columns=ufo.columns)\n",
    "a\n",
    "#ufo.tail(10).values"
   ]
  },
  {
   "cell_type": "markdown",
   "metadata": {
    "id": "0cXVa3xdiwkq"
   },
   "source": [
    "\n",
    "## More Index Details\n",
    "\n",
    "Let's discuss some more features of indexing, including resetting the index or setting it something else. We'll also talk about index hierarchy!"
   ]
  },
  {
   "cell_type": "code",
   "execution_count": null,
   "metadata": {
    "id": "Z3BBeUv-iwkq",
    "scrolled": true
   },
   "outputs": [],
   "source": [
    "#x=fd.copy()\n",
    "#z=x.reset_index().drop(\"index\",axis=1)\n",
    "#z\n",
    "fd.reset_index().drop(columns=\"index\")\n",
    "#fd"
   ]
  },
  {
   "cell_type": "code",
   "execution_count": null,
   "metadata": {
    "id": "HItmmlr6iwkq"
   },
   "outputs": [],
   "source": [
    "fd.iloc[[0,2,4],[0,2]].reset_index().drop(\"index\",axis=1)"
   ]
  },
  {
   "cell_type": "code",
   "execution_count": null,
   "metadata": {
    "id": "HkEJ7ML3iwkq"
   },
   "outputs": [],
   "source": [
    "# Can restore the index names with rename function\n",
    "z.rename({0:\"A\",1:\"B\",2:\"C\",3:\"D\",4:\"E\"},inplace=True)"
   ]
  },
  {
   "cell_type": "code",
   "execution_count": null,
   "metadata": {
    "id": "bo9MjSxSiwkq"
   },
   "outputs": [],
   "source": [
    "#z\n",
    "ufo.head()\n",
    "ufo=ufo.rename(columns={\"City\":\"City_Name\"})\n",
    "ufo"
   ]
  },
  {
   "cell_type": "code",
   "execution_count": null,
   "metadata": {
    "id": "YkATlpkpiwkq"
   },
   "outputs": [],
   "source": [
    "ufo.head()"
   ]
  },
  {
   "cell_type": "code",
   "execution_count": null,
   "metadata": {
    "id": "g7WRo_s8iwkr"
   },
   "outputs": [],
   "source": [
    "#x=x.reset_index().drop(columns=\"index\")\n",
    "#x=x.iloc[[0,1,2,4],:]\n",
    "#x=x.reset_index().drop(columns=\"index\")\n",
    "x"
   ]
  },
  {
   "cell_type": "code",
   "execution_count": null,
   "metadata": {
    "id": "kz8Jwtqciwkr"
   },
   "outputs": [],
   "source": [
    "fd=fd.iloc[:,1:]\n",
    "fd"
   ]
  },
  {
   "cell_type": "code",
   "execution_count": null,
   "metadata": {
    "id": "W_uzrt44iwkr"
   },
   "outputs": [],
   "source": [
    "# Reset to default 0,1...n index\n",
    "#df.reset_index()\n",
    "fd.reset_index()"
   ]
  },
  {
   "cell_type": "code",
   "execution_count": null,
   "metadata": {
    "id": "uq_Qjwheiwkr"
   },
   "outputs": [],
   "source": [
    "newind = 'CA NY WY OR CO'.split()\n",
    "newind"
   ]
  },
  {
   "cell_type": "code",
   "execution_count": null,
   "metadata": {
    "id": "h445Uzqliwkr"
   },
   "outputs": [],
   "source": [
    "fd['States'] = newind"
   ]
  },
  {
   "cell_type": "code",
   "execution_count": null,
   "metadata": {
    "id": "d9GoIiwPiwkr"
   },
   "outputs": [],
   "source": [
    "fd"
   ]
  },
  {
   "cell_type": "code",
   "execution_count": null,
   "metadata": {
    "id": "5HH6lNvQiwkr"
   },
   "outputs": [],
   "source": [
    "fd=fd.set_index('States')\n",
    "fd\n",
    "#fd.loc[[\"CA\",\"WY\",\"OR\"],:]"
   ]
  },
  {
   "cell_type": "code",
   "execution_count": null,
   "metadata": {
    "id": "PAyRkivziwkr"
   },
   "outputs": [],
   "source": [
    "fd"
   ]
  },
  {
   "cell_type": "code",
   "execution_count": null,
   "metadata": {
    "id": "XDrtsWxGiwkr"
   },
   "outputs": [],
   "source": [
    "ufo.head()"
   ]
  },
  {
   "cell_type": "markdown",
   "metadata": {
    "id": "yVDBnTPDiwkr"
   },
   "source": [
    "# Changing the Columns"
   ]
  },
  {
   "cell_type": "code",
   "execution_count": null,
   "metadata": {
    "id": "t7kyqjlOiwkr"
   },
   "outputs": [],
   "source": [
    "ufo.rename(columns={\"City\":\"CITY_CITY\"})\n",
    "#ufo.rename(columns={\"Shape Reported\":\"SR\"},inplace=True)\n",
    "ufo"
   ]
  },
  {
   "cell_type": "markdown",
   "metadata": {
    "id": "wYBI5Yroiwkr"
   },
   "source": [
    "# Discovering and Deleting Duplicate Values"
   ]
  },
  {
   "cell_type": "markdown",
   "metadata": {
    "id": "knRTvrS9iwkr"
   },
   "source": [
    "subset: Subset takes a column or list of column label. It’s default value is none. After passing columns, it will consider them only for duplicates.\n",
    "keep: keep is to control how to consider duplicate value. It has only three distinct value and default is ‘first’.\n",
    "\n",
    " * If ‘first’, it considers first value as unique and rest of the same values as duplicate.\n",
    " * If ‘last’, it considers last value as unique and rest of the same values as duplicate.\n",
    " * If False, it consider all of the same values as duplicates"
   ]
  },
  {
   "cell_type": "code",
   "execution_count": null,
   "metadata": {
    "id": "mETfESgRiwks",
    "scrolled": true
   },
   "outputs": [],
   "source": [
    "#Dropping/Deleting the duplicate values\n",
    "data=pd.read_csv(\"C:/Users/admin/Desktop/Data/employees.csv\")\n",
    "\n",
    "print(data.shape)\n",
    "data.head()\n",
    "data.shape\n",
    "data\n",
    "ufo"
   ]
  },
  {
   "cell_type": "code",
   "execution_count": null,
   "metadata": {
    "id": "4OiRSFieiwks",
    "scrolled": true
   },
   "outputs": [],
   "source": [
    "data[data.duplicated(subset=\"First Name\")==True]\n",
    "#ufo[ufo.duplicated(subset=[\"City\",\"Colors Reported\"])==True]"
   ]
  },
  {
   "cell_type": "code",
   "execution_count": null,
   "metadata": {
    "id": "FYhltJaDiwks"
   },
   "outputs": [],
   "source": [
    "#print(ufo.shape)\n",
    "#data.drop_duplicates(subset=[\"First Name\",\"Team\"],keep=False)\n",
    "data.drop_duplicates(subset=\"First Name\",keep=False)\n",
    "#ufo.drop_duplicates(subset=\"City\",keep=False).shape\n"
   ]
  },
  {
   "cell_type": "code",
   "execution_count": null,
   "metadata": {
    "id": "44FYvtu7iwks"
   },
   "outputs": [],
   "source": [
    "d1={\"Name\":[\"Karan\",\"Karan1\",\"Karan2\",\"Karan3\",\"Karan4\",\"Karan5\",\"Karan6\"],\"Age\":[24,24,25,26,24,25,27]}\n",
    "temp=pd.DataFrame(d1)\n",
    "temp"
   ]
  },
  {
   "cell_type": "code",
   "execution_count": null,
   "metadata": {
    "id": "xi-VHeYViwks"
   },
   "outputs": [],
   "source": [
    "temp.drop_duplicates(subset=\"Age\",keep=False)"
   ]
  },
  {
   "cell_type": "code",
   "execution_count": null,
   "metadata": {
    "id": "qoax6O9Aiwks"
   },
   "outputs": [],
   "source": [
    "#ufo\n",
    "import pandas as pd"
   ]
  },
  {
   "cell_type": "markdown",
   "metadata": {
    "id": "sN6P3yAWiwks"
   },
   "source": [
    "# Displaying Compressed Data"
   ]
  },
  {
   "cell_type": "code",
   "execution_count": null,
   "metadata": {
    "id": "r-aPB5l3iwks"
   },
   "outputs": [],
   "source": [
    "pd.set_option(\"display.max_columns\",None)\n",
    "pd.set_option(\"display.max_rows\",None)"
   ]
  },
  {
   "cell_type": "code",
   "execution_count": null,
   "metadata": {
    "id": "0h9aEf8Riwks"
   },
   "outputs": [],
   "source": [
    "ufo"
   ]
  },
  {
   "cell_type": "code",
   "execution_count": null,
   "metadata": {
    "id": "8LmZrkV8iwks"
   },
   "outputs": [],
   "source": [
    "#ufo[ufo[\"City\"]==\"Seattle\"]\n",
    "\n",
    "#ufo.loc[ufo[\"City\"]==\"Seattle\",:]\n",
    "\n",
    "\n",
    "ufo.iloc[[0,1,2,3,4,5,6,67,34,78,12,999,15000],].drop(\"Unnamed: 0\",axis=1)\n",
    "\n",
    "temp=ufo.iloc[[0,1,2,3,4,5,6,67,34,78,12,999,15000],]\n"
   ]
  },
  {
   "cell_type": "code",
   "execution_count": null,
   "metadata": {
    "id": "C7pIwfqviwks"
   },
   "outputs": [],
   "source": [
    "#temp.drop(\"Unnamed: 0\",axis=1,inplace=True)\n",
    "#temp\n",
    "\n",
    "ufo.iloc[100:1000:6,::2]"
   ]
  },
  {
   "cell_type": "code",
   "execution_count": null,
   "metadata": {
    "id": "j-xMRT6tiwkt"
   },
   "outputs": [],
   "source": [
    "#Exercise\n",
    "#Find the name of the Manufacturers who are manufacturing only the Cars(Vehicle_type)\n",
    "#Find the name of the Manufacturer who are manufacturing only the Passenger_Vehicle, also find top3 Manufacturers who-\n",
    "# are generating most Sales."
   ]
  },
  {
   "cell_type": "code",
   "execution_count": null,
   "metadata": {
    "id": "d7GuUTc4iwkt",
    "outputId": "e6729a98-8f0e-4807-e476-59afbe338297"
   },
   "outputs": [
    {
     "data": {
      "text/html": [
       "<div>\n",
       "<style scoped>\n",
       "    .dataframe tbody tr th:only-of-type {\n",
       "        vertical-align: middle;\n",
       "    }\n",
       "\n",
       "    .dataframe tbody tr th {\n",
       "        vertical-align: top;\n",
       "    }\n",
       "\n",
       "    .dataframe thead th {\n",
       "        text-align: right;\n",
       "    }\n",
       "</style>\n",
       "<table border=\"1\" class=\"dataframe\">\n",
       "  <thead>\n",
       "    <tr style=\"text-align: right;\">\n",
       "      <th></th>\n",
       "      <th>Manufacturer</th>\n",
       "      <th>Model</th>\n",
       "      <th>Sales in thousands</th>\n",
       "    </tr>\n",
       "  </thead>\n",
       "  <tbody>\n",
       "    <tr>\n",
       "      <th>56</th>\n",
       "      <td>Ford</td>\n",
       "      <td>F-Series</td>\n",
       "      <td>540.561</td>\n",
       "    </tr>\n",
       "    <tr>\n",
       "      <th>52</th>\n",
       "      <td>Ford</td>\n",
       "      <td>Explorer</td>\n",
       "      <td>276.747</td>\n",
       "    </tr>\n",
       "    <tr>\n",
       "      <th>137</th>\n",
       "      <td>Toyota</td>\n",
       "      <td>Camry</td>\n",
       "      <td>247.994</td>\n",
       "    </tr>\n",
       "    <tr>\n",
       "      <th>49</th>\n",
       "      <td>Ford</td>\n",
       "      <td>Taurus</td>\n",
       "      <td>245.815</td>\n",
       "    </tr>\n",
       "    <tr>\n",
       "      <th>58</th>\n",
       "      <td>Honda</td>\n",
       "      <td>Accord</td>\n",
       "      <td>230.902</td>\n",
       "    </tr>\n",
       "  </tbody>\n",
       "</table>\n",
       "</div>"
      ],
      "text/plain": [
       "    Manufacturer              Model  Sales in thousands\n",
       "56          Ford  F-Series                      540.561\n",
       "52          Ford  Explorer                      276.747\n",
       "137       Toyota  Camry                         247.994\n",
       "49          Ford  Taurus                        245.815\n",
       "58         Honda  Accord                        230.902"
      ]
     },
     "execution_count": 98,
     "metadata": {},
     "output_type": "execute_result"
    }
   ],
   "source": [
    "#car[car[\"Vehicle type\"]==\"Passenger\"][[\"Manufacturer\",\"Vehicle type\"]]\n",
    "car[[\"Manufacturer\",\"Model\",\"Sales in thousands\"]].nlargest(5,\"Sales in thousands\")\n",
    "car[[\"Manufacturer\",\"Model\",\"Sales in thousands\"]].sort_values(\"Sales in thousands\",ascending=False).head()"
   ]
  },
  {
   "cell_type": "code",
   "execution_count": null,
   "metadata": {
    "id": "67fq0Fh8iwkt"
   },
   "outputs": [],
   "source": [
    "car[car[\"Manufacturer\"]=='Volvo        ']\n",
    "car[\"Manufacturer\"]=car[\"Manufacturer\"].str.strip()"
   ]
  },
  {
   "cell_type": "code",
   "execution_count": null,
   "metadata": {
    "id": "2sJxreKZiwkt",
    "outputId": "bab39ad2-b784-4eae-e8b3-a734f7c184fc"
   },
   "outputs": [
    {
     "data": {
      "text/plain": [
       "array(['Integra          ', 'TL               ', 'CL               ',\n",
       "       'RL               ', 'A4               ', 'A6               ',\n",
       "       'A8               ', '323i             ', '328i             ',\n",
       "       '528i             ', 'Century          ', 'Regal            ',\n",
       "       'Park Avenue      ', 'LeSabre          ', 'DeVille          ',\n",
       "       'Seville          ', 'Eldorado         ', 'Catera           ',\n",
       "       'Escalade         ', 'Cavalier         ', 'Malibu           ',\n",
       "       'Lumina           ', 'Monte Carlo      ', 'Camaro           ',\n",
       "       'Corvette         ', 'Prizm            ', 'Metro            ',\n",
       "       'Impala           ', 'Sebring Coupe    ', 'Sebring Conv.    ',\n",
       "       'Concorde         ', 'Cirrus           ', 'LHS              ',\n",
       "       'Town & Country   ', '300M             ', 'Neon             ',\n",
       "       'Avenger          ', 'Stratus          ', 'Intrepid         ',\n",
       "       'Viper            ', 'Ram Pickup       ', 'Ram Wagon        ',\n",
       "       'Ram Van          ', 'Dakota           ', 'Durango          ',\n",
       "       'Caravan          ', 'Escort           ', 'Mustang          ',\n",
       "       'Contour          ', 'Taurus           ', 'Focus            ',\n",
       "       'Crown Victoria   ', 'Explorer         ', 'Windstar         ',\n",
       "       'Expedition       ', 'Ranger           ', 'F-Series         ',\n",
       "       'Civic            ', 'Accord           ', 'CR-V             ',\n",
       "       'Passport         ', 'Odyssey          ', 'Accent           ',\n",
       "       'Elantra          ', 'Sonata           ', 'I30              ',\n",
       "       'S-Type           ', 'Wrangler         ', 'Cherokee         ',\n",
       "       'Grand Cherokee   ', 'ES300            ', 'GS300            ',\n",
       "       'GS400            ', 'LS400            ', 'LX470            ',\n",
       "       'RX300            ', 'Continental      ', 'Town car         ',\n",
       "       'Navigator        ', 'Mirage           ', 'Eclipse          ',\n",
       "       'Galant           ', 'Diamante         ', '3000GT           ',\n",
       "       'Montero          ', 'Montero Sport    ', 'Mystique         ',\n",
       "       'Cougar           ', 'Sable            ', 'Grand Marquis    ',\n",
       "       'Mountaineer      ', 'Villager         ', 'C-Class          ',\n",
       "       'E-Class          ', 'S-Class          ', 'SL-Class         ',\n",
       "       'SLK              ', 'SLK230           ', 'CLK Coupe        ',\n",
       "       'CL500            ', 'M-Class          ', 'Sentra           ',\n",
       "       'Altima           ', 'Maxima           ', 'Quest            ',\n",
       "       'Pathfinder       ', 'Xterra           ', 'Frontier         ',\n",
       "       'Cutlass          ', 'Intrigue         ', 'Alero            ',\n",
       "       'Aurora           ', 'Bravada          ', 'Silhouette       ',\n",
       "       'Neon             ', 'Breeze           ', 'Voyager          ',\n",
       "       'Prowler          ', 'Sunfire          ', 'Grand Am         ',\n",
       "       'Firebird         ', 'Grand Prix       ', 'Bonneville       ',\n",
       "       'Montana          ', 'Boxter           ', 'Carrera Coupe    ',\n",
       "       'Carrera Cabriolet', '5-Sep', '3-Sep', 'SL               ',\n",
       "       'SC               ', 'SW               ', 'LW               ',\n",
       "       'LS               ', 'Outback          ', 'Forester         ',\n",
       "       'Corolla          ', 'Camry            ', 'Avalon           ',\n",
       "       'Celica           ', 'Tacoma           ', 'Sienna           ',\n",
       "       'RAV4             ', '4Runner          ', 'Land Cruiser     ',\n",
       "       'Golf             ', 'Jetta            ', 'Passat           ',\n",
       "       'Cabrio           ', 'GTI              ', 'Beetle           ',\n",
       "       'S40              ', 'V40              ', 'S70              ',\n",
       "       'V70              ', 'C70              ', 'S80              '],\n",
       "      dtype=object)"
      ]
     },
     "execution_count": 39,
     "metadata": {},
     "output_type": "execute_result"
    }
   ],
   "source": [
    "car[\"Manufacturer\"].values\n",
    "#car[car[\"Manufacturer\"]==\"Dodge\"]\n",
    "car[\"Model\"].values"
   ]
  },
  {
   "cell_type": "code",
   "execution_count": null,
   "metadata": {
    "id": "-d5UXRzziwkt"
   },
   "outputs": [],
   "source": [
    "#nlargest()\n",
    "#nsmallest()"
   ]
  },
  {
   "cell_type": "code",
   "execution_count": null,
   "metadata": {
    "id": "my7LE1uniwkt"
   },
   "outputs": [],
   "source": [
    "#ufo.head()\n",
    "#Seattle, San Diego, Miami, Albuquerque, Springfield, Tucson, Colorado Springs, Jacksonville"
   ]
  },
  {
   "cell_type": "markdown",
   "metadata": {
    "id": "MSFopk-8iwkt"
   },
   "source": [
    "# Great Job!"
   ]
  }
 ],
 "metadata": {
  "colab": {
   "provenance": []
  },
  "kernelspec": {
   "display_name": "Python 3 (ipykernel)",
   "language": "python",
   "name": "python3"
  },
  "language_info": {
   "codemirror_mode": {
    "name": "ipython",
    "version": 3
   },
   "file_extension": ".py",
   "mimetype": "text/x-python",
   "name": "python",
   "nbconvert_exporter": "python",
   "pygments_lexer": "ipython3",
   "version": "3.11.5"
  }
 },
 "nbformat": 4,
 "nbformat_minor": 1
}
