{
 "cells": [
  {
   "cell_type": "code",
   "execution_count": 1,
   "id": "d6d2afc7",
   "metadata": {},
   "outputs": [],
   "source": [
    "dict={}"
   ]
  },
  {
   "cell_type": "code",
   "execution_count": 4,
   "id": "1075ee9b",
   "metadata": {},
   "outputs": [
    {
     "name": "stdout",
     "output_type": "stream",
     "text": [
      "{0: 1}\n"
     ]
    }
   ],
   "source": [
    "print(dict)"
   ]
  },
  {
   "cell_type": "code",
   "execution_count": 3,
   "id": "d241a055",
   "metadata": {},
   "outputs": [],
   "source": [
    "dict[0]=1"
   ]
  },
  {
   "cell_type": "code",
   "execution_count": 7,
   "id": "d636dc77",
   "metadata": {},
   "outputs": [],
   "source": [
    "x=[1,1,1,2,2,3]"
   ]
  },
  {
   "cell_type": "code",
   "execution_count": 6,
   "id": "862286f4",
   "metadata": {},
   "outputs": [],
   "source": [
    "k=2"
   ]
  },
  {
   "cell_type": "code",
   "execution_count": 9,
   "id": "71dc3cd8",
   "metadata": {},
   "outputs": [
    {
     "data": {
      "text/plain": [
       "False"
      ]
     },
     "execution_count": 9,
     "metadata": {},
     "output_type": "execute_result"
    }
   ],
   "source": [
    "1 in  dict"
   ]
  },
  {
   "cell_type": "code",
   "execution_count": 10,
   "id": "149b33b2",
   "metadata": {},
   "outputs": [],
   "source": [
    "for i in x:\n",
    "    if(i in dict):\n",
    "        dict[i]+=1\n",
    "    else:\n",
    "        dict[i]=1\n",
    "        "
   ]
  },
  {
   "cell_type": "code",
   "execution_count": 11,
   "id": "a624627d",
   "metadata": {},
   "outputs": [
    {
     "data": {
      "text/plain": [
       "{0: 1, 1: 3, 2: 2, 3: 1}"
      ]
     },
     "execution_count": 11,
     "metadata": {},
     "output_type": "execute_result"
    }
   ],
   "source": [
    "dict"
   ]
  },
  {
   "cell_type": "code",
   "execution_count": 13,
   "id": "5114a53b",
   "metadata": {},
   "outputs": [
    {
     "data": {
      "text/plain": [
       "1"
      ]
     },
     "execution_count": 13,
     "metadata": {},
     "output_type": "execute_result"
    }
   ],
   "source": [
    "dict[0]"
   ]
  },
  {
   "cell_type": "code",
   "execution_count": 1,
   "id": "bafc3996",
   "metadata": {},
   "outputs": [],
   "source": [
    "#lamda function"
   ]
  },
  {
   "cell_type": "code",
   "execution_count": 2,
   "id": "74d8d941",
   "metadata": {},
   "outputs": [
    {
     "name": "stdout",
     "output_type": "stream",
     "text": [
      "15\n"
     ]
    }
   ],
   "source": [
    "x = lambda a : a + 10\n",
    "print(x(5))"
   ]
  },
  {
   "cell_type": "code",
   "execution_count": 3,
   "id": "b13a8f53",
   "metadata": {},
   "outputs": [
    {
     "ename": "NameError",
     "evalue": "name 'a' is not defined",
     "output_type": "error",
     "traceback": [
      "\u001b[1;31m---------------------------------------------------------------------------\u001b[0m",
      "\u001b[1;31mNameError\u001b[0m                                 Traceback (most recent call last)",
      "Cell \u001b[1;32mIn[3], line 1\u001b[0m\n\u001b[1;32m----> 1\u001b[0m \u001b[38;5;28mmin\u001b[39m \u001b[38;5;241m=\u001b[39m a \u001b[38;5;28;01mif\u001b[39;00m a \u001b[38;5;241m<\u001b[39m b \u001b[38;5;28;01melse\u001b[39;00m b\n",
      "\u001b[1;31mNameError\u001b[0m: name 'a' is not defined"
     ]
    }
   ],
   "source": [
    "min = a if a < b else b"
   ]
  },
  {
   "cell_type": "code",
   "execution_count": 1,
   "id": "f65c7d54",
   "metadata": {},
   "outputs": [],
   "source": [
    "paraeters={}"
   ]
  },
  {
   "cell_type": "code",
   "execution_count": 5,
   "id": "b83ad77e",
   "metadata": {},
   "outputs": [],
   "source": [
    "a=[1]*4"
   ]
  },
  {
   "cell_type": "code",
   "execution_count": 6,
   "id": "687e2cf8",
   "metadata": {},
   "outputs": [
    {
     "data": {
      "text/plain": [
       "[1, 1, 1, 1]"
      ]
     },
     "execution_count": 6,
     "metadata": {},
     "output_type": "execute_result"
    }
   ],
   "source": [
    "a"
   ]
  },
  {
   "cell_type": "code",
   "execution_count": 25,
   "id": "9dd5495c",
   "metadata": {},
   "outputs": [],
   "source": [
    "nums =[1,2,3,4]"
   ]
  },
  {
   "cell_type": "code",
   "execution_count": 27,
   "id": "bdb30789",
   "metadata": {},
   "outputs": [
    {
     "name": "stdout",
     "output_type": "stream",
     "text": [
      "4\n",
      "3\n",
      "2\n"
     ]
    }
   ],
   "source": [
    "for i in range(1,len(nums)):\n",
    "    \n",
    "    print(nums[-i],)"
   ]
  },
  {
   "cell_type": "code",
   "execution_count": 33,
   "id": "711401d2",
   "metadata": {},
   "outputs": [],
   "source": [
    "a1=[]\n",
    "a2=[]\n",
    "for i in range(len(nums)):\n",
    "    if(i==0):\n",
    "        a1.append(nums[i])\n",
    "        a2.append(nums[-i-1])\n",
    "    else:\n",
    "        a1.append(nums[i]*a1[i-1])\n",
    "        a2.insert(0,nums[-i-1]*a2[-i])\n",
    "ans=[]\n",
    "for i in range(len(nums)):\n",
    "    if(i==0):\n",
    "        ans.append(a2[i+1])\n",
    "        \n",
    "    elif(i==len(nums)-1):\n",
    "        ans.append(a1[i-1])       \n",
    "    else:\n",
    "        ans.append(a1[i-1]*a2[i+1])"
   ]
  },
  {
   "cell_type": "code",
   "execution_count": 34,
   "id": "82865b1b",
   "metadata": {},
   "outputs": [
    {
     "data": {
      "text/plain": [
       "[1, 2, 6, 24]"
      ]
     },
     "execution_count": 34,
     "metadata": {},
     "output_type": "execute_result"
    }
   ],
   "source": [
    "a1"
   ]
  },
  {
   "cell_type": "code",
   "execution_count": 35,
   "id": "eb8f1984",
   "metadata": {},
   "outputs": [
    {
     "data": {
      "text/plain": [
       "[24, 24, 12, 4]"
      ]
     },
     "execution_count": 35,
     "metadata": {},
     "output_type": "execute_result"
    }
   ],
   "source": [
    "a2"
   ]
  },
  {
   "cell_type": "code",
   "execution_count": 36,
   "id": "64396c35",
   "metadata": {},
   "outputs": [
    {
     "data": {
      "text/plain": [
       "[24, 12, 8, 6]"
      ]
     },
     "execution_count": 36,
     "metadata": {},
     "output_type": "execute_result"
    }
   ],
   "source": [
    "[24,12,8,6]"
   ]
  },
  {
   "cell_type": "code",
   "execution_count": 37,
   "id": "c46e2442",
   "metadata": {},
   "outputs": [
    {
     "data": {
      "text/plain": [
       "[24, 12, 8, 6]"
      ]
     },
     "execution_count": 37,
     "metadata": {},
     "output_type": "execute_result"
    }
   ],
   "source": [
    "ans"
   ]
  },
  {
   "cell_type": "code",
   "execution_count": 38,
   "id": "479fbeeb",
   "metadata": {},
   "outputs": [
    {
     "name": "stdout",
     "output_type": "stream",
     "text": [
      "\n"
     ]
    },
    {
     "ename": "TypeError",
     "evalue": "list.append() takes exactly one argument (0 given)",
     "output_type": "error",
     "traceback": [
      "\u001b[1;31m---------------------------------------------------------------------------\u001b[0m",
      "\u001b[1;31mTypeError\u001b[0m                                 Traceback (most recent call last)",
      "Cell \u001b[1;32mIn[38], line 4\u001b[0m\n\u001b[0;32m      2\u001b[0m \u001b[38;5;28;01mfor\u001b[39;00m i \u001b[38;5;129;01min\u001b[39;00m \u001b[38;5;28mrange\u001b[39m(\u001b[38;5;28mlen\u001b[39m(nums)):\n\u001b[0;32m      3\u001b[0m     \u001b[38;5;28mprint\u001b[39m()\n\u001b[1;32m----> 4\u001b[0m     a2\u001b[38;5;241m.\u001b[39mappend()\n",
      "\u001b[1;31mTypeError\u001b[0m: list.append() takes exactly one argument (0 given)"
     ]
    }
   ],
   "source": [
    "a2=[]\n",
    "for i in range(len(nums)):\n",
    "    print()\n",
    "    a2.append()"
   ]
  },
  {
   "cell_type": "code",
   "execution_count": 40,
   "id": "092468bf",
   "metadata": {},
   "outputs": [],
   "source": [
    "answer = [1] * len(nums)\n",
    "prefix = 1\n",
    "for i in range(len(nums)):\n",
    "    answer[i] = prefix\n",
    "    prefix = prefix * nums[i]\n",
    "postfix = 1\n",
    "for i in range(len(nums) - 1, -1, -1): # iterate in reverse order\n",
    "    answer[i] = answer[i] * postfix # dont replace the old prefix value\n",
    "    postfix = postfix * nums[i]\n"
   ]
  },
  {
   "cell_type": "code",
   "execution_count": null,
   "id": "5fa58114",
   "metadata": {},
   "outputs": [],
   "source": []
  },
  {
   "cell_type": "code",
   "execution_count": null,
   "id": "79ce3325",
   "metadata": {},
   "outputs": [],
   "source": []
  }
 ],
 "metadata": {
  "kernelspec": {
   "display_name": "Python 3 (ipykernel)",
   "language": "python",
   "name": "python3"
  },
  "language_info": {
   "codemirror_mode": {
    "name": "ipython",
    "version": 3
   },
   "file_extension": ".py",
   "mimetype": "text/x-python",
   "name": "python",
   "nbconvert_exporter": "python",
   "pygments_lexer": "ipython3",
   "version": "3.11.5"
  }
 },
 "nbformat": 4,
 "nbformat_minor": 5
}
