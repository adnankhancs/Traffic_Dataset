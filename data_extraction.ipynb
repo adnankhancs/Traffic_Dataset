{
 "cells": [
  {
   "cell_type": "code",
   "execution_count": 155,
   "id": "f2519d7b",
   "metadata": {},
   "outputs": [],
   "source": [
    "# Import libraries\n",
    "import requests\n",
    "from bs4 import BeautifulSoup\n",
    "base_url = \"https://www.nhtsa.gov/file-downloads?p=nhtsa/downloads/FARS\"\n",
    "\n",
    "\n",
    "url = f\"{base_url}/2019/National/\"\n",
    "# URL from which pdfs to be downloaded\n",
    "\n",
    "response = requests.get(url)\n",
    "\n",
    "# Parse text obtained\n",
    "soup = BeautifulSoup(response.text, 'html.parser')\n"
   ]
  },
  {
   "cell_type": "code",
   "execution_count": 156,
   "id": "5033ad41",
   "metadata": {},
   "outputs": [],
   "source": [
    "\n",
    "def get_download_link(year):\n",
    "    base_url = \"https://www.nhtsa.gov/file-downloads?p=nhtsa/downloads/FARS\"\n",
    "    print(year)\n",
    "\n",
    "    url = f\"{base_url}/{year}/National/\"\n",
    "    response = requests.get(url)\n",
    "    li=[]\n",
    "    soup = BeautifulSoup(response.text, 'html.parser')\n",
    "\n",
    "    for l in soup.find_all('a'):\n",
    "        if('NationalCSV.zip' in l.get('href')):\n",
    "            #print(l.get('href'))\n",
    "            li.append(l.get('href'))\n",
    "    return li[1]   "
   ]
  },
  {
   "cell_type": "code",
   "execution_count": 157,
   "id": "6f6ffbc5",
   "metadata": {},
   "outputs": [
    {
     "name": "stdout",
     "output_type": "stream",
     "text": [
      "2018\n"
     ]
    }
   ],
   "source": [
    "a=get_download_link(2018)"
   ]
  },
  {
   "cell_type": "code",
   "execution_count": 158,
   "id": "855222e4",
   "metadata": {},
   "outputs": [
    {
     "name": "stdout",
     "output_type": "stream",
     "text": [
      "2015\n",
      "2016\n",
      "2017\n",
      "2018\n",
      "2019\n",
      "2020\n",
      "2021\n"
     ]
    }
   ],
   "source": [
    "links=[]\n",
    "for i in range(2015,2022):\n",
    "    links.append(get_download_link(i)) "
   ]
  },
  {
   "cell_type": "code",
   "execution_count": 159,
   "id": "0268c5da",
   "metadata": {},
   "outputs": [
    {
     "data": {
      "text/plain": [
       "['https://static.nhtsa.gov/nhtsa/downloads/FARS/2015/National/FARS2015NationalCSV.zip',\n",
       " 'https://static.nhtsa.gov/nhtsa/downloads/FARS/2016/National/FARS2016NationalCSV.zip',\n",
       " 'https://static.nhtsa.gov/nhtsa/downloads/FARS/2017/National/FARS2017NationalCSV.zip',\n",
       " 'https://static.nhtsa.gov/nhtsa/downloads/FARS/2018/National/FARS2018NationalCSV.zip',\n",
       " 'https://static.nhtsa.gov/nhtsa/downloads/FARS/2019/National/FARS2019NationalCSV.zip',\n",
       " 'https://static.nhtsa.gov/nhtsa/downloads/FARS/2020/National/FARS2020NationalCSV.zip',\n",
       " 'https://static.nhtsa.gov/nhtsa/downloads/FARS/2021/National/FARS2021NationalCSV.zip']"
      ]
     },
     "execution_count": 159,
     "metadata": {},
     "output_type": "execute_result"
    }
   ],
   "source": [
    "links"
   ]
  },
  {
   "cell_type": "code",
   "execution_count": 160,
   "id": "c348e959",
   "metadata": {},
   "outputs": [
    {
     "name": "stdout",
     "output_type": "stream",
     "text": [
      "2016\n",
      "2017\n",
      "2018\n",
      "2019\n",
      "2020\n",
      "2021\n",
      "2022\n"
     ]
    }
   ],
   "source": [
    "y=2015\n",
    "for i in links:\n",
    "    r = requests.get(i, stream = True) \n",
    "    \n",
    "    with open(\"Traffic\"+str(y)+\".zip\",\"wb\") as zip: \n",
    "        y=y+1\n",
    "        print(y)\n",
    "        for chunk in r.iter_content(chunk_size=1024): \n",
    "  \n",
    "         # writing one chunk at a time to pdf file \n",
    "             if chunk: \n",
    "                 zip.write(chunk)\n"
   ]
  },
  {
   "cell_type": "markdown",
   "id": "373ee7ea",
   "metadata": {},
   "source": [
    "# Extract Accident files from zipped files"
   ]
  },
  {
   "cell_type": "code",
   "execution_count": 187,
   "id": "cdec9222",
   "metadata": {},
   "outputs": [],
   "source": [
    "import os\n",
    "import zipfile\n",
    "\n",
    "# Path to the zipped file\n",
    "def unzip(year):\n",
    "    zip_file_path = r\"C:\\Users\\adnan\\Desktop\\python\\traffic\"+str(year)+r\".zip\"\n",
    "\n",
    "# Name of the file to extract from the zip\n",
    "    f1='FARS'+str(year)+'NationalCSV'\n",
    "    file_CSV = r'accident.CSV'\n",
    "    file_csv = r'accident.csv'\n",
    "    file_to_extract=os.path.join(f1,file_csv)\n",
    "    print(file_to_extract)\n",
    "    file_to_extract=file_to_extract.replace(os.sep, '/')\n",
    "    print(file_to_extract)\n",
    "# Directory to create for saving the extracted file\n",
    "    output_folder = \"Traffic_Data\"\n",
    "\n",
    "# Create the output folder if it doesn't exist\n",
    "    os.makedirs(output_folder, exist_ok=True)\n",
    "\n",
    "\n",
    "    with zipfile.ZipFile(zip_file_path, 'r') as zip_ref:\n",
    "        print(year)\n",
    "        print(zip_ref.namelist())\n",
    "        if file_CSV in zip_ref.namelist():\n",
    "            print(\"this is year\",str(year))\n",
    "            \n",
    "            folder_path = os.path.join(output_folder, f\"trafficdata{year}\")\n",
    "            print(folder_path)\n",
    "            os.makedirs(folder_path,exist_ok=True)\n",
    "            zip_ref.extract(file_CSV, folder_path)\n",
    "            \n",
    "        \n",
    "            \n",
    "    \n",
    "        elif file_to_extract in zip_ref.namelist():\n",
    "            f_name=os.path.join(output_folder,f1)\n",
    "            zip_ref.extract(file_to_extract, output_folder)\n",
    "            \n",
    "           # os.rename(f1, new_folder_name)\n",
    "        \n",
    "            print(f\"File '{file_to_extract}' extracted to '{output_folder}'\")\n",
    "            current_path = os.path.join(output_folder, f1)\n",
    "            #new_path = os.path.join(directory, new_name)\n",
    "\n",
    "\n",
    "\n",
    "            os.rename(current_path, os.path.join(output_folder, f\"trafficdata{year}\"))\n",
    "            print(f\"File '{file_to_extract}' extracted to '{output_folder}'\")\n",
    "        \n",
    "        \n",
    "        else:\n",
    "            print(f\"File '{file_to_extract}' not found in the zip file.\")"
   ]
  },
  {
   "cell_type": "code",
   "execution_count": 186,
   "id": "1fd3a03b",
   "metadata": {},
   "outputs": [
    {
     "name": "stdout",
     "output_type": "stream",
     "text": [
      "FARS2015NationalCSV\\accident.csv\n",
      "FARS2015NationalCSV/accident.csv\n",
      "2015\n",
      "['FARS2015NationalCSV/accident.csv', 'FARS2015NationalCSV/cevent.csv', 'FARS2015NationalCSV/Damage.csv', 'FARS2015NationalCSV/Distract.csv', 'FARS2015NationalCSV/DrImpair.csv', 'FARS2015NationalCSV/Factor.csv', 'FARS2015NationalCSV/Maneuver.csv', 'FARS2015NationalCSV/miacc.csv', 'FARS2015NationalCSV/midrvacc.csv', 'FARS2015NationalCSV/miper.csv', 'FARS2015NationalCSV/nmcrash.csv', 'FARS2015NationalCSV/NMImpair.csv', 'FARS2015NationalCSV/NMPrior.csv', 'FARS2015NationalCSV/parkwork.csv', 'FARS2015NationalCSV/PBType.csv', 'FARS2015NationalCSV/person.csv', 'FARS2015NationalCSV/SafetyEq.csv', 'FARS2015NationalCSV/vehicle.csv', 'FARS2015NationalCSV/VEvent.csv', 'FARS2015NationalCSV/VINDecode.csv', 'FARS2015NationalCSV/Violatn.csv', 'FARS2015NationalCSV/Vision.csv', 'FARS2015NationalCSV/vpicdecode.csv', 'FARS2015NationalCSV/VSOE.csv', 'traffic2015 - Copy.zip']\n",
      "File 'FARS2015NationalCSV/accident.csv' extracted to 'Data_Traffic6'\n",
      "File 'FARS2015NationalCSV/accident.csv' extracted to 'Data_Traffic6'\n",
      "FARS2016NationalCSV\\accident.csv\n",
      "FARS2016NationalCSV/accident.csv\n",
      "2016\n",
      "['accident.CSV', 'CEvent.CSV', 'Damage.CSV', 'Distract.CSV', 'DrImpair.CSV', 'Factor.CSV', 'Maneuver.CSV', 'MIACC.csv', 'MIDRVACC.csv', 'MIPER.csv', 'NMCrash.CSV', 'NMImpair.CSV', 'NMPrior.CSV', 'Parkwork.CSV', 'PBType.CSV', 'Person.CSV', 'SafetyEq.CSV', 'Vehicle.CSV', 'VEvent.CSV', 'Violatn.CSV', 'Vision.CSV', 'vpicdecode.csv', 'vpictrailerdecode.csv', 'VSOE.CSV']\n",
      "this is year 2016\n",
      "Data_Traffic6\\trafficdata2016\n",
      "FARS2017NationalCSV\\accident.csv\n",
      "FARS2017NationalCSV/accident.csv\n",
      "2017\n",
      "['accident.CSV', 'CEvent.CSV', 'Damage.CSV', 'Distract.CSV', 'DrImpair.CSV', 'Factor.CSV', 'Maneuver.CSV', 'MIACC.CSV', 'MIDRVACC.CSV', 'MIPER.CSV', 'NMCrash.CSV', 'NMImpair.CSV', 'NMPrior.CSV', 'Parkwork.CSV', 'PBType.CSV', 'Person.CSV', 'SafetyEq.CSV', 'Vehicle.CSV', 'VEvent.CSV', 'Violatn.CSV', 'Vision.CSV', 'vpicdecode.csv', 'vpictrailerdecode.csv', 'VSOE.CSV']\n",
      "this is year 2017\n",
      "Data_Traffic6\\trafficdata2017\n",
      "FARS2018NationalCSV\\accident.csv\n",
      "FARS2018NationalCSV/accident.csv\n",
      "2018\n",
      "['accident.csv', 'CEvent.CSV', 'Damage.csv', 'Distract.csv', 'DrImpair.csv', 'Drugs.csv', 'Factor.csv', 'Maneuver.csv', 'MIACC.CSV', 'MIDRVACC.CSV', 'MIPER.CSV', 'nmcrash.csv', 'NMImpair.csv', 'NMPrior.csv', 'parkwork.csv', 'PBType.csv', 'person.csv', 'SafetyEq.csv', 'vehicle.csv', 'VEvent.csv', 'Violatn.csv', 'Vision.csv', 'VPICdecode.CSV', 'VPICTrailerdecode.CSV', 'VSOE.csv']\n",
      "File 'FARS2018NationalCSV/accident.csv' not found in the zip file.\n",
      "FARS2019NationalCSV\\accident.csv\n",
      "FARS2019NationalCSV/accident.csv\n",
      "2019\n",
      "['accident.CSV', 'CEvent.CSV', 'Damage.CSV', 'Distract.CSV', 'DrImpair.CSV', 'Drugs.CSV', 'Factor.CSV', 'Maneuver.CSV', 'MIACC.CSV', 'MIDRVACC.CSV', 'MIPER.CSV', 'NMCrash.CSV', 'NMDistract.CSV', 'NMImpair.CSV', 'NMPrior.CSV', 'Parkwork.CSV', 'PBType.CSV', 'Person.CSV', 'Race.CSV', 'SafetyEq.CSV', 'vehicle.csv', 'VEvent.CSV', 'Violatn.CSV', 'Vision.CSV', 'VPICdecode.CSV', 'VPICTrailerdecode.CSV', 'VSOE.CSV']\n",
      "this is year 2019\n",
      "Data_Traffic6\\trafficdata2019\n",
      "FARS2020NationalCSV\\accident.csv\n",
      "FARS2020NationalCSV/accident.csv\n",
      "2020\n",
      "['FARS2020NationalCSV/accident.csv', 'FARS2020NationalCSV/cevent.csv', 'FARS2020NationalCSV/crashrf.csv', 'FARS2020NationalCSV/damage.csv', 'FARS2020NationalCSV/distract.csv', 'FARS2020NationalCSV/drimpair.csv', 'FARS2020NationalCSV/driverrf.csv', 'FARS2020NationalCSV/drugs.csv', 'FARS2020NationalCSV/factor.csv', 'FARS2020NationalCSV/maneuver.csv', 'FARS2020NationalCSV/MIACC.CSV', 'FARS2020NationalCSV/MIDRVACC.CSV', 'FARS2020NationalCSV/MIPER.CSV', 'FARS2020NationalCSV/nmcrash.csv', 'FARS2020NationalCSV/nmdistract.csv', 'FARS2020NationalCSV/nmimpair.csv', 'FARS2020NationalCSV/nmprior.csv', 'FARS2020NationalCSV/parkwork.csv', 'FARS2020NationalCSV/pbtype.csv', 'FARS2020NationalCSV/person.csv', 'FARS2020NationalCSV/personrf.csv', 'FARS2020NationalCSV/pvehiclesf.csv', 'FARS2020NationalCSV/race.csv', 'FARS2020NationalCSV/safetyeq.csv', 'FARS2020NationalCSV/vehicle.csv', 'FARS2020NationalCSV/vehiclesf.csv', 'FARS2020NationalCSV/vevent.csv', 'FARS2020NationalCSV/violatn.csv', 'FARS2020NationalCSV/vision.csv', 'FARS2020NationalCSV/vpicdecode.csv', 'FARS2020NationalCSV/vpictrailerdecode.csv', 'FARS2020NationalCSV/vsoe.csv', 'FARS2020NationalCSV/weather.csv']\n",
      "File 'FARS2020NationalCSV/accident.csv' extracted to 'Data_Traffic6'\n",
      "File 'FARS2020NationalCSV/accident.csv' extracted to 'Data_Traffic6'\n",
      "FARS2021NationalCSV\\accident.csv\n",
      "FARS2021NationalCSV/accident.csv\n",
      "2021\n",
      "['FARS2021NationalCSV/accident.csv', 'FARS2021NationalCSV/cevent.csv', 'FARS2021NationalCSV/crashrf.csv', 'FARS2021NationalCSV/damage.csv', 'FARS2021NationalCSV/distract.csv', 'FARS2021NationalCSV/drimpair.csv', 'FARS2021NationalCSV/driverrf.csv', 'FARS2021NationalCSV/drugs.csv', 'FARS2021NationalCSV/factor.csv', 'FARS2021NationalCSV/maneuver.csv', 'FARS2021NationalCSV/MIACC.CSV', 'FARS2021NationalCSV/MIDRVACC.CSV', 'FARS2021NationalCSV/MIPER.CSV', 'FARS2021NationalCSV/nmcrash.csv', 'FARS2021NationalCSV/nmdistract.csv', 'FARS2021NationalCSV/nmimpair.csv', 'FARS2021NationalCSV/nmprior.csv', 'FARS2021NationalCSV/parkwork.csv', 'FARS2021NationalCSV/pbtype.csv', 'FARS2021NationalCSV/person.csv', 'FARS2021NationalCSV/personrf.csv', 'FARS2021NationalCSV/pvehiclesf.csv', 'FARS2021NationalCSV/race.csv', 'FARS2021NationalCSV/safetyeq.csv', 'FARS2021NationalCSV/vehicle.csv', 'FARS2021NationalCSV/vehiclesf.csv', 'FARS2021NationalCSV/vevent.csv', 'FARS2021NationalCSV/violatn.csv', 'FARS2021NationalCSV/vision.csv', 'FARS2021NationalCSV/vpicdecode.csv', 'FARS2021NationalCSV/vpictrailerdecode.csv', 'FARS2021NationalCSV/vsoe.csv', 'FARS2021NationalCSV/weather.csv']\n",
      "File 'FARS2021NationalCSV/accident.csv' extracted to 'Data_Traffic6'\n",
      "File 'FARS2021NationalCSV/accident.csv' extracted to 'Data_Traffic6'\n"
     ]
    }
   ],
   "source": [
    "for i in range(2015,2022):\n",
    "    unzip(i)"
   ]
  },
  {
   "cell_type": "code",
   "execution_count": null,
   "id": "67b5f13f",
   "metadata": {},
   "outputs": [],
   "source": []
  }
 ],
 "metadata": {
  "kernelspec": {
   "display_name": "Python (GPU)",
   "language": "python",
   "name": "base"
  },
  "language_info": {
   "codemirror_mode": {
    "name": "ipython",
    "version": 3
   },
   "file_extension": ".py",
   "mimetype": "text/x-python",
   "name": "python",
   "nbconvert_exporter": "python",
   "pygments_lexer": "ipython3",
   "version": "3.11.5"
  }
 },
 "nbformat": 4,
 "nbformat_minor": 5
}
